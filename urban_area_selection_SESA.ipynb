{
 "cells": [
  {
   "cell_type": "markdown",
   "id": "db11a685-90fc-40f0-8cff-3b2f6de83b79",
   "metadata": {},
   "source": [
    "# Urban and rural surrounding areas selection\n",
    "\n",
    "***\n",
    "> This work is licensed under a [Creative Commons Attribution 4.0 International License](http://creativecommons.org/licenses/by/4.0)\n",
    ">\n",
    "> ![Creative Commons License >](https://i.creativecommons.org/l/by/4.0/88x31.png)"
   ]
  },
  {
   "cell_type": "markdown",
   "id": "f49b54ad-799c-49a3-a822-5bb3a4e35361",
   "metadata": {},
   "source": [
    "## Load libraries\n",
    "\n",
    "Here we load the required libraries to execute the notebook. Note that specific code from dedicated scripts (`utils.py`, `urban_areas.py`, ...) is also loaded here."
   ]
  },
  {
   "cell_type": "code",
   "execution_count": null,
   "id": "b96a0d2d-2a52-416d-af9b-02cb4604c056",
   "metadata": {},
   "outputs": [],
   "source": [
    "import os\n",
    "import numpy as np\n",
    "import xarray as xr\n",
    "import cf_xarray as cfxr\n",
    "from pathlib import Path\n",
    "import glob\n",
    "import re\n",
    "import geopandas as gpd\n",
    "\n",
    "\n",
    "from urbanmask.urban_areas import (\n",
    "    Urban_vicinity,\n",
    ")\n",
    "\n",
    "from urbanmask.UHI_plot_functions import (\n",
    "    plot_climatology,\n",
    "    plot_annual_cicle,\n",
    "    plot_daily_cicle\n",
    ")\n",
    "\n",
    "from urbanmask.utils import (\n",
    "    kelvin2degC,\n",
    "    traverseDir,\n",
    "    fix_360_longitudes,\n",
    ")"
   ]
  },
  {
   "cell_type": "markdown",
   "id": "32b403a1-a52d-40ab-97ff-23aef5bb1cea",
   "metadata": {},
   "source": [
    "## Input parameters\n",
    "\n",
    "These parameters define the behaviour of the notebook, by selecting the `city`, `variable`, and some other items which are mostly self-explanatory. _(Explain here those with are not)_"
   ]
  },
  {
   "cell_type": "code",
   "execution_count": null,
   "id": "200680c6-63ca-413d-a8ba-51ac71b16c0b",
   "metadata": {
    "tags": [
     "parameters"
    ]
   },
   "outputs": [],
   "source": [
    "city = 'Cordoba'\n",
    "lon_city = -64.18877\n",
    "lat_city = -31.420083\n",
    "\n",
    "\n",
    "domain = 'CSAM-4i'\n",
    "model = 'UCAN'\n",
    "version = \"v1\"\n",
    "scenario = \"evaluation\"\n",
    "\n",
    "urban_th = 60\n",
    "urban_sur_th = 1\n",
    "orog_diff = 100\n",
    "sftlf_th = 70\n",
    "scale = 2\n",
    "min_city_size = 3\n",
    "lon_lim = 1\n",
    "lat_lim = 1\n",
    "\n",
    "urban_var = 'sftuf'\n",
    "\n",
    "variable='sfcWind'"
   ]
  },
  {
   "cell_type": "markdown",
   "id": "d8cf0373-a5fb-4e67-a941-3d7e3e2a0107",
   "metadata": {},
   "source": [
    "Create a directory to save the results for this particular city and model"
   ]
  },
  {
   "cell_type": "code",
   "execution_count": null,
   "id": "182dcd22-53a8-49a1-ab80-36e8414b2b98",
   "metadata": {
    "tags": []
   },
   "outputs": [],
   "source": [
    "base_output_dir = 'results'\n",
    "if model in ['NCAR', 'UCAN']:\n",
    "    output_dir = f\"{base_output_dir}/{city}-{domain}_{model}-WRF433-{version}\"\n",
    "elif model in ['USP']:\n",
    "    output_dir = f\"{base_output_dir}/{city}-{domain}_{model}-RegCM471-{version}\"\n",
    "os.makedirs(output_dir, exist_ok = True)"
   ]
  },
  {
   "cell_type": "markdown",
   "id": "3d9810c5-a133-46e1-bd7e-bec1963e864e",
   "metadata": {},
   "source": [
    "Infer doman resolution in degrees and create filename"
   ]
  },
  {
   "cell_type": "code",
   "execution_count": null,
   "id": "caae2f5e-3a0d-4e7e-87dd-eb706eb6452c",
   "metadata": {},
   "outputs": [],
   "source": [
    "domain_resolution = int( re.search(r'(\\d+)', domain.split('-')[1]).group(1))\n",
    "base_filename = f'{city}-{domain}_{model}-{version}_{scenario}_r1i1p1f1'\n",
    "if model in ['NCAR', 'UCAN']:\n",
    "    base_filename = f'{city}-{domain}_{model}-WRF433-{version}_{scenario}_r1i1p1f1'\n",
    "elif model in ['USP']:\n",
    "    base_filename = f'{city}-{domain}_{model}-RegCM471-{version}_{scenario}_r1i1p1f1'"
   ]
  },
  {
   "cell_type": "markdown",
   "id": "5eaffc01-9f3f-431d-8f7e-36d4fd29ccba",
   "metadata": {},
   "source": [
    "## Define urban areas and vicinity"
   ]
  },
  {
   "cell_type": "markdown",
   "id": "af23934e-8ef1-4997-9d75-311fddc5f129",
   "metadata": {},
   "source": [
    "### Load static variables\n",
    "Load static variables, such as urban fraction (sfturf), terrain elevation (orography) or land-sea fraction (sftlf)."
   ]
  },
  {
   "cell_type": "raw",
   "id": "91e67c79-8f6e-4001-90dd-e9668dfdd379",
   "metadata": {},
   "source": [
    "root = \"/lustre/gmeteo/WORK/ASNA/projects/fpssam/03_FPS-SESA-ext-CPM/data/CORDEX-FPS-SESA/output/CSAM-4/UCAN/ECMWF-ERA5/evaluation/r1i1p1f1/UCAN-WRF433/v1/\"\n",
    "print(root)"
   ]
  },
  {
   "cell_type": "raw",
   "id": "27cb832c-17be-42f0-acca-2400ee4b0948",
   "metadata": {},
   "source": [
    "ds_sftuf = xr.open_dataset(f'{root}fx/landuse/landuse_CSAM-4_ECMWF-ERA5_evaluation_r1i1p1f1_UCAN-WRF433_v1_fx.nc')\n",
    "ds_orog = xr.open_dataset(f'{root}fx/orog/orog_CSAM-4_ECMWF-ERA5_evaluation_r1i1p1f1_UCAN-WRF433_v1_fx.nc')\n",
    "ds_sftlf = xr.open_dataset(f'{root}fx/sftlf/sftlf_CSAM-4_ECMWF-ERA5_evaluation_r1i1p1f1_UCAN-WRF433_v1_fx.nc')\n",
    "\n",
    "ds_sftuf['sftuf'] = (ds_sftuf['landuse'] == 13)*100"
   ]
  },
  {
   "cell_type": "code",
   "execution_count": null,
   "id": "a0cca603-6874-433d-8757-14d09140abb3",
   "metadata": {},
   "outputs": [],
   "source": [
    "root = f'/lustre/gmeteo/WORK/ASNA/projects/fpssam/03_FPS-SESA-ext-CPM/data/CORDEX-FPS-SESA/output/{domain}/{model}/*/evaluation/*/{model}-*/{version}/'"
   ]
  },
  {
   "cell_type": "code",
   "execution_count": null,
   "id": "5d883815-0e3f-4c96-ba00-6c8b0ee7285e",
   "metadata": {},
   "outputs": [],
   "source": [
    "from shapely.geometry import box\n",
    "\n",
    "def create_urban_dataset(ucdb_city, ds):\n",
    "    '''\n",
    "    Creates a dataset for urban areas where each cell value represents the percentage of the cell area\n",
    "    that is within the city limits.\n",
    "\n",
    "    Parameters:ssh-keygen -f \"/home/yaizaquintana/.ssh/known_hosts\" -R \"ui.sci.unican.es\"\n",
    "    ucdb_city: GeoDataFrame containing the city's geometry.\n",
    "    ds: Dataset from which we are extracting the coordinates.\n",
    "\n",
    "    Returns:\n",
    "        ds_urban: An xarray dataset with cells representing the percentage of urban area coverage.\n",
    "    '''\n",
    "\n",
    "    # Create a grid of latitude and longitude edges to define cell boundaries\n",
    "    lon_grid, lat_grid = np.meshgrid(ds['lon'].values, ds['lat'].values)\n",
    "\n",
    "    # Combine all geometries into a single geometry (in case there are multiple city polygons)\n",
    "    city_geometry = ucdb_city.geometry.unary_union\n",
    "\n",
    "    # Create an array to store the percentage of each cell covered by the city\n",
    "    urban_data = np.zeros((ds['lat'].size, ds['lon'].size))\n",
    "\n",
    "    # Calculate percentage for each cell\n",
    "    for i in range(ds['lat'].size):\n",
    "        for j in range(ds['lon'].size):\n",
    "            # Define the boundaries of the cell as a polygon\n",
    "            cell_poly = box(\n",
    "                lon_grid[i, j] - 0.5 * np.diff(ds['lon'])[0],  # left\n",
    "                lat_grid[i, j] - 0.5 * np.diff(ds['lat'])[0],  # bottom\n",
    "                lon_grid[i, j] + 0.5 * np.diff(ds['lon'])[0],  # right\n",
    "                lat_grid[i, j] + 0.5 * np.diff(ds['lat'])[0]   # top\n",
    "            )\n",
    "\n",
    "            # Calculate the area of intersection with the city geometry\n",
    "            intersection_area = cell_poly.intersection(city_geometry).area\n",
    "            cell_area = cell_poly.area\n",
    "\n",
    "            # Calculate the percentage of the cell covered by the city\n",
    "            urban_data[i, j] = (intersection_area / cell_area) * 100\n",
    "\n",
    "    # Create the final xarray dataset containing the urban percentage information\n",
    "    ds_urban = xr.Dataset(\n",
    "        {\n",
    "            'sftuf': (['lat', 'lon'], urban_data)\n",
    "        },\n",
    "        coords={\n",
    "            'lat': ds['lat'],\n",
    "            'lon': ds['lon'],\n",
    "        }\n",
    "    )\n",
    "    \n",
    "    return ds_urban"
   ]
  },
  {
   "cell_type": "code",
   "execution_count": null,
   "id": "5c349777-f2c4-4e2d-8fda-640223decb08",
   "metadata": {},
   "outputs": [],
   "source": [
    "file_pattern = f'{root}fx/orog/orog_{domain}_*.nc'\n",
    "file_list = glob.glob(file_pattern)\n",
    "ds_orog = xr.open_dataset(file_list[0], engine='netcdf4')\n",
    "\n",
    "file_pattern = f'{root}fx/sftlf/sftlf_{domain}_*.nc'\n",
    "file_list = glob.glob(file_pattern)\n",
    "ds_sftlf = xr.open_dataset(file_list[0], engine='netcdf4')\n",
    "\n",
    "if model.startswith(\"USP\") or model.startswith(\"ICTP\"):\n",
    "    #ucdb_info = gpd.read_file(\"/home/yaizaquintana/Desktop/DATA/GHS_STAT_UCDB2015MT_GLOBE_R2019A_V1_2.gpkg\")\n",
    "    ucdb_info = gpd.read_file('/lustre/gmeteo/WORK/DATA/CORDEX-FPS-URB-RCC/nextcloud/CORDEX-CORE-WG/GHS_FUA_UCD/GHS_STAT_UCDB2015MT_GLOBE_R2019A_V1_2.gpkg')\n",
    "    if city == 'PortoAlegre':\n",
    "        ucdb_city = ucdb_info.query('UC_NM_MN == \"Porto Alegre\" ').to_crs(crs='EPSG:4326')\n",
    "    elif city == 'BuenosAires':\n",
    "        ucdb_city = ucdb_info.query('UC_NM_MN == \"Buenos Aires\" ').to_crs(crs='EPSG:4326')\n",
    "    else:\n",
    "        ucdb_city = ucdb_info.query('UC_NM_MN == @city').to_crs(crs='EPSG:4326')\n",
    "    ds_sftuf = create_urban_dataset(ucdb_city, ds_orog)\n",
    "else:\n",
    "    file_pattern = f'{root}fx/landuse/landuse_{domain}_*.nc'\n",
    "    file_list = glob.glob(file_pattern)\n",
    "    ds_sftuf = xr.open_dataset(file_list[0], engine='netcdf4')\n",
    "    ds_sftuf['sftuf'] = (ds_sftuf['landuse'] == 13)*100"
   ]
  },
  {
   "cell_type": "markdown",
   "id": "fc1c4368-c0c7-48c8-96eb-956ce1ec4b82",
   "metadata": {},
   "source": [
    "Add parameters to the function"
   ]
  },
  {
   "cell_type": "code",
   "execution_count": null,
   "id": "8675c8e7-914d-4896-aa22-5767e7b1ab9a",
   "metadata": {},
   "outputs": [],
   "source": [
    "URBAN = Urban_vicinity(\n",
    "    urban_th, \n",
    "    urban_sur_th, \n",
    "    orog_diff, \n",
    "    sftlf_th,\n",
    "    scale,\n",
    "    min_city_size,\n",
    "    lon_city,\n",
    "    lat_city,\n",
    "    lon_lim,\n",
    "    lat_lim,\n",
    "    model,\n",
    "    domain,\n",
    "    urban_var)"
   ]
  },
  {
   "cell_type": "markdown",
   "id": "6565e5e0-417c-48e6-8c00-ca20ce0a6742",
   "metadata": {},
   "source": [
    "Crop area around de city"
   ]
  },
  {
   "cell_type": "code",
   "execution_count": null,
   "id": "2be29cba-208f-4750-81ac-0de8182a6b96",
   "metadata": {},
   "outputs": [],
   "source": [
    "ds_sftuf = URBAN.crop_area_city(ds_sftuf, domain_resolution)\n",
    "ds_orog = URBAN.crop_area_city(ds_orog, domain_resolution)\n",
    "ds_sftlf = URBAN.crop_area_city(ds_sftlf, domain_resolution)"
   ]
  },
  {
   "cell_type": "markdown",
   "id": "8d93b3ef-48cf-4436-925d-d65a58f37fa4",
   "metadata": {},
   "source": [
    "Define masks using the parameters above"
   ]
  },
  {
   "cell_type": "code",
   "execution_count": null,
   "id": "44f29621-11fe-44f3-a656-88a6af94576e",
   "metadata": {},
   "outputs": [],
   "source": [
    "sftuf_mask, sftuf_sur_mask, orog_mask, sftlf_mask = URBAN.define_masks(\n",
    "    ds_sftuf, \n",
    "    ds_orog, \n",
    "    ds_sftlf\n",
    ")"
   ]
  },
  {
   "cell_type": "markdown",
   "id": "cc490de0-2c46-4ab1-b94f-18e189b98772",
   "metadata": {},
   "source": [
    "### Define rural vicinity areas\n",
    "\n",
    "We use an iterative algorithm to select the urban vicinity excluding masked areas"
   ]
  },
  {
   "cell_type": "code",
   "execution_count": null,
   "id": "2f4fb483-d557-476e-881d-71d1a95fef16",
   "metadata": {},
   "outputs": [],
   "source": [
    "urmask = URBAN.select_urban_vicinity(\n",
    "    sftuf_mask, \n",
    "    orog_mask,\n",
    "    sftlf_mask,\n",
    "    sftuf_sur_mask\n",
    ")"
   ]
  },
  {
   "cell_type": "markdown",
   "id": "c852c91e-b28d-484e-b545-3ebb842ecd05",
   "metadata": {},
   "source": [
    "We can plot the masks and the urban vs vicinity areas. The latter are are passed via the `urban_areas` parameter. They are hidden if set to `None`."
   ]
  },
  {
   "cell_type": "code",
   "execution_count": null,
   "id": "62fc296b-653f-4f52-b4b2-3da1f6dd7b92",
   "metadata": {},
   "outputs": [],
   "source": [
    "fig = URBAN.plot_static_variables(ds_sftuf, ds_orog, ds_sftlf,\n",
    "                                 sftuf_mask, orog_mask, sftlf_mask,\n",
    "                                 urban_areas = urmask)\n",
    "fig.savefig(f\"{output_dir}/urmask_{base_filename}_fx.pdf\", bbox_inches='tight')"
   ]
  },
  {
   "cell_type": "markdown",
   "id": "b019434f-c936-4d45-b9eb-2e8efd5c9c0d",
   "metadata": {},
   "source": [
    "Save these masks and urban fraction to NetCDF"
   ]
  },
  {
   "cell_type": "code",
   "execution_count": null,
   "id": "2673d4e7-d737-434e-a1eb-8bfc3e976706",
   "metadata": {
    "tags": []
   },
   "outputs": [],
   "source": [
    "urmask.to_netcdf(f\"{output_dir}/urmask_{base_filename}_fx.nc\")\n",
    "ds_sftuf.rename_vars({'sftuf': 'sfturf'}).to_netcdf(f\"{output_dir}/sfturf_{base_filename}_fx.nc\")"
   ]
  },
  {
   "cell_type": "markdown",
   "id": "0978872a-882f-4ddf-be33-c853aff97289",
   "metadata": {
    "tags": []
   },
   "source": [
    "## Calculate urban heat island effect"
   ]
  },
  {
   "cell_type": "markdown",
   "id": "7e426840-4dba-4b0c-90be-c4ad40ea6796",
   "metadata": {},
   "source": [
    "### Load climate variable"
   ]
  },
  {
   "cell_type": "code",
   "execution_count": null,
   "id": "1f1f548b-5dfe-4672-98ed-2d5945d4f9ea",
   "metadata": {
    "editable": true,
    "slideshow": {
     "slide_type": ""
    },
    "tags": []
   },
   "outputs": [],
   "source": [
    "if model.startswith('USP') and version == 'v1': #ICTP missing\n",
    "    file_pattern = f'{root}3hr/{variable}/*'\n",
    "else:\n",
    "    file_pattern = f'{root}1hr/{variable}/*'\n",
    "    \n",
    "files = np.sort(glob.glob(file_pattern))\n",
    "ds_RCM = xr.open_mfdataset(files, concat_dim='time', combine='nested')\n",
    "ds_RCM = kelvin2degC(ds_RCM, variable)\n",
    "ds_RCM = fix_360_longitudes(ds_RCM)\n",
    "ds_RCM = URBAN.crop_area_city(ds_RCM, domain_resolution).compute()"
   ]
  },
  {
   "cell_type": "markdown",
   "id": "55d09ec7-2c2f-4843-8218-bb6949cbdd4b",
   "metadata": {},
   "source": [
    "### Compute the climatology of anomalies with respect to rural vicinity mean"
   ]
  },
  {
   "cell_type": "code",
   "execution_count": null,
   "id": "5e04f7f2-89dd-4f2f-8fef-57574053d2f9",
   "metadata": {
    "tags": []
   },
   "outputs": [],
   "source": [
    "cachefile = f\"{output_dir}/{variable}_{base_filename}_map-ur.nc\"\n",
    "\n",
    "fig = plot_climatology(variable, URBAN, ds_RCM,  urmask,  cachefile, \n",
    "                       city = city,\n",
    "                       alpha_urb_borders = 1,\n",
    "                       linewidth_urb_borders = 0.6,\n",
    "                       vmax= 80\n",
    "                      )\n",
    "fig.savefig(f\"{output_dir}/{variable}_{base_filename}_map-anom-wrt-rural.pdf\", bbox_inches='tight')"
   ]
  },
  {
   "cell_type": "code",
   "execution_count": null,
   "id": "da1e2374-9c08-41be-86f6-1ecf27abd42d",
   "metadata": {},
   "outputs": [],
   "source": [
    "#Summer\n",
    "cachefile = f\"{output_dir}/{variable}_{base_filename}_map-ur_jja.nc\"\n",
    "\n",
    "ds_RCM_jja = ds_RCM.sel(time=ds_RCM['time'].dt.month.isin([6,7,8]))\n",
    "\n",
    "fig = plot_climatology(variable, URBAN, ds_RCM_jja,  urmask,  cachefile, \n",
    "                       city = city,\n",
    "                       alpha_urb_borders = 1,\n",
    "                       linewidth_urb_borders = 0.6,\n",
    "                       vmax = 80                       \n",
    "                      )\n",
    "fig.savefig(f\"{output_dir}/{variable}_{base_filename}_map-anom-wrt-rural.pdf\", bbox_inches='tight')"
   ]
  },
  {
   "cell_type": "code",
   "execution_count": null,
   "id": "8e0cc740-ba3d-4d3e-8ac7-7a43fee3c36c",
   "metadata": {},
   "outputs": [],
   "source": [
    "#Summer\n",
    "cachefile = f\"{output_dir}/{variable}_{base_filename}_map-ur_djf.nc\"\n",
    "\n",
    "ds_RCM_djf = ds_RCM.sel(time=ds_RCM['time'].dt.month.isin([1,2, 12]))\n",
    "\n",
    "fig = plot_climatology(variable, URBAN, ds_RCM_djf,  urmask,  cachefile, \n",
    "                       city = city,\n",
    "                       alpha_urb_borders = 1,\n",
    "                       linewidth_urb_borders = 0.6,\n",
    "                       vmax = 70\n",
    "                      )\n",
    "fig.savefig(f\"{output_dir}/{variable}_{base_filename}_map-anom-wrt-rural.pdf\", bbox_inches='tight')"
   ]
  },
  {
   "cell_type": "markdown",
   "id": "7064288c-f832-48b9-8972-dbfce4eb11c6",
   "metadata": {},
   "source": [
    "### Compute the annual cycle climatology of anomalies with respect to rural vicinity mean"
   ]
  },
  {
   "cell_type": "code",
   "execution_count": null,
   "id": "fbbe6951-b480-4d2f-ad4b-7eb6d9b3d17a",
   "metadata": {},
   "outputs": [],
   "source": [
    "cachefile = f\"{output_dir}/{variable}_{base_filename}_acycle-ur.nc\"\n",
    "fig = plot_annual_cicle(variable, ds_RCM,  urmask, \n",
    "    data_squares = True, city = city, cache= cachefile, percentiles = [75,90],\n",
    "                       vmax= 50, vmin = -50)\n",
    "fig.savefig(cachefile.replace('.nc', '.pdf'), bbox_inches='tight')"
   ]
  },
  {
   "cell_type": "code",
   "execution_count": null,
   "id": "44b159bc-94a5-44dc-9b05-27c3faeb4c12",
   "metadata": {},
   "outputs": [],
   "source": [
    "#Annual\n",
    "cachefile = f\"{output_dir}/{variable}_{base_filename}_day_cycle-ur.nc\"\n",
    "fig = plot_daily_cicle(variable, ds_RCM,  urmask, \n",
    "    data_squares = True, city = city, cache= cachefile,period='Annual', percentiles = [75,90],\n",
    "                       vmax= 70, vmin = -70)\n",
    "fig.savefig(cachefile.replace('.nc', '.pdf'), bbox_inches='tight')"
   ]
  },
  {
   "cell_type": "code",
   "execution_count": null,
   "id": "92d53c4a-7df0-417d-9561-5525c36b368c",
   "metadata": {},
   "outputs": [],
   "source": [
    "#Summer\n",
    "cachefile = f\"{output_dir}/{variable}_{base_filename}_day_cycle_jja-ur.nc\"\n",
    "fig = plot_daily_cicle(variable, ds_RCM,  urmask, \n",
    "    data_squares = True, city = city, cache= cachefile, period = 'jja', percentiles = [75,90],\n",
    "                       vmax= 70, vmin = -70)\n",
    "fig.savefig(cachefile.replace('.nc', '.pdf'), bbox_inches='tight')"
   ]
  },
  {
   "cell_type": "code",
   "execution_count": null,
   "id": "05340b6a-52f4-45cf-a58f-4aac6d4287e7",
   "metadata": {},
   "outputs": [],
   "source": [
    "#Winter\n",
    "cachefile = f\"{output_dir}/{variable}_{base_filename}_day_cycle_djf-ur.nc\"\n",
    "fig = plot_daily_cicle(variable, ds_RCM,  urmask, \n",
    "    data_squares = True, city = city, cache= cachefile, period = 'djf', percentiles = [75,90],\n",
    "                       vmax= 70, vmin = -70)\n",
    "fig.savefig(cachefile.replace('.nc', '.pdf'), bbox_inches='tight')"
   ]
  }
 ],
 "metadata": {
  "kernelspec": {
   "display_name": "Python 3 (ipykernel)",
   "language": "python",
   "name": "python3"
  },
  "language_info": {
   "codemirror_mode": {
    "name": "ipython",
    "version": 3
   },
   "file_extension": ".py",
   "mimetype": "text/x-python",
   "name": "python",
   "nbconvert_exporter": "python",
   "pygments_lexer": "ipython3",
   "version": "3.12.6"
  }
 },
 "nbformat": 4,
 "nbformat_minor": 5
}
