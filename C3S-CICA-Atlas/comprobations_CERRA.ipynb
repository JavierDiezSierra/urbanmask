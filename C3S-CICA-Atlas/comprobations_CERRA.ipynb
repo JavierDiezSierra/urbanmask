{
 "cells": [
  {
   "cell_type": "code",
   "execution_count": null,
   "id": "cb1b570f-57e3-4c63-a778-2a6c5faccb0d",
   "metadata": {},
   "outputs": [],
   "source": [
    "import xarray as xr\n",
    "import numpy as np\n",
    "import os\n",
    "import geopandas as gpd\n",
    "import matplotlib.pyplot as plt\n",
    "import cartopy.crs as ccrs\n",
    "import cartopy.feature as cfeature\n",
    "import glob"
   ]
  },
  {
   "cell_type": "code",
   "execution_count": null,
   "id": "b937c63b-e675-4b4d-ab1a-535ab89c32dc",
   "metadata": {},
   "outputs": [],
   "source": [
    "var = \"sfcWind\""
   ]
  },
  {
   "cell_type": "code",
   "execution_count": null,
   "id": "3a6cf894-8ed9-4cb1-865b-d6ef8afb025a",
   "metadata": {},
   "outputs": [],
   "source": [
    "root = \"/lustre/gmeteo/WORK/DATA/C3S-CDS/C3S-CICA-Atlas/v2.urban/\"\n",
    "domain= \"CERRAURB\" #\"CORDEX-CORE\"/\"CORDEX-EUR-11\"\n",
    "name = f\"{var}_CERRAURB_mon_198501-202112_v02.nc\"\n",
    "if var in ['cd','hd']:\n",
    "    name = f'{var}_CERRAURB_yr_1985-2021_v02.nc'\n",
    "if var == 'sfcWind':\n",
    "    name= \"sfcwind_CERRAURB_mon_198501-202112_v02.nc\""
   ]
  },
  {
   "cell_type": "code",
   "execution_count": null,
   "id": "08767664-f1b5-48ce-96c7-fcccf32846db",
   "metadata": {},
   "outputs": [],
   "source": [
    "root_nc = root + domain + '/' + name\n",
    "\n",
    "ds_urb = xr.open_dataset(root_nc, engine=\"h5netcdf\", \n",
    "                    chunks={\"time\": 120})"
   ]
  },
  {
   "cell_type": "code",
   "execution_count": null,
   "id": "78f0fae4-381b-4da2-ac37-4bdf1f041b0b",
   "metadata": {},
   "outputs": [],
   "source": [
    "root = \"/lustre/gmeteo/WORK/DATA/C3S-CDS/C3S-CICA-Atlas/v2.urban/\"\n",
    "domain= \"CERRARUR\" #\"CORDEX-CORE\"/\"CORDEX-EUR-11\"\n",
    "name = f\"{var}_CERRARUR_mon_200601-210012_v02.nc\"\n",
    "if var in ['cd','hd']:\n",
    "    name = f'{var}_CERRARUR_yr_1985-2021_v02.nc'\n",
    "if var == 'sfcWind':\n",
    "    name= \"sfcwind_CERRARUR_mon_198501-202112_v02.nc\""
   ]
  },
  {
   "cell_type": "code",
   "execution_count": null,
   "id": "f4e6988c-0cf6-400e-91e4-4434bee04a90",
   "metadata": {},
   "outputs": [],
   "source": [
    "root_nc = root + domain + '/' +   name\n",
    "var = name.split('_')[0]\n",
    "\n",
    "ds_rur = xr.open_dataset(root_nc, engine=\"h5netcdf\", \n",
    "                    chunks={\"time\": 120})"
   ]
  },
  {
   "cell_type": "code",
   "execution_count": null,
   "id": "88775a59-84b7-42a9-a9d7-56e6dc72f019",
   "metadata": {},
   "outputs": [],
   "source": [
    "# Get all shapefiles in the specified directory\n",
    "shapefiles = glob.glob(\"box/*.shp\")\n",
    "\n",
    "# Loop through each shapefile to crop and plot datasets\n",
    "for shp_path in shapefiles:\n",
    "    city_name = shp_path.split(\"/\")[-1].replace(\".shp\", \"\")  # Extract city name from filename\n",
    "    print(f\"Processing: {city_name}\")\n",
    "\n",
    "    # Load the shapefile and convert it to EPSG:4326 projection\n",
    "    bbox = gpd.read_file(shp_path).to_crs(\"EPSG:4326\")\n",
    "\n",
    "    # Ensure that the bounding box properly covers the dataset's extent to avoid empty selections\n",
    "    ds_urb_crop = ds_urb.sel(\n",
    "        lon=slice(bbox.total_bounds[0], bbox.total_bounds[2]),\n",
    "        lat=slice(bbox.total_bounds[1], bbox.total_bounds[3])\n",
    "    )\n",
    "\n",
    "    ds_rur_crop = ds_rur.sel(\n",
    "        lon=slice(bbox.total_bounds[0], bbox.total_bounds[2]),\n",
    "        lat=slice(bbox.total_bounds[1], bbox.total_bounds[3])\n",
    "    )\n",
    "\n",
    "    # Create subplots for urban and rural datasets\n",
    "    fig, axes = plt.subplots(1, 2, figsize=(12, 5), subplot_kw={\"projection\": ccrs.PlateCarree()})\n",
    "\n",
    "    for ax, ds, title in zip(axes, [ds_urb_crop, ds_rur_crop], [\"Urban\", \"Rural\"]):\n",
    "        # Compute the mean across \"member\" and \"time\" dimensions\n",
    "        da = ds[var].mean(dim= \"time\", skipna=True)\n",
    "\n",
    "        # Plot the data\n",
    "        im = da.plot(ax=ax, transform=ccrs.PlateCarree())\n",
    "\n",
    "        # Add map features\n",
    "        ax.add_feature(cfeature.COASTLINE)\n",
    "        ax.add_feature(cfeature.BORDERS, linestyle=\":\")\n",
    "        \n",
    "        # Check if 'bbox.boundary' exists before plotting\n",
    "        bbox.boundary.plot(ax=ax, edgecolor=\"black\")  \n",
    "        \n",
    "        ax.set_title(f\"{title} - {city_name}\")\n",
    "\n",
    "    plt.show()"
   ]
  },
  {
   "cell_type": "code",
   "execution_count": null,
   "id": "e435f82a-0ad7-4bba-9af4-bf7dfd08a0ae",
   "metadata": {},
   "outputs": [],
   "source": []
  },
  {
   "cell_type": "code",
   "execution_count": null,
   "id": "0cf11598-5dde-4f24-a0af-7965a3bc15df",
   "metadata": {},
   "outputs": [],
   "source": []
  },
  {
   "cell_type": "code",
   "execution_count": null,
   "id": "6589dadc-c487-4d55-9b83-988b878ae658",
   "metadata": {},
   "outputs": [],
   "source": []
  }
 ],
 "metadata": {
  "kernelspec": {
   "display_name": "Python 3 (ipykernel)",
   "language": "python",
   "name": "python3"
  },
  "language_info": {
   "codemirror_mode": {
    "name": "ipython",
    "version": 3
   },
   "file_extension": ".py",
   "mimetype": "text/x-python",
   "name": "python",
   "nbconvert_exporter": "python",
   "pygments_lexer": "ipython3",
   "version": "3.12.6"
  }
 },
 "nbformat": 4,
 "nbformat_minor": 5
}
