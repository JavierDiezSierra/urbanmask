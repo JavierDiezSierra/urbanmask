{
 "cells": [
  {
   "cell_type": "code",
   "execution_count": null,
   "id": "cb1b570f-57e3-4c63-a778-2a6c5faccb0d",
   "metadata": {},
   "outputs": [],
   "source": [
    "import xarray as xr\n",
    "import numpy as np\n",
    "import os\n",
    "import geopandas as gpd\n",
    "import matplotlib.pyplot as plt\n",
    "import cartopy.crs as ccrs\n",
    "import cartopy.feature as cfeature\n",
    "import glob"
   ]
  },
  {
   "cell_type": "code",
   "execution_count": null,
   "id": "684884cc-e3f2-49f1-8ff6-2dcb91839f51",
   "metadata": {},
   "outputs": [],
   "source": [
    "var = \"psl\""
   ]
  },
  {
   "cell_type": "code",
   "execution_count": null,
   "id": "3a6cf894-8ed9-4cb1-865b-d6ef8afb025a",
   "metadata": {},
   "outputs": [],
   "source": [
    "root = \"/lustre/gmeteo/WORK/DATA/C3S-CDS/C3S-CICA-Atlas/v2.urban/\"\n",
    "domain= \"CORDEX-COREURB\" #\"CORDEX-CORE\"/\"CORDEX-EUR-11\"\n",
    "scenario = 'rcp85'\n",
    "if scenario == 'historical:\n",
    "    name = f\"{var}_{domain}_historical_mon_197001-200512_v02.nc\"\n",
    "    if var in ['cd','hd']:\n",
    "        name = f'{var}_{domain}_historical_yr_1970-2005_v02.nc'\n",
    "    elif 'var'== 'sfcwind':\n",
    "        name = f'sfcwind_{domain}_historical_mon_197001-200512_v02.nc'\n",
    "else:\n",
    "    name = f\"{var}_{domain}_{scenario}_mon_200601-210012_v02.nc\"\n",
    "    if var in ['cd','hd']:\n",
    "        name = f'{var}_{domain}_{scenario}_yr_2006-2100_v02.nc'\n",
    "    elif 'var'== 'sfcwind':\n",
    "        name = f'sfcwind_{domain}_{scenario}_mon_200601-210012_v02.nc'"
   ]
  },
  {
   "cell_type": "code",
   "execution_count": null,
   "id": "08767664-f1b5-48ce-96c7-fcccf32846db",
   "metadata": {},
   "outputs": [],
   "source": [
    "root_nc = root + domain + '/' + scenario + '/' + name\n",
    "\n",
    "ds_urb = xr.open_dataset(root_nc, engine=\"h5netcdf\", \n",
    "                    chunks={\"time\": 120})"
   ]
  },
  {
   "cell_type": "code",
   "execution_count": null,
   "id": "78f0fae4-381b-4da2-ac37-4bdf1f041b0b",
   "metadata": {},
   "outputs": [],
   "source": [
    "root = \"/lustre/gmeteo/WORK/DATA/C3S-CDS/C3S-CICA-Atlas/v2.urban/\"\n",
    "domain= \"CORDEX-CORERUR\" #\"CORDEX-CORE\"/\"CORDEX-EUR-11\"\n",
    "scenario = 'rcp85'\n",
    "if scenario == 'historical:\n",
    "    name = f\"{var}_{domain}_historical_mon_197001-200512_v02.nc\"\n",
    "    if var in ['cd','hd']:\n",
    "        name = f'{var}_{domain}_historical_yr_1970-2005_v02.nc'\n",
    "    elif 'var'== 'sfcwind':\n",
    "        name = f'sfcwind_{domain}_historical_mon_197001-200512_v02.nc'\n",
    "else:\n",
    "    name = f\"{var}_{domain}_{scenario}_mon_200601-210012_v02.nc\"\n",
    "    if var in ['cd','hd']:\n",
    "        name = f'{var}_{domain}_{scenario}_yr_2006-2100_v02.nc'\n",
    "    elif 'var'== 'sfcwind':\n",
    "        name = f'sfcwind_{domain}_{scenario}_mon_200601-210012_v02.nc'"
   ]
  },
  {
   "cell_type": "code",
   "execution_count": null,
   "id": "f4e6988c-0cf6-400e-91e4-4434bee04a90",
   "metadata": {},
   "outputs": [],
   "source": [
    "root_nc = root + domain + '/' + scenario + '/' + name\n",
    "var = name.split('_')[0]\n",
    "\n",
    "ds_rur = xr.open_dataset(root_nc, engine=\"h5netcdf\", \n",
    "                    chunks={\"time\": 120})"
   ]
  },
  {
   "cell_type": "code",
   "execution_count": null,
   "id": "88775a59-84b7-42a9-a9d7-56e6dc72f019",
   "metadata": {},
   "outputs": [],
   "source": [
    "# Get all shapefiles in the specified directory\n",
    "shapefiles = glob.glob(\"box/*.shp\")\n",
    "\n",
    "# Loop through each shapefile to crop and plot datasets\n",
    "for shp_path in shapefiles:\n",
    "    city_name = shp_path.split(\"/\")[-1].replace(\".shp\", \"\")  # Extract city name from filename\n",
    "    print(f\"Processing: {city_name}\")\n",
    "\n",
    "    # Load the shapefile and convert it to EPSG:4326 projection\n",
    "    bbox = gpd.read_file(shp_path).to_crs(\"EPSG:4326\")\n",
    "\n",
    "    # Ensure that the bounding box properly covers the dataset's extent to avoid empty selections\n",
    "    ds_urb_crop = ds_urb.sel(\n",
    "        lon=slice(bbox.total_bounds[0], bbox.total_bounds[2]),\n",
    "        lat=slice(bbox.total_bounds[1], bbox.total_bounds[3])\n",
    "    )\n",
    "\n",
    "    ds_rur_crop = ds_rur.sel(\n",
    "        lon=slice(bbox.total_bounds[0], bbox.total_bounds[2]),\n",
    "        lat=slice(bbox.total_bounds[1], bbox.total_bounds[3])\n",
    "    )\n",
    "\n",
    "    # Create subplots for urban and rural datasets\n",
    "    fig, axes = plt.subplots(1, 2, figsize=(12, 5), subplot_kw={\"projection\": ccrs.PlateCarree()})\n",
    "\n",
    "    for ax, ds, title in zip(axes, [ds_urb_crop, ds_rur_crop], [\"Urban\", \"Rural\"]):\n",
    "        # Compute the mean across \"member\" and \"time\" dimensions\n",
    "        da = ds[var].mean(dim=[\"member\", \"time\"], skipna=True)\n",
    "\n",
    "        # Plot the data\n",
    "        im = da.plot(ax=ax, transform=ccrs.PlateCarree())\n",
    "\n",
    "        # Add map features\n",
    "        ax.add_feature(cfeature.COASTLINE)\n",
    "        ax.add_feature(cfeature.BORDERS, linestyle=\":\")\n",
    "        \n",
    "        # Check if 'bbox.boundary' exists before plotting\n",
    "        bbox.boundary.plot(ax=ax, edgecolor=\"black\")  \n",
    "        \n",
    "        ax.set_title(f\"{title} - {city_name}\")\n",
    "\n",
    "    plt.show()"
   ]
  },
  {
   "cell_type": "code",
   "execution_count": null,
   "id": "535e8c08-6579-4646-85d1-c7446577c19a",
   "metadata": {},
   "outputs": [],
   "source": []
  }
 ],
 "metadata": {
  "kernelspec": {
   "display_name": "Python 3 (ipykernel)",
   "language": "python",
   "name": "python3"
  },
  "language_info": {
   "codemirror_mode": {
    "name": "ipython",
    "version": 3
   },
   "file_extension": ".py",
   "mimetype": "text/x-python",
   "name": "python",
   "nbconvert_exporter": "python",
   "pygments_lexer": "ipython3",
   "version": "3.12.6"
  }
 },
 "nbformat": 4,
 "nbformat_minor": 5
}
