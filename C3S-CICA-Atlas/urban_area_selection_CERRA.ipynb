{
 "cells": [
  {
   "cell_type": "markdown",
   "id": "bbf5988b-679c-4f1c-9776-7e1d32eae7ac",
   "metadata": {
    "papermill": {
     "duration": 0.019864,
     "end_time": "2024-11-08T10:46:38.975760",
     "exception": false,
     "start_time": "2024-11-08T10:46:38.955896",
     "status": "completed"
    },
    "tags": []
   },
   "source": [
    "# Urban and rural surrounding areas selection\n",
    "\n",
    "***\n",
    "> This work is licensed under a [Creative Commons Attribution 4.0 International License](http://creativecommons.org/licenses/by/4.0)\n",
    ">\n",
    "> ![Creative Commons License >](https://i.creativecommons.org/l/by/4.0/88x31.png)"
   ]
  },
  {
   "cell_type": "markdown",
   "id": "f49b54ad-799c-49a3-a822-5bb3a4e35361",
   "metadata": {
    "papermill": {
     "duration": 0.013819,
     "end_time": "2024-11-08T10:46:39.004731",
     "exception": false,
     "start_time": "2024-11-08T10:46:38.990912",
     "status": "completed"
    },
    "tags": []
   },
   "source": [
    "## Load libraries\n",
    "\n",
    "Here we load the required libraries to execute the notebook. Note that specific code from dedicated scripts (`utils.py`, `urban_areas.py`, ...) is also loaded here."
   ]
  },
  {
   "cell_type": "code",
   "execution_count": null,
   "id": "b96a0d2d-2a52-416d-af9b-02cb4604c056",
   "metadata": {
    "papermill": {
     "duration": 1.706142,
     "end_time": "2024-11-08T10:46:40.723835",
     "exception": false,
     "start_time": "2024-11-08T10:46:39.017693",
     "status": "completed"
    },
    "tags": []
   },
   "outputs": [],
   "source": [
    "import geopandas as gpd\n",
    "from shapely.geometry import Point\n",
    "import pandas as pd\n",
    "\n",
    "import os\n",
    "import numpy as np\n",
    "import xarray as xr\n",
    "import cf_xarray as cfxr\n",
    "from pathlib import Path\n",
    "import glob\n",
    "\n",
    "from urbanmask.urban_areas import (\n",
    "    Urban_vicinity,\n",
    ")\n",
    "\n",
    "from urbanmask.UHI_plot_functions import (\n",
    "    compute_climatology,\n",
    "    plot_climatology,\n",
    "    compute_time_series,\n",
    "    plot_time_series\n",
    ")\n",
    "\n",
    "from urbanmask.utils import (\n",
    "    kelvin2degC,\n",
    "    traverseDir,\n",
    "    fix_360_longitudes,\n",
    ")"
   ]
  },
  {
   "cell_type": "code",
   "execution_count": null,
   "id": "57b7728a-356f-4410-a28b-047f9b620c0f",
   "metadata": {
    "papermill": {
     "duration": 0.029256,
     "end_time": "2024-11-08T10:46:40.772886",
     "exception": false,
     "start_time": "2024-11-08T10:46:40.743630",
     "status": "completed"
    },
    "tags": []
   },
   "outputs": [],
   "source": [
    "from lib.utils import latest_version, fix_360_longitudes\n",
    "from lib.interpolater import Interpolator"
   ]
  },
  {
   "cell_type": "markdown",
   "id": "9b22de44-3b22-4a7f-90d0-8887f3a503ee",
   "metadata": {
    "papermill": {
     "duration": 0.013645,
     "end_time": "2024-11-08T10:46:40.801026",
     "exception": false,
     "start_time": "2024-11-08T10:46:40.787381",
     "status": "completed"
    },
    "tags": []
   },
   "source": [
    "## Input parameters\n",
    "\n",
    "These parameters define the behavior of the notebook by selecting the `city`, `variable`, and other items, most of which are self-explanatory. _(Provide additional explanations here for any parameters that are not self-explanatory)._"
   ]
  },
  {
   "cell_type": "code",
   "execution_count": null,
   "id": "200680c6-63ca-413d-a8ba-51ac71b16c0b",
   "metadata": {
    "papermill": {
     "duration": 0.02553,
     "end_time": "2024-11-08T10:46:40.840368",
     "exception": false,
     "start_time": "2024-11-08T10:46:40.814838",
     "status": "completed"
    },
    "tags": [
     "parameters"
    ]
   },
   "outputs": [],
   "source": [
    "# Parameters\n",
    "city = 'Naples'\n",
    "name = 'Naples'\n",
    "lon_city = 14.2681\n",
    "lat_city = 40.8518\n",
    "\n",
    "model = 'CERRA'\n",
    "variable= 't'\n",
    "\n",
    "urban_th = 60\n",
    "urban_sur_th = 10\n",
    "orog_diff = 100\n",
    "sftlf_th = 70\n",
    "scale = 2\n",
    "min_city_size = 0\n",
    "lon_lim = 1\n",
    "lat_lim = 1"
   ]
  },
  {
   "cell_type": "markdown",
   "id": "d8cf0373-a5fb-4e67-a941-3d7e3e2a0107",
   "metadata": {
    "papermill": {
     "duration": 0.011422,
     "end_time": "2024-11-08T10:46:40.900313",
     "exception": false,
     "start_time": "2024-11-08T10:46:40.888891",
     "status": "completed"
    },
    "tags": []
   },
   "source": [
    "Create a directory to save the results for this particular city and model"
   ]
  },
  {
   "cell_type": "code",
   "execution_count": null,
   "id": "182dcd22-53a8-49a1-ab80-36e8414b2b98",
   "metadata": {
    "papermill": {
     "duration": 0.021902,
     "end_time": "2024-11-08T10:46:40.932728",
     "exception": false,
     "start_time": "2024-11-08T10:46:40.910826",
     "status": "completed"
    },
    "tags": []
   },
   "outputs": [],
   "source": [
    "base_output_dir = 'results_CERRA'\n",
    "output_dir = f\"{base_output_dir}/{city}_{model}\"\n",
    "os.makedirs(output_dir, exist_ok = True)"
   ]
  },
  {
   "cell_type": "markdown",
   "id": "3d9810c5-a133-46e1-bd7e-bec1963e864e",
   "metadata": {
    "papermill": {
     "duration": 0.009962,
     "end_time": "2024-11-08T10:46:40.952959",
     "exception": false,
     "start_time": "2024-11-08T10:46:40.942997",
     "status": "completed"
    },
    "tags": []
   },
   "source": [
    "Infer doman resolution in degrees and create filename"
   ]
  },
  {
   "cell_type": "code",
   "execution_count": null,
   "id": "caae2f5e-3a0d-4e7e-87dd-eb706eb6452c",
   "metadata": {
    "papermill": {
     "duration": 0.019727,
     "end_time": "2024-11-08T10:46:40.982576",
     "exception": false,
     "start_time": "2024-11-08T10:46:40.962849",
     "status": "completed"
    },
    "tags": []
   },
   "outputs": [],
   "source": [
    "#domain_resolution = int(domain.split('-')[1])\n",
    "base_filename = f'{city}-ECMWF-ERA5_r1i1p1f1_{model}'"
   ]
  },
  {
   "cell_type": "markdown",
   "id": "5eaffc01-9f3f-431d-8f7e-36d4fd29ccba",
   "metadata": {
    "papermill": {
     "duration": 0.009878,
     "end_time": "2024-11-08T10:46:41.002511",
     "exception": false,
     "start_time": "2024-11-08T10:46:40.992633",
     "status": "completed"
    },
    "tags": []
   },
   "source": [
    "## Define urban areas and vicinity"
   ]
  },
  {
   "cell_type": "markdown",
   "id": "af23934e-8ef1-4997-9d75-311fddc5f129",
   "metadata": {
    "papermill": {
     "duration": 0.008999,
     "end_time": "2024-11-08T10:46:41.020864",
     "exception": false,
     "start_time": "2024-11-08T10:46:41.011865",
     "status": "completed"
    },
    "tags": []
   },
   "source": [
    "### Load static variables\n",
    "Load static variables, such as urban fraction (sfturf), terrain elevation (orography) or land-sea fraction (sftlf)."
   ]
  },
  {
   "cell_type": "code",
   "execution_count": null,
   "id": "5c47e1ba-f989-43a1-8aab-6e99b02f6afc",
   "metadata": {},
   "outputs": [],
   "source": [
    "root = '/lustre/gmeteo/WORK/DATA/C3S-CDS/'\n",
    "\n",
    "ds_orog = xr.open_dataset(f'{root}/CERRA/fx/orog_CERRA_fx.nc')\n",
    "ds_sftlf = xr.open_dataset(f'{root}/CERRA/fx/lsm_CERRA_fx.nc')\n",
    "ds_sftuf = xr.open_dataset(f'{root}/CERRA-Land/fx/CERRALand_tiles_fraction.nc')"
   ]
  },
  {
   "cell_type": "code",
   "execution_count": null,
   "id": "cfe05457-ff64-48aa-b5b7-ae36ff4eab34",
   "metadata": {
    "papermill": {
     "duration": 0.933735,
     "end_time": "2024-11-08T10:46:41.989591",
     "exception": true,
     "start_time": "2024-11-08T10:46:41.055856",
     "status": "failed"
    },
    "tags": []
   },
   "outputs": [],
   "source": [
    "# Process orography\n",
    "ds_orog = ds_orog.isel(valid_time=0)\n",
    "ds_orog = ds_orog.rename({'longitude': 'lon', 'latitude': 'lat'})\n",
    "\n",
    "# Process land-sea mask, converting values for land percentage\n",
    "ds_sftlf = ds_sftlf.isel(valid_time=0)\n",
    "ds_sftlf['sftlf'] = ds_sftlf['lsm'] * 100\n",
    "ds_sftlf = ds_sftlf.drop_vars('lsm').rename({'longitude': 'lon', 'latitude': 'lat'})\n",
    "\n",
    "# Process land-sea mask, converting values for land percentage\n",
    "ds_sftuf = ds_sftuf.isel(oneD=0)\n",
    "ds_sftuf['sftuf'] = ds_sftuf['frac_urban'] * 100\n",
    "#ds_sftuf = ds_sftuf.drop_vars('frac_urban').rename({'x': 'lon', 'y': 'lat'})\n",
    "ds_sftuf = ds_sftuf.assign_coords({'lat': ds_orog['lat'], 'lon': ds_orog['lon']})"
   ]
  },
  {
   "cell_type": "markdown",
   "id": "fc1c4368-c0c7-48c8-96eb-956ce1ec4b82",
   "metadata": {
    "papermill": {
     "duration": null,
     "end_time": null,
     "exception": null,
     "start_time": null,
     "status": "pending"
    },
    "tags": []
   },
   "source": [
    "Add parameters to the function"
   ]
  },
  {
   "cell_type": "code",
   "execution_count": null,
   "id": "8675c8e7-914d-4896-aa22-5767e7b1ab9a",
   "metadata": {
    "papermill": {
     "duration": null,
     "end_time": null,
     "exception": null,
     "start_time": null,
     "status": "pending"
    },
    "tags": []
   },
   "outputs": [],
   "source": [
    "URBAN = Urban_vicinity(\n",
    "    urban_th, \n",
    "    urban_sur_th, \n",
    "    orog_diff, \n",
    "    sftlf_th,\n",
    "    scale,\n",
    "    min_city_size,\n",
    "    lon_city,\n",
    "    lat_city,\n",
    "    lon_lim,\n",
    "    lat_lim,\n",
    "    model)"
   ]
  },
  {
   "cell_type": "markdown",
   "id": "7e426840-4dba-4b0c-90be-c4ad40ea6796",
   "metadata": {
    "papermill": {
     "duration": null,
     "end_time": null,
     "exception": null,
     "start_time": null,
     "status": "pending"
    },
    "tags": []
   },
   "source": [
    "### Load climate variable"
   ]
  },
  {
   "cell_type": "markdown",
   "id": "6565e5e0-417c-48e6-8c00-ca20ce0a6742",
   "metadata": {
    "papermill": {
     "duration": null,
     "end_time": null,
     "exception": null,
     "start_time": null,
     "status": "pending"
    },
    "tags": []
   },
   "source": [
    "Crop area around de city"
   ]
  },
  {
   "cell_type": "code",
   "execution_count": null,
   "id": "a074c3d4-f3c1-4d92-b202-038133cb10b7",
   "metadata": {
    "editable": true,
    "slideshow": {
     "slide_type": ""
    },
    "tags": [
     "parameters"
    ]
   },
   "outputs": [],
   "source": [
    "root = \"/lustre/gmeteo/WORK/DATA/C3S-CDS/C3S-CICA-Atlas/v2/\"\n",
    "domain= \"CERRA\"\n",
    "name= \"t_CERRA_mon_198501-202112_v02.nc\""
   ]
  },
  {
   "cell_type": "code",
   "execution_count": null,
   "id": "658e7f51-9d39-4d48-a8df-0b50314a28af",
   "metadata": {},
   "outputs": [],
   "source": [
    "root_nc = root + domain + '/' + name\n",
    "var = name.split('_')[0]\n",
    "\n",
    "ds_RCM = xr.open_dataset(root_nc, engine=\"netcdf4\", \n",
    "                    chunks={\"member\": 1, \"time\": 120})\n",
    "\n",
    "\n",
    "# Crop the area for the city using the domain resolution\n",
    "# Define trimming limits\n",
    "lat_min = lat_city - lat_lim\n",
    "lat_max = lat_city + lat_lim\n",
    "lon_min = lon_city - lon_lim\n",
    "lon_max = lon_city + lon_lim\n",
    "\n",
    "# Crop the dataset\n",
    "ds_RCM = ds_RCM.sel(lat=slice(lat_min, lat_max), lon=slice(lon_min, lon_max))"
   ]
  },
  {
   "cell_type": "markdown",
   "id": "e973d5fc-5088-4f95-825f-8bd39843e29e",
   "metadata": {
    "papermill": {
     "duration": null,
     "end_time": null,
     "exception": null,
     "start_time": null,
     "status": "pending"
    },
    "tags": []
   },
   "source": [
    "### Interpolation of the static variable"
   ]
  },
  {
   "cell_type": "code",
   "execution_count": null,
   "id": "61016048-7435-4c0a-9ee3-b5b86e1275d1",
   "metadata": {
    "papermill": {
     "duration": null,
     "end_time": null,
     "exception": null,
     "start_time": null,
     "status": "pending"
    },
    "tags": []
   },
   "outputs": [],
   "source": [
    "# Interpolate data\n",
    "int_attr = {'interpolation_method' : 'conservative_normed', \n",
    "            'lats' : ds_RCM.lat.values,\n",
    "            'lons' : ds_RCM.lon.values,\n",
    "            'var_name' : 'sftuf'\n",
    "}\n",
    "\n",
    "INTER = Interpolator(int_attr)\n",
    "ds_sftuf = INTER(ds_sftuf)\n",
    "\n",
    "int_attr = {'interpolation_method' : 'conservative_normed', \n",
    "            'lats' : ds_RCM.lat.values,\n",
    "            'lons' : ds_RCM.lon.values,\n",
    "            'var_name' : 'orog'\n",
    "}\n",
    "INTER = Interpolator(int_attr)\n",
    "ds_orog = INTER(ds_orog)\n",
    "\n",
    "int_attr = {'interpolation_method' : 'conservative_normed', \n",
    "            'lats' : ds_RCM.lat.values,\n",
    "            'lons' : ds_RCM.lon.values,\n",
    "            'var_name' : 'sftlf'\n",
    "}\n",
    "INTER = Interpolator(int_attr)\n",
    "ds_sftlf = INTER(ds_sftlf)"
   ]
  },
  {
   "cell_type": "markdown",
   "id": "a95b3c84-9c50-4cce-8667-e9c247c2b003",
   "metadata": {
    "papermill": {
     "duration": null,
     "end_time": null,
     "exception": null,
     "start_time": null,
     "status": "pending"
    },
    "tags": []
   },
   "source": [
    "### Create urban_mask"
   ]
  },
  {
   "cell_type": "markdown",
   "id": "8d93b3ef-48cf-4436-925d-d65a58f37fa4",
   "metadata": {
    "papermill": {
     "duration": null,
     "end_time": null,
     "exception": null,
     "start_time": null,
     "status": "pending"
    },
    "tags": []
   },
   "source": [
    "Define masks using the parameters above"
   ]
  },
  {
   "cell_type": "code",
   "execution_count": null,
   "id": "44f29621-11fe-44f3-a656-88a6af94576e",
   "metadata": {
    "papermill": {
     "duration": null,
     "end_time": null,
     "exception": null,
     "start_time": null,
     "status": "pending"
    },
    "tags": []
   },
   "outputs": [],
   "source": [
    "sftuf_mask, sftuf_sur_mask, orog_mask, sftlf_mask = URBAN.define_masks(\n",
    "    ds_sftuf, \n",
    "    ds_orog, \n",
    "    ds_sftlf\n",
    ")"
   ]
  },
  {
   "cell_type": "markdown",
   "id": "cc490de0-2c46-4ab1-b94f-18e189b98772",
   "metadata": {
    "papermill": {
     "duration": null,
     "end_time": null,
     "exception": null,
     "start_time": null,
     "status": "pending"
    },
    "tags": []
   },
   "source": [
    "### Define rural vicinity areas\n",
    "\n",
    "We use an iterative algorithm to select the urban vicinity excluding masked areas"
   ]
  },
  {
   "cell_type": "code",
   "execution_count": null,
   "id": "2f4fb483-d557-476e-881d-71d1a95fef16",
   "metadata": {
    "papermill": {
     "duration": null,
     "end_time": null,
     "exception": null,
     "start_time": null,
     "status": "pending"
    },
    "tags": []
   },
   "outputs": [],
   "source": [
    "urmask = URBAN.select_urban_vicinity(\n",
    "    sftuf_mask, \n",
    "    orog_mask,\n",
    "    sftlf_mask,\n",
    "    sftuf_sur_mask\n",
    ")"
   ]
  },
  {
   "cell_type": "markdown",
   "id": "c852c91e-b28d-484e-b545-3ebb842ecd05",
   "metadata": {
    "papermill": {
     "duration": null,
     "end_time": null,
     "exception": null,
     "start_time": null,
     "status": "pending"
    },
    "tags": []
   },
   "source": [
    "We can plot the masks and the urban vs vicinity areas. The latter are are passed via the `urban_areas` parameter. They are hidden if set to `None`."
   ]
  },
  {
   "cell_type": "code",
   "execution_count": null,
   "id": "62fc296b-653f-4f52-b4b2-3da1f6dd7b92",
   "metadata": {
    "papermill": {
     "duration": null,
     "end_time": null,
     "exception": null,
     "start_time": null,
     "status": "pending"
    },
    "tags": []
   },
   "outputs": [],
   "source": [
    "fig = URBAN.plot_static_variables(ds_sftuf, ds_orog, ds_sftlf,\n",
    "                                 sftuf_mask, orog_mask, sftlf_mask,\n",
    "                                 urban_areas = urmask)\n",
    "fig.savefig(f\"{output_dir}/urmask_{base_filename}_fx.pdf\", bbox_inches='tight')"
   ]
  },
  {
   "cell_type": "markdown",
   "id": "b019434f-c936-4d45-b9eb-2e8efd5c9c0d",
   "metadata": {
    "papermill": {
     "duration": null,
     "end_time": null,
     "exception": null,
     "start_time": null,
     "status": "pending"
    },
    "tags": []
   },
   "source": [
    "Save these masks and urban fraction to NetCDF"
   ]
  },
  {
   "cell_type": "code",
   "execution_count": null,
   "id": "2673d4e7-d737-434e-a1eb-8bfc3e976706",
   "metadata": {
    "papermill": {
     "duration": null,
     "end_time": null,
     "exception": null,
     "start_time": null,
     "status": "pending"
    },
    "tags": []
   },
   "outputs": [],
   "source": [
    "urmask.to_netcdf(f\"{output_dir}/urmask_{base_filename}_fx.nc\")\n",
    "ds_sftuf.rename_vars({'sftuf': 'sfturf'}).to_netcdf(f\"{output_dir}/sfturf_{base_filename}_fx.nc\")"
   ]
  },
  {
   "cell_type": "markdown",
   "id": "e62c0b09-ed3f-4aa0-8372-17c622549a0b",
   "metadata": {},
   "source": [
    "## plot with urban polygon"
   ]
  },
  {
   "cell_type": "code",
   "execution_count": null,
   "id": "3cd0afe4-7da6-436a-84f0-779fc764fb96",
   "metadata": {},
   "outputs": [],
   "source": [
    "root= \"/lustre/gmeteo/WORK/DATA/CORDEX-FPS-URB-RCC/nextcloud/CORDEX-CORE-WG/GHS_FUA_UCD\"\n",
    "ucdb_info = gpd.read_file(root + '/GHS_STAT_UCDB2015MT_GLOBE_R2019A_V1_2.gpkg')\n",
    "ucdb_city = ucdb_info.query(\"UC_NM_MN == @city and CTR_MN_NM == 'Italy'\").to_crs(crs='EPSG:4326')\n"
   ]
  },
  {
   "cell_type": "code",
   "execution_count": null,
   "id": "8f28c24c-0abe-4afa-b021-b2ca33a8c8e3",
   "metadata": {},
   "outputs": [],
   "source": [
    "import cartopy.crs as ccrs\n",
    "import matplotlib.pyplot as plt\n",
    "\n",
    "proj = ccrs.PlateCarree()\n",
    "fig, ax = plt.subplots(subplot_kw={'projection': proj}, figsize=(12, 6))\n",
    "\n",
    "ds_sftuf['sftuf'].plot(ax=ax)\n",
    "ucdb_city.plot(ax=ax, facecolor=\"none\", transform=proj, edgecolor=\"red\", linewidth=2, zorder = 1000)\n",
    "\n",
    "shapefile_path = \"box/Naples_bbox.shp\"\n",
    "gdf = gpd.read_file(shapefile_path)\n",
    "gdf.plot(ax=ax, facecolor=\"none\", transform=proj, edgecolor=\"blue\", linewidth=2, zorder = 1010)"
   ]
  }
 ],
 "metadata": {
  "kernelspec": {
   "display_name": "Python 3 (ipykernel)",
   "language": "python",
   "name": "python3"
  },
  "language_info": {
   "codemirror_mode": {
    "name": "ipython",
    "version": 3
   },
   "file_extension": ".py",
   "mimetype": "text/x-python",
   "name": "python",
   "nbconvert_exporter": "python",
   "pygments_lexer": "ipython3",
   "version": "3.12.6"
  },
  "papermill": {
   "default_parameters": {},
   "duration": 4.770707,
   "end_time": "2024-11-08T10:46:42.733163",
   "environment_variables": {},
   "exception": true,
   "input_path": "urban_area_selection.ipynb",
   "output_path": "urban_area_selection__papermill.ipynb",
   "parameters": {
    "city": "London",
    "lat_city": 51.5,
    "lat_lim": 1,
    "lon_city": -0.13,
    "lon_lim": 1,
    "min_city_size": 0,
    "model": "CERRA",
    "name": "London",
    "orog_diff": 100,
    "sftlf_th": 70,
    "urban_sur_th": 10,
    "urban_th": 60,
    "variable": "tn"
   },
   "start_time": "2024-11-08T10:46:37.962456",
   "version": "2.6.0"
  }
 },
 "nbformat": 4,
 "nbformat_minor": 5
}
