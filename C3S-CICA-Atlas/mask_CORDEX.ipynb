{
 "cells": [
  {
   "cell_type": "code",
   "execution_count": null,
   "id": "23da0be6-ff97-4462-a8dd-43c3c96ff262",
   "metadata": {},
   "outputs": [],
   "source": [
    "import xarray as xr\n",
    "import numpy as np\n",
    "import os\n",
    "import glob"
   ]
  },
  {
   "cell_type": "markdown",
   "id": "dcb6f92e-649e-4c1b-936c-9799da47b0e8",
   "metadata": {},
   "source": [
    "## Parameters"
   ]
  },
  {
   "cell_type": "code",
   "execution_count": null,
   "id": "cd4cf8ec-78ba-4d34-b4f8-1d9523c3f55d",
   "metadata": {
    "editable": true,
    "slideshow": {
     "slide_type": ""
    },
    "tags": [
     "parameters"
    ]
   },
   "outputs": [],
   "source": [
    "root = \"/lustre/gmeteo/WORK/DATA/C3S-CDS/C3S-CICA-Atlas/v2/\"\n",
    "domain= \"CORDEX-CORE\" #\"CORDEX-CORE\"/\"CORDEX-EUR-11\"\n",
    "scenario = 'rcp85'\n",
    "name= \"t_CORDEX-CORE_rcp85_mon_200601-210012_v02.nc\""
   ]
  },
  {
   "cell_type": "markdown",
   "id": "e6d997b2-46f8-4e75-9230-7623d4c927b4",
   "metadata": {},
   "source": [
    "## Open the dataset"
   ]
  },
  {
   "cell_type": "code",
   "execution_count": null,
   "id": "32712f52-bceb-4ba8-9e67-9363d6b274e7",
   "metadata": {},
   "outputs": [],
   "source": [
    "root_nc = root + domain + '/' + scenario + '/' + name\n",
    "var = name.split('_')[0]\n",
    "\n",
    "ds = xr.open_dataset(root_nc, engine=\"netcdf4\", \n",
    "                    chunks={\"member\": 1, \"time\": 120})"
   ]
  },
  {
   "cell_type": "code",
   "execution_count": null,
   "id": "3be08c2b-de30-4d16-96e8-a677bad4d81a",
   "metadata": {
    "papermill": {
     "duration": 0.647871,
     "end_time": "2025-03-18T09:52:57.831035",
     "exception": true,
     "start_time": "2025-03-18T09:52:57.183164",
     "status": "failed"
    },
    "tags": []
   },
   "outputs": [],
   "source": [
    "root_output = \"/lustre/gmeteo/WORK/DATA/C3S-CDS/C3S-CICA-Atlas/v2.urban/\"\n",
    "#create de output folder for urban\n",
    "root_urb = root_output + domain +'URB/'+ scenario + '/'\n",
    "\n",
    "name_urb = \"_\".join(name.split('_')[0:2]) + 'URB_' + \"_\".join(name.split('_')[2:])\n",
    "\n",
    "if not os.path.exists(os.path.dirname( domain +'URB/')):\n",
    "    os.makedirs(os.path.dirname(domain +'URB/'))\n",
    "    \n",
    "if not os.path.exists(os.path.dirname(root_urb)):\n",
    "    os.makedirs(os.path.dirname(root_urb))\n",
    "\n",
    "\n",
    "#create de output folder for rural\n",
    "root_rur = root_output + domain +'RUR/'+ scenario + '/'\n",
    "name_rur = \"_\".join(name.split('_')[0:2]) + 'RUR_' + \"_\".join(name.split('_')[2:])\n",
    "\n",
    "if not os.path.exists(os.path.dirname( domain +'RUR/')):\n",
    "    os.makedirs(os.path.dirname( domain +'RUR/'))\n",
    "    \n",
    "if not os.path.exists(os.path.dirname(root_rur)):\n",
    "    os.makedirs(os.path.dirname(root_rur))"
   ]
  },
  {
   "cell_type": "markdown",
   "id": "283412b3-d937-4994-b1b9-e102c01e2a06",
   "metadata": {},
   "source": [
    "## Filter the members"
   ]
  },
  {
   "cell_type": "code",
   "execution_count": null,
   "id": "bdc7c1f0-9e4b-4257-922b-8baa06292195",
   "metadata": {},
   "outputs": [],
   "source": [
    "# Define the lists of models from the dictionary\n",
    "Dict = {\n",
    "    \"MOHC_HadGEM2-ES_REMO\": {\"models\": [\"MOHC_HadGEM2-ES_r1i1p1_GERICS_REMO2015_v1\"]},\n",
    "    \"MOHC_HadGEM2-ES_RegCM\": {\"models\": [\"MOHC_HadGEM2-ES_r1i1p1_ICTP_RegCM4-7_v0\", \"MOHC_HadGEM2-ES_r1i1p1_ICTP_RegCM4-4_v0\", \"MOHC_HadGEM2-ES_r1i1p1_ICTP_RegCM4-6_v1\", \"MOHC_HadGEM2-ES_r1i1p1_ISU_RegCM4_v4-4-rc8\"]},\n",
    "    \"MPI-M_MPI-ESM-LR_REMO\": {\"models\": [\"MPI-M_MPI-ESM-LR_r1i1p1_GERICS_REMO2015_v1\", \"MPI-M_MPI-ESM-LR_r3i1p1_GERICS_REMO2015_v1\"]},\n",
    "    \"MPI-M_MPI-ESM-MR_RegCM\": {\"models\": [\"MPI-M_MPI-ESM-MR_r1i1p1_ICTP_RegCM4-7_v0\", \"MPI-M_MPI-ESM-MR_r1i1p1_ICTP_RegCM4-4_v0\", \"MPI-M_MPI-ESM-MR_r1i1p1_ORNL_RegCM4-7_v0\"]},\n",
    "    \"NCC_NorESM1-M_REMO\": {\"models\": [\"NCC_NorESM1-M_r1i1p1_GERICS_REMO2015_v1\"]},\n",
    "    \"NCC_NorESM1-M_RegCM\": {\"models\": [\"NCC_NorESM1-M_r1i1p1_ICTP_RegCM4-7_v0\", \"NCC_NorESM1-M_r1i1p1_ICTP_RegCM4-4_v0\", \"NCC_NorESM1-M_r1i1p1_ICTP_RegCM4-6_v1\", \"NCC_NorESM1-M_r1i1p1_ORNL_RegCM4-7_v0\"]},\n",
    "    \"NOAA-GFDL_GFDL-ESM2M_RegCM\": {\"models\": [\"NOAA-GFDL_GFDL-ESM2M_r1i1p1_ICTP_RegCM4-7_v0\", \"NOAA-GFDL_GFDL-ESM2M_r1i1p1_ISU_RegCM4_v4-4-rc8\"]},\n",
    "    \"MIROC_MIROC5_RegCM\": {\"models\": [\"MIROC_MIROC5_r1i1p1_ORNL-RegCM4-7_v0\"]},\n",
    "    \"MPI-M_MPI-ESM-LR_RegCM\": {\"models\": [\"MPI-M_MPI-ESM-LR_r1i1p1_ICTP_RegCM4-6_v0\", \"MPI-M_MPI-ESM-LR_r1i1p1_NCAR_RegCM4_v4-4-rc8\", \"MPI-M_MPI-ESM-LR_r1i1p1_ICTP_RegCM4-6-v1\"]}\n",
    "}\n",
    "\n",
    "model_list = []\n",
    "for key in Dict:\n",
    "    for model in Dict[key][\"models\"]:\n",
    "        model_list.extend(Dict[key][\"models\"])\n",
    "        model_list.append(f\"{key}\") \n",
    "\n",
    "member_ids = ds.coords['member_id'].values\n",
    "filtered_member_ids = [member for member in member_ids if member in model_list]\n",
    "indices_filtrados = [i for i, member in enumerate(member_ids) if member in filtered_member_ids]\n",
    "ds = ds.isel(member=indices_filtrados).compute()"
   ]
  },
  {
   "cell_type": "markdown",
   "id": "2aef5bbb-e500-4e1c-ade4-e530c42b0b22",
   "metadata": {},
   "source": [
    "## Create the masks for RegCM and REMO "
   ]
  },
  {
   "cell_type": "markdown",
   "id": "8d4eb6d9-20b7-4fa0-8c4f-6966743fca17",
   "metadata": {},
   "source": [
    "### Create a NaN dataset for the masks"
   ]
  },
  {
   "cell_type": "code",
   "execution_count": null,
   "id": "e0eefd16-5a93-4365-a970-0a5bd171b215",
   "metadata": {},
   "outputs": [],
   "source": [
    "merged_ds = ds.isel(member = 0, time = 0)\n",
    "\n",
    "#Create a new variable 'urmask' with NaN values, matching the shape of var\n",
    "urmask_data = np.nan * np.ones_like(merged_ds[var].values)  # Create NaN-filled array with the same shape as var\n",
    "merged_ds['urmask'] = (merged_ds[var].dims, urmask_data)\n",
    "merged_ds = merged_ds.drop_vars(var)"
   ]
  },
  {
   "cell_type": "markdown",
   "id": "5d970932-dbdc-48e6-85ca-7476a66acc8c",
   "metadata": {},
   "source": [
    "### Merging the masks of each city together"
   ]
  },
  {
   "cell_type": "code",
   "execution_count": null,
   "id": "202d0ada-8163-417d-9c90-582fc63e58a3",
   "metadata": {},
   "outputs": [],
   "source": [
    "def merge_nc_files(domain, folder_list, base_dir, merged_ds):\n",
    "    \"\"\"Merges multiple .nc files from different folders into a single dataset while ensuring no overlap.\"\"\"\n",
    "    \n",
    "    for folder in folder_list:\n",
    "        folder_path = os.path.join(base_dir, folder)\n",
    "        if domain == \"CORDEX-CORE\":\n",
    "            nc_files = glob.glob(os.path.join(folder_path, \"*22*.nc\"))\n",
    "        elif domain == \"CORDEX-EUR-11\":\n",
    "            nc_files = glob.glob(os.path.join(folder_path, \"*11*.nc\"))\n",
    "        if nc_files: \n",
    "            ds = xr.open_dataset(nc_files[0])  # Open the first .nc file in the folder\n",
    "            if ds.data_vars:\n",
    "                try:\n",
    "                    \n",
    "                    merged_ds = xr.merge([merged_ds, ds])\n",
    "                except Exception as e:\n",
    "                    continue    \n",
    "    return merged_ds"
   ]
  },
  {
   "cell_type": "code",
   "execution_count": null,
   "id": "acc5c742-f6ed-40ce-aa47-0ac3c4dfecaf",
   "metadata": {},
   "outputs": [],
   "source": [
    "#Base directory where the result folders are located\n",
    "base_dir = \"./results\"\n",
    "\n",
    "#Get all folders containing 'REMO' or 'RegCM'\n",
    "remo_dirs = [d for d in os.listdir(base_dir) if \"REMO\" in d]\n",
    "regcm_dirs = [d for d in os.listdir(base_dir) if \"RegCM\" in d]\n",
    "\n",
    "# Merge masks by model\n",
    "ds_remo = merge_nc_files(domain, remo_dirs, base_dir, merged_ds).compute()\n",
    "ds_regcm = merge_nc_files(domain, regcm_dirs, base_dir, merged_ds).compute()"
   ]
  },
  {
   "cell_type": "markdown",
   "id": "efe6464e-5e41-4cbf-8b5e-08c5bf5ea471",
   "metadata": {},
   "source": [
    "### Filtering members for REMO and RegCM"
   ]
  },
  {
   "cell_type": "code",
   "execution_count": null,
   "id": "87dbf224-c51c-471d-9a1a-ed7fe44a8c0c",
   "metadata": {},
   "outputs": [],
   "source": [
    "#Convert `member_id` to a manageable array before filtering\n",
    "member_ids = ds['member_id'].values  \n",
    "\n",
    "# Member indexes containing “RegCM” and “REMO”\n",
    "regcm_mask = np.char.find(member_ids.astype(str), \"RegCM\") >= 0\n",
    "remo_mask = np.char.find(member_ids.astype(str), \"REMO\") >= 0"
   ]
  },
  {
   "cell_type": "markdown",
   "id": "26f47ce0-a5b2-48cf-8331-518010eb533b",
   "metadata": {},
   "source": [
    "## Applying the Rural mask"
   ]
  },
  {
   "cell_type": "markdown",
   "id": "8fa3a01f-4e83-427d-8a01-620050a9c5cc",
   "metadata": {},
   "source": [
    "### Filtering the mask to retain only rual values (where urmask equals 0)"
   ]
  },
  {
   "cell_type": "code",
   "execution_count": null,
   "id": "67b4f668-e7ec-4cad-b0d8-3b8d577358d1",
   "metadata": {},
   "outputs": [],
   "source": [
    "#Replacing values of 0 with 1 and all other values with NaN in the mask\n",
    "mask_regcm = xr.where(ds_regcm['urmask'] == 0, 1, float(\"nan\"))\n",
    "mask_remo = xr.where(ds_remo['urmask'] == 0, 1, float(\"nan\"))"
   ]
  },
  {
   "cell_type": "markdown",
   "id": "f5411666-aa14-40ba-8e8a-204db763b2df",
   "metadata": {},
   "source": [
    "### Apply the mask"
   ]
  },
  {
   "cell_type": "code",
   "execution_count": null,
   "id": "62528308-4748-4855-bf5e-3bca83f5c480",
   "metadata": {},
   "outputs": [],
   "source": [
    "#Create a copy of the original dataset\n",
    "ds_regcm_filtered = ds[[var]].isel(member=regcm_mask).chunk({\"member\": 1, \"time\": 120})\n",
    "ds_remo_filtered = ds[[var]].isel(member=remo_mask).chunk({\"member\": 1, \"time\": 120})\n",
    "\n",
    "#Apply the mask making sure that var is preserved.\n",
    "ds_regcm_filtered[var] = ds_regcm_filtered[var] * mask_regcm\n",
    "ds_remo_filtered[var] = ds_remo_filtered[var] * mask_remo"
   ]
  },
  {
   "cell_type": "markdown",
   "id": "2450f63b-758e-4e24-a6d0-d5ec0ff6708f",
   "metadata": {},
   "source": [
    "### Merge models and save the dataset"
   ]
  },
  {
   "cell_type": "code",
   "execution_count": null,
   "id": "3b75c8d1-b3af-434f-92e5-97951f1ca9c6",
   "metadata": {},
   "outputs": [],
   "source": [
    "ds_merged = xr.concat([ds_regcm_filtered, ds_remo_filtered], dim=\"member\")"
   ]
  },
  {
   "cell_type": "code",
   "execution_count": null,
   "id": "9c21bf0e-c2c2-4393-8dc5-2fa1c92e6a9c",
   "metadata": {},
   "outputs": [],
   "source": [
    "ds_merged.to_netcdf(root_rur + name_rur, encoding={var: {\"zlib\": True, \"complevel\": 1}})"
   ]
  },
  {
   "cell_type": "markdown",
   "id": "22eb2b16-4783-4f97-9ac2-ea7d74be59df",
   "metadata": {},
   "source": [
    "## Applying the Urban mask"
   ]
  },
  {
   "cell_type": "markdown",
   "id": "8c16536b-0fbc-4639-a447-dba19d334e80",
   "metadata": {},
   "source": [
    "### Filtering the mask to retain only urban values (where urmask equals 1)"
   ]
  },
  {
   "cell_type": "code",
   "execution_count": null,
   "id": "f8e5c991-9f8b-4a92-a772-f5e725d1ed23",
   "metadata": {},
   "outputs": [],
   "source": [
    "import gc\n",
    "del ds_regcm_filtered, ds_remo_filtered, ds_merged  # Eliminar variables\n",
    "gc.collect()  # Liberar memorian"
   ]
  },
  {
   "cell_type": "code",
   "execution_count": null,
   "id": "76ebec2d-f2e9-42af-9c71-d069f6ce969d",
   "metadata": {},
   "outputs": [],
   "source": [
    "#Replace values close to 0 by NaN in the mask\n",
    "mask_regcm = ds_regcm['urmask'].where(ds_regcm['urmask'] > 0)\n",
    "mask_remo = ds_remo['urmask'].where(ds_remo['urmask'] > 0)"
   ]
  },
  {
   "cell_type": "markdown",
   "id": "b81d180d-787b-4e7d-9444-d6d919cebfdf",
   "metadata": {},
   "source": [
    "### Apply the mask"
   ]
  },
  {
   "cell_type": "code",
   "execution_count": null,
   "id": "e0deaff7-8639-4ee0-bd9b-644d36363529",
   "metadata": {},
   "outputs": [],
   "source": [
    "#Create a copy of the original dataset\n",
    "ds_regcm_filtered = ds[[var]].isel(member=regcm_mask).chunk({\"member\": 1, \"time\": 120})\n",
    "ds_remo_filtered = ds[[var]].isel(member=remo_mask).chunk({\"member\": 1, \"time\": 120})\n",
    "\n",
    "#Apply the mask making sure that var is preserved.\n",
    "ds_regcm_filtered[var] = ds_regcm_filtered[var] * mask_regcm\n",
    "ds_remo_filtered[var] = ds_remo_filtered[var] * mask_remo"
   ]
  },
  {
   "cell_type": "markdown",
   "id": "4bad4846-6d7f-4f24-abdb-58bfe35d6010",
   "metadata": {},
   "source": [
    "### Merge models and save the dataset"
   ]
  },
  {
   "cell_type": "code",
   "execution_count": null,
   "id": "f6765f83-77b5-4e28-a191-cfe8d6a1f222",
   "metadata": {},
   "outputs": [],
   "source": [
    "ds_merged = xr.concat([ds_regcm_filtered, ds_remo_filtered], dim=\"member\")"
   ]
  },
  {
   "cell_type": "code",
   "execution_count": null,
   "id": "500c73cc-812b-432c-954a-96fb650fb696",
   "metadata": {},
   "outputs": [],
   "source": [
    "ds_merged.to_netcdf(root_urb + name_urb, encoding={var: {\"zlib\": True, \"complevel\": 1}})"
   ]
  }
 ],
 "metadata": {
  "kernelspec": {
   "display_name": "Python 3 (ipykernel)",
   "language": "python",
   "name": "python3"
  },
  "language_info": {
   "codemirror_mode": {
    "name": "ipython",
    "version": 3
   },
   "file_extension": ".py",
   "mimetype": "text/x-python",
   "name": "python",
   "nbconvert_exporter": "python",
   "pygments_lexer": "ipython3",
   "version": "3.12.6"
  }
 },
 "nbformat": 4,
 "nbformat_minor": 5
}
