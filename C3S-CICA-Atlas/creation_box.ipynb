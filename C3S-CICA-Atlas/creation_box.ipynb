{
 "cells": [
  {
   "cell_type": "code",
   "execution_count": null,
   "id": "1b2625f0-1328-4098-b177-2b1c514d2514",
   "metadata": {},
   "outputs": [],
   "source": [
    "import os\n",
    "import numpy as np\n",
    "import xarray as xr\n",
    "import pandas as pd\n",
    "import yaml\n",
    "import glob\n",
    "import geopandas as gpd\n",
    "from shapely.geometry import box\n",
    "from shapely.ops import unary_union\n",
    "from shapely.geometry import Point\n"
   ]
  },
  {
   "cell_type": "markdown",
   "id": "5b55f4f2-93a6-4cce-bbed-5c9562a280ed",
   "metadata": {},
   "source": [
    "## Create the shapefile for each city"
   ]
  },
  {
   "cell_type": "code",
   "execution_count": null,
   "id": "3a258860-624d-4142-b798-b71f7fdc2f29",
   "metadata": {},
   "outputs": [],
   "source": [
    "with open(\"selected_cities_description.yaml\", \"r\") as file:\n",
    "    cities = yaml.safe_load(file)\n",
    "\n",
    "# Ensure that the folder 'box/' exists\n",
    "os.makedirs(\"box\", exist_ok=True)"
   ]
  },
  {
   "cell_type": "code",
   "execution_count": null,
   "id": "de75d19b-b0f3-48be-9528-abf75119f838",
   "metadata": {},
   "outputs": [],
   "source": [
    "def find_masks(city_name):\n",
    "    \"\"\"\n",
    "    Finds all mask files for a given city in the specified directories.\n",
    "    \"\"\"\n",
    "    pattern1 = f\"results/*{city_name}*/urmask*.nc\"\n",
    "    pattern2 = f\"results_CERRA/*{city_name}*/urmask*.nc\"\n",
    "    return glob.glob(pattern1) + glob.glob(pattern2)"
   ]
  },
  {
   "cell_type": "code",
   "execution_count": null,
   "id": "9482bdad-0ec1-4705-8422-c12b2b3c23ec",
   "metadata": {},
   "outputs": [],
   "source": [
    "def get_expanded_bounding_box(masks, var_name=\"urmask\"):\n",
    "    \"\"\"\n",
    "    Finds the largest bounding box that contains all non-NaN values across multiple masks.\n",
    "    \"\"\"\n",
    "    lat_min_list, lat_max_list = [], []\n",
    "    lon_min_list, lon_max_list = [], []\n",
    "\n",
    "    for mask in masks:\n",
    "        valid_mask = mask[var_name].values == 0 \n",
    "        rows, cols = np.where(valid_mask)\n",
    "\n",
    "        if len(rows) > 0 and len(cols) > 0:\n",
    "            lat = mask.lat.values\n",
    "            lon = mask.lon.values\n",
    "            lat_min_list.append(lat[rows.min()]  - 0.125)\n",
    "            lat_max_list.append(lat[rows.max()] + 0.125)\n",
    "            lon_min_list.append(lon[cols.min()]  - 0.125)\n",
    "            lon_max_list.append(lon[cols.max()] + 0.125)\n",
    "\n",
    "    if not lat_min_list or not lon_min_list:\n",
    "        return None  # No valid data\n",
    "\n",
    "    return min(lat_min_list), max(lat_max_list), min(lon_min_list), max(lon_max_list)"
   ]
  },
  {
   "cell_type": "code",
   "execution_count": null,
   "id": "becf499a-313c-491b-a38b-265016361ff3",
   "metadata": {},
   "outputs": [],
   "source": [
    "for city, info in cities.items():\n",
    "    city_name = info[\"name\"]\n",
    "    mask_paths = find_masks(city)\n",
    "\n",
    "    if not mask_paths:\n",
    "        print(f\"No masks found for {city_name}\")\n",
    "        continue\n",
    "\n",
    "    masks = [xr.open_dataset(path) for path in mask_paths]\n",
    "\n",
    "    # Obtain the largest bounding box\n",
    "    bbox = get_expanded_bounding_box(masks)\n",
    "\n",
    "    if bbox:\n",
    "        lat_min, lat_max, lon_min, lon_max = bbox\n",
    "        geom = box(lon_min, lat_min, lon_max, lat_max)  # Create rectangle\n",
    "\n",
    "        # Create a GeoDataFrame with the rectangle\n",
    "        gdf = gpd.GeoDataFrame({\"city\": [city_name]}, geometry=[geom], crs=\"EPSG:4326\")\n",
    "\n",
    "        # Save the shapefile in the folder 'box/'\n",
    "        gdf.to_file(f\"box/{city}_bbox.shp\")\n",
    "\n",
    "        print(f\"Saved {city_name} bounding box to 'box/{city_name}_bbox.shp'\")\n",
    "    else:\n",
    "        print(f\"No valid bounding box for {city_name}\")"
   ]
  },
  {
   "cell_type": "markdown",
   "id": "4d01982c-47de-4e30-8d54-7313d6d5ac02",
   "metadata": {},
   "source": [
    "## Combine the shapefile"
   ]
  },
  {
   "cell_type": "code",
   "execution_count": null,
   "id": "3168d1ca-f097-48e6-9595-d7be78db89d9",
   "metadata": {},
   "outputs": [],
   "source": [
    "# Directory containing the shapefiles\n",
    "box_dir = \"box/\"\n",
    "\n",
    "# List all .shp files in the box directory\n",
    "shp_files = [os.path.join(box_dir, f) for f in os.listdir(box_dir) if f.endswith(\".shp\")]\n",
    "\n",
    "gdfs = []\n",
    "\n",
    "for shp in shp_files:\n",
    "    city_name = os.path.basename(shp).split(\"_\")[0]  # Extract city name before \"_\"\n",
    "    gdf = gpd.read_file(shp)\n",
    "    \n",
    "    # Remove 'FID' column if it exists\n",
    "    if \"FID\" in gdf.columns:\n",
    "        gdf = gdf.drop(columns=[\"FID\"])\n",
    "    \n",
    "    # Add a new column with the city name\n",
    "    gdf[\"city\"] = city_name  \n",
    "    gdfs.append(gdf)\n",
    "\n",
    "if gdfs:\n",
    "    # Concatenate all GeoDataFrames into a single one\n",
    "    gdf_all = gpd.GeoDataFrame(pd.concat(gdfs, ignore_index=True))\n",
    "\n",
    "    # Dissolve geometries by city to create MultiPolygons per city\n",
    "    gdf_final = gdf_all.dissolve(by=\"city\")\n",
    "\n",
    "    # Save the final shapefile\n",
    "    output_path = \"box/all_cities_bbox.shp\"\n",
    "    gdf_final.to_file(output_path)\n",
    "\n",
    "    print(f\"Saved combined multipolygon to {output_path}\")\n",
    "else:\n",
    "    print(\"No shapefiles found in the 'box/' directory.\")\n"
   ]
  },
  {
   "cell_type": "code",
   "execution_count": null,
   "id": "de168e92-d85c-493a-8d15-d4b06375f970",
   "metadata": {},
   "outputs": [],
   "source": [
    "root= \"box/\"\n",
    "all_cities = gpd.read_file(root + '/all_cities_bbox.shp')"
   ]
  },
  {
   "cell_type": "code",
   "execution_count": null,
   "id": "f289b20f-9850-4e56-8ea9-d53c0027f6c9",
   "metadata": {},
   "outputs": [],
   "source": [
    "all_cities.plot()"
   ]
  }
 ],
 "metadata": {
  "kernelspec": {
   "display_name": "Python 3 (ipykernel)",
   "language": "python",
   "name": "python3"
  },
  "language_info": {
   "codemirror_mode": {
    "name": "ipython",
    "version": 3
   },
   "file_extension": ".py",
   "mimetype": "text/x-python",
   "name": "python",
   "nbconvert_exporter": "python",
   "pygments_lexer": "ipython3",
   "version": "3.12.6"
  }
 },
 "nbformat": 4,
 "nbformat_minor": 5
}
