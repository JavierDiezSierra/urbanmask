{
 "cells": [
  {
   "cell_type": "code",
   "execution_count": null,
   "id": "fefd8836-66ed-423d-8c7e-3ce02c46ce3b",
   "metadata": {},
   "outputs": [],
   "source": [
    "import numpy as np\n",
    "import xarray as xr\n",
    "import pandas as pd\n",
    "import geopandas as gpd\n",
    "from shapely.ops import unary_union\n",
    "from shapely.geometry import Point"
   ]
  },
  {
   "cell_type": "markdown",
   "id": "323df520-ae7e-4121-9982-fc7a97ad559b",
   "metadata": {},
   "source": [
    "## Apply the mask"
   ]
  },
  {
   "cell_type": "markdown",
   "id": "58d9a637-4222-4ffc-a4c4-abdcd391e7a0",
   "metadata": {},
   "source": [
    "### Open the dataset"
   ]
  },
  {
   "cell_type": "code",
   "execution_count": null,
   "id": "04b3bd37-c64f-436e-9ec8-37dbe0d9a553",
   "metadata": {
    "editable": true,
    "papermill": {
     "duration": 0.009976,
     "end_time": "2025-03-18T12:19:45.064735",
     "exception": false,
     "start_time": "2025-03-18T12:19:45.054759",
     "status": "completed"
    },
    "slideshow": {
     "slide_type": ""
    },
    "tags": [
     "parameters"
    ]
   },
   "outputs": [],
   "source": [
    "root = \"/lustre/gmeteo/WORK/DATA/C3S-CDS/C3S-CICA-Atlas/v2/\"\n",
    "domain= \"CERRA\"\n",
    "name= \"t_CERRA_mon_198501-202112_v02.nc\""
   ]
  },
  {
   "cell_type": "code",
   "execution_count": null,
   "id": "6a92cc71-f348-48a6-9784-0f8162fc7376",
   "metadata": {
    "scrolled": true
   },
   "outputs": [],
   "source": [
    "root_nc = root + domain + '/'  + name\n",
    "var = name.split('_')[0]\n",
    "\n",
    "ds = xr.open_dataset(root_nc, engine=\"netcdf4\", \n",
    "                    chunks={\"member\": 1, \"time\": 120})"
   ]
  },
  {
   "cell_type": "markdown",
   "id": "b24d58a6-6a01-4235-8724-da285e1a9fc6",
   "metadata": {},
   "source": [
    "### Create the mask"
   ]
  },
  {
   "cell_type": "code",
   "execution_count": null,
   "id": "8642473f-6bba-41a2-8f39-a2f6aefe2f9a",
   "metadata": {},
   "outputs": [],
   "source": [
    "merged_ds = ds.isel(time = 0)\n",
    "\n",
    "#Create a new variable 'urmask' with NaN values, matching the shape of var\n",
    "urmask_data = np.nan * np.ones_like(merged_ds[var].values)  # Create NaN-filled array with the same shape as var\n",
    "merged_ds['urmask'] = (merged_ds[var].dims, urmask_data)\n",
    "mask = merged_ds.drop_vars(var)"
   ]
  },
  {
   "cell_type": "code",
   "execution_count": null,
   "id": "1f6be841-3cd8-449e-a574-9c7b3de5247c",
   "metadata": {},
   "outputs": [],
   "source": [
    "# Load the shapefile containing the bounding rectangles\n",
    "shapefile_path = \"box/all_cities_bbox.shp\"\n",
    "shapefile_path = \"all_cities_bbox.shp\"\n",
    "gdf = gpd.read_file(shapefile_path)\n",
    "\n",
    "# Function to check if a point is inside any of the bounding rectangles\n",
    "def is_inside(lat, lon, polygons):\n",
    "    point = Point(lon, lat)\n",
    "    return any(poly.contains(point) for poly in polygons)\n",
    "\n",
    "# Extract geometries from the shapefile (should be a MultiPolygon)\n",
    "polygons = gdf.geometry\n",
    "\n",
    "# Iterate over the dataset coordinates\n",
    "for i in range(mask.lat.shape[0]):\n",
    "    for j in range(mask.lon.shape[0]):\n",
    "        if is_inside(mask.lat[i].values, mask.lon[j].values, polygons):\n",
    "            # Assign value 1 inside the urban area\n",
    "            mask[\"urmask\"].loc[dict(lat=mask.lat[i].values, lon=mask.lon[j].values)] = 1  "
   ]
  },
  {
   "cell_type": "code",
   "execution_count": null,
   "id": "c11329e6-bc81-47a0-9da0-6b8ea4924683",
   "metadata": {},
   "outputs": [],
   "source": [
    "mask_shape=mask['urmask']"
   ]
  },
  {
   "cell_type": "markdown",
   "id": "cbc26eeb-3c66-48da-b362-932a4f28e006",
   "metadata": {},
   "source": [
    "### Apply the mask to the dataset"
   ]
  },
  {
   "cell_type": "code",
   "execution_count": null,
   "id": "f04a9a8e-e805-4e50-8ba9-5769593b5d09",
   "metadata": {},
   "outputs": [],
   "source": [
    "ds_masked=ds\n",
    "ds_masked[var] = ds_masked[var] * mask_shape"
   ]
  }
 ],
 "metadata": {
  "kernelspec": {
   "display_name": "Python 3 (ipykernel)",
   "language": "python",
   "name": "python3"
  },
  "language_info": {
   "codemirror_mode": {
    "name": "ipython",
    "version": 3
   },
   "file_extension": ".py",
   "mimetype": "text/x-python",
   "name": "python",
   "nbconvert_exporter": "python",
   "pygments_lexer": "ipython3",
   "version": "3.12.6"
  }
 },
 "nbformat": 4,
 "nbformat_minor": 5
}
