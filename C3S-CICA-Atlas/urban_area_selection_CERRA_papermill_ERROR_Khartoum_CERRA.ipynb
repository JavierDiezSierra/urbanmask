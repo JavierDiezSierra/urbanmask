{
 "cells": [
  {
   "cell_type": "markdown",
   "id": "189e29e8",
   "metadata": {
    "tags": [
     "papermill-error-cell-tag"
    ]
   },
   "source": [
    "<span style=\"color:red; font-family:Helvetica Neue, Helvetica, Arial, sans-serif; font-size:2em;\">An Exception was encountered at '<a href=\"#papermill-error-cell\">In [12]</a>'.</span>"
   ]
  },
  {
   "cell_type": "markdown",
   "id": "bbf5988b-679c-4f1c-9776-7e1d32eae7ac",
   "metadata": {
    "papermill": {
     "duration": 0.005013,
     "end_time": "2025-03-18T12:19:43.264906",
     "exception": false,
     "start_time": "2025-03-18T12:19:43.259893",
     "status": "completed"
    },
    "tags": []
   },
   "source": [
    "# Urban and rural surrounding areas selection\n",
    "\n",
    "***\n",
    "> This work is licensed under a [Creative Commons Attribution 4.0 International License](http://creativecommons.org/licenses/by/4.0)\n",
    ">\n",
    "> ![Creative Commons License >](https://i.creativecommons.org/l/by/4.0/88x31.png)"
   ]
  },
  {
   "cell_type": "markdown",
   "id": "f49b54ad-799c-49a3-a822-5bb3a4e35361",
   "metadata": {
    "papermill": {
     "duration": 0.004391,
     "end_time": "2025-03-18T12:19:43.274566",
     "exception": false,
     "start_time": "2025-03-18T12:19:43.270175",
     "status": "completed"
    },
    "tags": []
   },
   "source": [
    "## Load libraries\n",
    "\n",
    "Here we load the required libraries to execute the notebook. Note that specific code from dedicated scripts (`utils.py`, `urban_areas.py`, ...) is also loaded here."
   ]
  },
  {
   "cell_type": "code",
   "execution_count": 1,
   "id": "b96a0d2d-2a52-416d-af9b-02cb4604c056",
   "metadata": {
    "execution": {
     "iopub.execute_input": "2025-03-18T12:19:43.284404Z",
     "iopub.status.busy": "2025-03-18T12:19:43.284118Z",
     "iopub.status.idle": "2025-03-18T12:19:44.689372Z",
     "shell.execute_reply": "2025-03-18T12:19:44.688873Z"
    },
    "papermill": {
     "duration": 1.411763,
     "end_time": "2025-03-18T12:19:44.690871",
     "exception": false,
     "start_time": "2025-03-18T12:19:43.279108",
     "status": "completed"
    },
    "tags": []
   },
   "outputs": [],
   "source": [
    "import geopandas as gpd\n",
    "from shapely.geometry import Point\n",
    "import pandas as pd\n",
    "\n",
    "import os\n",
    "import numpy as np\n",
    "import xarray as xr\n",
    "import cf_xarray as cfxr\n",
    "from pathlib import Path\n",
    "import glob\n",
    "\n",
    "from urbanmask.urban_areas import (\n",
    "    Urban_vicinity,\n",
    ")\n",
    "\n",
    "from urbanmask.UHI_plot_functions import (\n",
    "    compute_climatology,\n",
    "    plot_climatology,\n",
    "    compute_time_series,\n",
    "    plot_time_series\n",
    ")\n",
    "\n",
    "from urbanmask.utils import (\n",
    "    kelvin2degC,\n",
    "    traverseDir,\n",
    "    fix_360_longitudes,\n",
    ")"
   ]
  },
  {
   "cell_type": "code",
   "execution_count": 2,
   "id": "57b7728a-356f-4410-a28b-047f9b620c0f",
   "metadata": {
    "execution": {
     "iopub.execute_input": "2025-03-18T12:19:44.704354Z",
     "iopub.status.busy": "2025-03-18T12:19:44.703942Z",
     "iopub.status.idle": "2025-03-18T12:19:44.707403Z",
     "shell.execute_reply": "2025-03-18T12:19:44.706999Z"
    },
    "papermill": {
     "duration": 0.012063,
     "end_time": "2025-03-18T12:19:44.708425",
     "exception": false,
     "start_time": "2025-03-18T12:19:44.696362",
     "status": "completed"
    },
    "tags": []
   },
   "outputs": [],
   "source": [
    "from lib.utils import latest_version, fix_360_longitudes\n",
    "from lib.interpolater import Interpolator"
   ]
  },
  {
   "cell_type": "markdown",
   "id": "9b22de44-3b22-4a7f-90d0-8887f3a503ee",
   "metadata": {
    "papermill": {
     "duration": 0.004808,
     "end_time": "2025-03-18T12:19:44.718013",
     "exception": false,
     "start_time": "2025-03-18T12:19:44.713205",
     "status": "completed"
    },
    "tags": []
   },
   "source": [
    "## Input parameters\n",
    "\n",
    "These parameters define the behavior of the notebook by selecting the `city`, `variable`, and other items, most of which are self-explanatory. _(Provide additional explanations here for any parameters that are not self-explanatory)._"
   ]
  },
  {
   "cell_type": "code",
   "execution_count": 3,
   "id": "200680c6-63ca-413d-a8ba-51ac71b16c0b",
   "metadata": {
    "execution": {
     "iopub.execute_input": "2025-03-18T12:19:44.727924Z",
     "iopub.status.busy": "2025-03-18T12:19:44.727590Z",
     "iopub.status.idle": "2025-03-18T12:19:44.730920Z",
     "shell.execute_reply": "2025-03-18T12:19:44.730479Z"
    },
    "papermill": {
     "duration": 0.00938,
     "end_time": "2025-03-18T12:19:44.731945",
     "exception": false,
     "start_time": "2025-03-18T12:19:44.722565",
     "status": "completed"
    },
    "tags": [
     "parameters"
    ]
   },
   "outputs": [],
   "source": [
    "# Parameters\n",
    "city = 'Paris'\n",
    "name = 'Paris'\n",
    "lon_city = 2.35\n",
    "lat_city = 48.85\n",
    "\n",
    "model = 'CERRA'\n",
    "variable= 't'\n",
    "\n",
    "urban_th = 60\n",
    "urban_sur_th = 10\n",
    "orog_diff = 100\n",
    "sftlf_th = 70\n",
    "scale = 2\n",
    "min_city_size = 0\n",
    "lon_lim = 1\n",
    "lat_lim = 1"
   ]
  },
  {
   "cell_type": "code",
   "execution_count": 4,
   "id": "6eccf26e",
   "metadata": {
    "execution": {
     "iopub.execute_input": "2025-03-18T12:19:44.742304Z",
     "iopub.status.busy": "2025-03-18T12:19:44.742073Z",
     "iopub.status.idle": "2025-03-18T12:19:44.744833Z",
     "shell.execute_reply": "2025-03-18T12:19:44.744448Z"
    },
    "papermill": {
     "duration": 0.009074,
     "end_time": "2025-03-18T12:19:44.745824",
     "exception": false,
     "start_time": "2025-03-18T12:19:44.736750",
     "status": "completed"
    },
    "tags": [
     "injected-parameters"
    ]
   },
   "outputs": [],
   "source": [
    "# Parameters\n",
    "name = \"Khartoum\"\n",
    "abbr_city = \"Khartoum\"\n",
    "lon_city = 32.53\n",
    "lat_city = 15.58\n",
    "variable = \"tasmin\"\n",
    "urban_th = 60\n",
    "urban_sur_th = 10\n",
    "orog_diff = 100\n",
    "sftlf_th = 70\n",
    "lon_lim = 1.5\n",
    "lat_lim = 1.2\n",
    "min_city_size = 0\n"
   ]
  },
  {
   "cell_type": "markdown",
   "id": "d8cf0373-a5fb-4e67-a941-3d7e3e2a0107",
   "metadata": {
    "papermill": {
     "duration": 0.004552,
     "end_time": "2025-03-18T12:19:44.755058",
     "exception": false,
     "start_time": "2025-03-18T12:19:44.750506",
     "status": "completed"
    },
    "tags": []
   },
   "source": [
    "Create a directory to save the results for this particular city and model"
   ]
  },
  {
   "cell_type": "code",
   "execution_count": 5,
   "id": "182dcd22-53a8-49a1-ab80-36e8414b2b98",
   "metadata": {
    "execution": {
     "iopub.execute_input": "2025-03-18T12:19:44.765303Z",
     "iopub.status.busy": "2025-03-18T12:19:44.764928Z",
     "iopub.status.idle": "2025-03-18T12:19:44.767732Z",
     "shell.execute_reply": "2025-03-18T12:19:44.767300Z"
    },
    "papermill": {
     "duration": 0.009216,
     "end_time": "2025-03-18T12:19:44.768853",
     "exception": false,
     "start_time": "2025-03-18T12:19:44.759637",
     "status": "completed"
    },
    "tags": []
   },
   "outputs": [],
   "source": [
    "base_output_dir = 'results_CERRA'\n",
    "output_dir = f\"{base_output_dir}/{city}_{model}\"\n",
    "os.makedirs(output_dir, exist_ok = True)"
   ]
  },
  {
   "cell_type": "markdown",
   "id": "3d9810c5-a133-46e1-bd7e-bec1963e864e",
   "metadata": {
    "papermill": {
     "duration": 0.004953,
     "end_time": "2025-03-18T12:19:44.778417",
     "exception": false,
     "start_time": "2025-03-18T12:19:44.773464",
     "status": "completed"
    },
    "tags": []
   },
   "source": [
    "Infer doman resolution in degrees and create filename"
   ]
  },
  {
   "cell_type": "code",
   "execution_count": 6,
   "id": "caae2f5e-3a0d-4e7e-87dd-eb706eb6452c",
   "metadata": {
    "execution": {
     "iopub.execute_input": "2025-03-18T12:19:44.789839Z",
     "iopub.status.busy": "2025-03-18T12:19:44.789626Z",
     "iopub.status.idle": "2025-03-18T12:19:44.791940Z",
     "shell.execute_reply": "2025-03-18T12:19:44.791555Z"
    },
    "papermill": {
     "duration": 0.009422,
     "end_time": "2025-03-18T12:19:44.792831",
     "exception": false,
     "start_time": "2025-03-18T12:19:44.783409",
     "status": "completed"
    },
    "tags": []
   },
   "outputs": [],
   "source": [
    "#domain_resolution = int(domain.split('-')[1])\n",
    "base_filename = f'{city}-ECMWF-ERA5_r1i1p1f1_{model}'"
   ]
  },
  {
   "cell_type": "markdown",
   "id": "5eaffc01-9f3f-431d-8f7e-36d4fd29ccba",
   "metadata": {
    "papermill": {
     "duration": 0.004478,
     "end_time": "2025-03-18T12:19:44.802364",
     "exception": false,
     "start_time": "2025-03-18T12:19:44.797886",
     "status": "completed"
    },
    "tags": []
   },
   "source": [
    "## Define urban areas and vicinity"
   ]
  },
  {
   "cell_type": "markdown",
   "id": "af23934e-8ef1-4997-9d75-311fddc5f129",
   "metadata": {
    "papermill": {
     "duration": 0.005194,
     "end_time": "2025-03-18T12:19:44.812362",
     "exception": false,
     "start_time": "2025-03-18T12:19:44.807168",
     "status": "completed"
    },
    "tags": []
   },
   "source": [
    "### Load static variables\n",
    "Load static variables, such as urban fraction (sfturf), terrain elevation (orography) or land-sea fraction (sftlf)."
   ]
  },
  {
   "cell_type": "raw",
   "id": "919cd456-41aa-43da-a9c8-7e53e5fe71b2",
   "metadata": {
    "papermill": {
     "duration": 0.004766,
     "end_time": "2025-03-18T12:19:44.821675",
     "exception": false,
     "start_time": "2025-03-18T12:19:44.816909",
     "status": "completed"
    },
    "tags": []
   },
   "source": [
    "root = \"/home/yaizaquintana/Desktop/DATA\"\n",
    "\n",
    "# Load high-resolution orography, land-sea mask and urban fraction for ERA5-Land\n",
    "ds_orog = xr.open_dataset(f'{root}/orog_CERRA_fx.nc')\n",
    "ds_sftlf = xr.open_dataset(f'{root}/lsm_CERRA_fx.nc')\n",
    "ds_sftuf = xr.open_dataset(f'{root}/CERRALand_tiles_fraction.nc')"
   ]
  },
  {
   "cell_type": "code",
   "execution_count": 7,
   "id": "5c47e1ba-f989-43a1-8aab-6e99b02f6afc",
   "metadata": {
    "execution": {
     "iopub.execute_input": "2025-03-18T12:19:44.832447Z",
     "iopub.status.busy": "2025-03-18T12:19:44.832178Z",
     "iopub.status.idle": "2025-03-18T12:19:44.961646Z",
     "shell.execute_reply": "2025-03-18T12:19:44.961153Z"
    },
    "papermill": {
     "duration": 0.136759,
     "end_time": "2025-03-18T12:19:44.963294",
     "exception": false,
     "start_time": "2025-03-18T12:19:44.826535",
     "status": "completed"
    },
    "tags": []
   },
   "outputs": [],
   "source": [
    "root = '/lustre/gmeteo/WORK/DATA/C3S-CDS/'\n",
    "\n",
    "ds_orog = xr.open_dataset(f'{root}/CERRA/fx/orog_CERRA_fx.nc')\n",
    "ds_sftlf = xr.open_dataset(f'{root}/CERRA/fx/lsm_CERRA_fx.nc')\n",
    "ds_sftuf = xr.open_dataset(f'{root}/CERRA-Land/fx/CERRALand_tiles_fraction.nc')"
   ]
  },
  {
   "cell_type": "code",
   "execution_count": 8,
   "id": "cfe05457-ff64-48aa-b5b7-ae36ff4eab34",
   "metadata": {
    "execution": {
     "iopub.execute_input": "2025-03-18T12:19:44.975521Z",
     "iopub.status.busy": "2025-03-18T12:19:44.975191Z",
     "iopub.status.idle": "2025-03-18T12:19:45.000951Z",
     "shell.execute_reply": "2025-03-18T12:19:45.000477Z"
    },
    "papermill": {
     "duration": 0.033024,
     "end_time": "2025-03-18T12:19:45.002335",
     "exception": false,
     "start_time": "2025-03-18T12:19:44.969311",
     "status": "completed"
    },
    "tags": []
   },
   "outputs": [],
   "source": [
    "# Process orography\n",
    "ds_orog = ds_orog.isel(valid_time=0)\n",
    "ds_orog = ds_orog.rename({'longitude': 'lon', 'latitude': 'lat'})\n",
    "\n",
    "# Process land-sea mask, converting values for land percentage\n",
    "ds_sftlf = ds_sftlf.isel(valid_time=0)\n",
    "ds_sftlf['sftlf'] = ds_sftlf['lsm'] * 100\n",
    "ds_sftlf = ds_sftlf.drop_vars('lsm').rename({'longitude': 'lon', 'latitude': 'lat'})\n",
    "\n",
    "# Process land-sea mask, converting values for land percentage\n",
    "ds_sftuf = ds_sftuf.isel(oneD=0)\n",
    "ds_sftuf['sftuf'] = ds_sftuf['frac_urban'] * 100\n",
    "#ds_sftuf = ds_sftuf.drop_vars('frac_urban').rename({'x': 'lon', 'y': 'lat'})\n",
    "ds_sftuf = ds_sftuf.assign_coords({'lat': ds_orog['lat'], 'lon': ds_orog['lon']})"
   ]
  },
  {
   "cell_type": "markdown",
   "id": "fc1c4368-c0c7-48c8-96eb-956ce1ec4b82",
   "metadata": {
    "papermill": {
     "duration": 0.005332,
     "end_time": "2025-03-18T12:19:45.013120",
     "exception": false,
     "start_time": "2025-03-18T12:19:45.007788",
     "status": "completed"
    },
    "tags": []
   },
   "source": [
    "Add parameters to the function"
   ]
  },
  {
   "cell_type": "code",
   "execution_count": 9,
   "id": "8675c8e7-914d-4896-aa22-5767e7b1ab9a",
   "metadata": {
    "execution": {
     "iopub.execute_input": "2025-03-18T12:19:45.024261Z",
     "iopub.status.busy": "2025-03-18T12:19:45.023981Z",
     "iopub.status.idle": "2025-03-18T12:19:45.026920Z",
     "shell.execute_reply": "2025-03-18T12:19:45.026476Z"
    },
    "papermill": {
     "duration": 0.009801,
     "end_time": "2025-03-18T12:19:45.028057",
     "exception": false,
     "start_time": "2025-03-18T12:19:45.018256",
     "status": "completed"
    },
    "tags": []
   },
   "outputs": [],
   "source": [
    "URBAN = Urban_vicinity(\n",
    "    urban_th, \n",
    "    urban_sur_th, \n",
    "    orog_diff, \n",
    "    sftlf_th,\n",
    "    scale,\n",
    "    min_city_size,\n",
    "    lon_city,\n",
    "    lat_city,\n",
    "    lon_lim,\n",
    "    lat_lim,\n",
    "    model)"
   ]
  },
  {
   "cell_type": "markdown",
   "id": "7e426840-4dba-4b0c-90be-c4ad40ea6796",
   "metadata": {
    "papermill": {
     "duration": 0.005194,
     "end_time": "2025-03-18T12:19:45.038880",
     "exception": false,
     "start_time": "2025-03-18T12:19:45.033686",
     "status": "completed"
    },
    "tags": []
   },
   "source": [
    "### Load climate variable"
   ]
  },
  {
   "cell_type": "markdown",
   "id": "6565e5e0-417c-48e6-8c00-ca20ce0a6742",
   "metadata": {
    "papermill": {
     "duration": 0.005393,
     "end_time": "2025-03-18T12:19:45.049509",
     "exception": false,
     "start_time": "2025-03-18T12:19:45.044116",
     "status": "completed"
    },
    "tags": []
   },
   "source": [
    "Crop area around de city"
   ]
  },
  {
   "cell_type": "code",
   "execution_count": 10,
   "id": "a074c3d4-f3c1-4d92-b202-038133cb10b7",
   "metadata": {
    "editable": true,
    "execution": {
     "iopub.execute_input": "2025-03-18T12:19:45.061372Z",
     "iopub.status.busy": "2025-03-18T12:19:45.060952Z",
     "iopub.status.idle": "2025-03-18T12:19:45.063569Z",
     "shell.execute_reply": "2025-03-18T12:19:45.063123Z"
    },
    "papermill": {
     "duration": 0.009976,
     "end_time": "2025-03-18T12:19:45.064735",
     "exception": false,
     "start_time": "2025-03-18T12:19:45.054759",
     "status": "completed"
    },
    "slideshow": {
     "slide_type": ""
    },
    "tags": [
     "parameters"
    ]
   },
   "outputs": [],
   "source": [
    "root = \"/lustre/gmeteo/WORK/DATA/C3S-CDS/C3S-CICA-Atlas/v2/\"\n",
    "domain= \"CERRA\"\n",
    "name= \"t_CERRA_mon_198501-202112_v02.nc\""
   ]
  },
  {
   "cell_type": "code",
   "execution_count": 11,
   "id": "658e7f51-9d39-4d48-a8df-0b50314a28af",
   "metadata": {
    "execution": {
     "iopub.execute_input": "2025-03-18T12:19:45.076291Z",
     "iopub.status.busy": "2025-03-18T12:19:45.075992Z",
     "iopub.status.idle": "2025-03-18T12:19:45.111607Z",
     "shell.execute_reply": "2025-03-18T12:19:45.111174Z"
    },
    "papermill": {
     "duration": 0.042492,
     "end_time": "2025-03-18T12:19:45.112605",
     "exception": false,
     "start_time": "2025-03-18T12:19:45.070113",
     "status": "completed"
    },
    "tags": []
   },
   "outputs": [
    {
     "name": "stderr",
     "output_type": "stream",
     "text": [
      "/oceano/gmeteo/users/quintanay/mambaforge/lib/python3.10/site-packages/xarray/conventions.py:287: SerializationWarning: variable 't' has multiple fill values {1.0384594e+34, -1.7014118e+38} defined, decoding all values to NaN.\n",
      "  var = coder.decode(var, name=name)\n",
      "/oceano/gmeteo/users/quintanay/mambaforge/lib/python3.10/site-packages/xarray/backends/api.py:365: UserWarning: The specified chunks separate the stored chunks along dimension \"time\" starting at index 120. This could degrade performance. Instead, consider rechunking after loading.\n",
      "  var_chunks = _get_chunk(var, chunks, chunkmanager)\n"
     ]
    }
   ],
   "source": [
    "root_nc = root + domain + '/' + name\n",
    "var = name.split('_')[0]\n",
    "\n",
    "ds_RCM = xr.open_dataset(root_nc, engine=\"netcdf4\", \n",
    "                    chunks={\"member\": 1, \"time\": 120})\n",
    "\n",
    "\n",
    "# Crop the area for the city using the domain resolution\n",
    "# Define trimming limits\n",
    "lat_min = lat_city - lat_lim\n",
    "lat_max = lat_city + lat_lim\n",
    "lon_min = lon_city - lon_lim\n",
    "lon_max = lon_city + lon_lim\n",
    "\n",
    "# Crop the dataset\n",
    "ds_RCM = ds_RCM.sel(lat=slice(lat_min, lat_max), lon=slice(lon_min, lon_max))"
   ]
  },
  {
   "cell_type": "markdown",
   "id": "e973d5fc-5088-4f95-825f-8bd39843e29e",
   "metadata": {
    "papermill": {
     "duration": 0.005696,
     "end_time": "2025-03-18T12:19:45.123799",
     "exception": false,
     "start_time": "2025-03-18T12:19:45.118103",
     "status": "completed"
    },
    "tags": []
   },
   "source": [
    "### Interpolation of the static variable"
   ]
  },
  {
   "cell_type": "markdown",
   "id": "a5f75430",
   "metadata": {
    "tags": [
     "papermill-error-cell-tag"
    ]
   },
   "source": [
    "<span id=\"papermill-error-cell\" style=\"color:red; font-family:Helvetica Neue, Helvetica, Arial, sans-serif; font-size:2em;\">Execution using papermill encountered an exception here and stopped:</span>"
   ]
  },
  {
   "cell_type": "code",
   "execution_count": 12,
   "id": "61016048-7435-4c0a-9ee3-b5b86e1275d1",
   "metadata": {
    "execution": {
     "iopub.execute_input": "2025-03-18T12:19:45.135225Z",
     "iopub.status.busy": "2025-03-18T12:19:45.134995Z",
     "iopub.status.idle": "2025-03-18T12:19:56.959876Z",
     "shell.execute_reply": "2025-03-18T12:19:56.959115Z"
    },
    "papermill": {
     "duration": 11.831397,
     "end_time": "2025-03-18T12:19:56.960642",
     "exception": true,
     "start_time": "2025-03-18T12:19:45.129245",
     "status": "failed"
    },
    "tags": []
   },
   "outputs": [
    {
     "ename": "IndexError",
     "evalue": "index 1 is out of bounds for axis 0 with size 1",
     "output_type": "error",
     "traceback": [
      "\u001b[0;31m---------------------------------------------------------------------------\u001b[0m",
      "\u001b[0;31mIndexError\u001b[0m                                Traceback (most recent call last)",
      "Cell \u001b[0;32mIn[12], line 9\u001b[0m\n\u001b[1;32m      2\u001b[0m int_attr \u001b[38;5;241m=\u001b[39m {\u001b[38;5;124m'\u001b[39m\u001b[38;5;124minterpolation_method\u001b[39m\u001b[38;5;124m'\u001b[39m : \u001b[38;5;124m'\u001b[39m\u001b[38;5;124mconservative_normed\u001b[39m\u001b[38;5;124m'\u001b[39m, \n\u001b[1;32m      3\u001b[0m             \u001b[38;5;124m'\u001b[39m\u001b[38;5;124mlats\u001b[39m\u001b[38;5;124m'\u001b[39m : ds_RCM\u001b[38;5;241m.\u001b[39mlat\u001b[38;5;241m.\u001b[39mvalues,\n\u001b[1;32m      4\u001b[0m             \u001b[38;5;124m'\u001b[39m\u001b[38;5;124mlons\u001b[39m\u001b[38;5;124m'\u001b[39m : ds_RCM\u001b[38;5;241m.\u001b[39mlon\u001b[38;5;241m.\u001b[39mvalues,\n\u001b[1;32m      5\u001b[0m             \u001b[38;5;124m'\u001b[39m\u001b[38;5;124mvar_name\u001b[39m\u001b[38;5;124m'\u001b[39m : \u001b[38;5;124m'\u001b[39m\u001b[38;5;124msftuf\u001b[39m\u001b[38;5;124m'\u001b[39m\n\u001b[1;32m      6\u001b[0m }\n\u001b[1;32m      8\u001b[0m INTER \u001b[38;5;241m=\u001b[39m Interpolator(int_attr)\n\u001b[0;32m----> 9\u001b[0m ds_sftuf \u001b[38;5;241m=\u001b[39m \u001b[43mINTER\u001b[49m\u001b[43m(\u001b[49m\u001b[43mds_sftuf\u001b[49m\u001b[43m)\u001b[49m\n\u001b[1;32m     11\u001b[0m int_attr \u001b[38;5;241m=\u001b[39m {\u001b[38;5;124m'\u001b[39m\u001b[38;5;124minterpolation_method\u001b[39m\u001b[38;5;124m'\u001b[39m : \u001b[38;5;124m'\u001b[39m\u001b[38;5;124mconservative_normed\u001b[39m\u001b[38;5;124m'\u001b[39m, \n\u001b[1;32m     12\u001b[0m             \u001b[38;5;124m'\u001b[39m\u001b[38;5;124mlats\u001b[39m\u001b[38;5;124m'\u001b[39m : ds_RCM\u001b[38;5;241m.\u001b[39mlat\u001b[38;5;241m.\u001b[39mvalues,\n\u001b[1;32m     13\u001b[0m             \u001b[38;5;124m'\u001b[39m\u001b[38;5;124mlons\u001b[39m\u001b[38;5;124m'\u001b[39m : ds_RCM\u001b[38;5;241m.\u001b[39mlon\u001b[38;5;241m.\u001b[39mvalues,\n\u001b[1;32m     14\u001b[0m             \u001b[38;5;124m'\u001b[39m\u001b[38;5;124mvar_name\u001b[39m\u001b[38;5;124m'\u001b[39m : \u001b[38;5;124m'\u001b[39m\u001b[38;5;124morog\u001b[39m\u001b[38;5;124m'\u001b[39m\n\u001b[1;32m     15\u001b[0m }\n\u001b[1;32m     16\u001b[0m INTER \u001b[38;5;241m=\u001b[39m Interpolator(int_attr)\n",
      "File \u001b[0;32m/lustre/gmeteo/WORK/quintanay/C3S-CICA-Atlas/lib/interpolater.py:44\u001b[0m, in \u001b[0;36mInterpolator.__call__\u001b[0;34m(self, data)\u001b[0m\n\u001b[1;32m     36\u001b[0m \u001b[38;5;28;01mdef\u001b[39;00m \u001b[38;5;21m__call__\u001b[39m(\u001b[38;5;28mself\u001b[39m, data):\n\u001b[1;32m     37\u001b[0m \u001b[38;5;250m    \u001b[39m\u001b[38;5;124;03m\"\"\"\u001b[39;00m\n\u001b[1;32m     38\u001b[0m \u001b[38;5;124;03m    Interpolate the data and store the interpolated data in the output directory.\u001b[39;00m\n\u001b[1;32m     39\u001b[0m \n\u001b[0;32m   (...)\u001b[0m\n\u001b[1;32m     42\u001b[0m \u001b[38;5;124;03m    The interpolated data.\u001b[39;00m\n\u001b[1;32m     43\u001b[0m \u001b[38;5;124;03m    \"\"\"\u001b[39;00m\n\u001b[0;32m---> 44\u001b[0m     df_inter \u001b[38;5;241m=\u001b[39m \u001b[43minterpolation\u001b[49m\u001b[43m(\u001b[49m\u001b[43mdata\u001b[49m\u001b[43m,\u001b[49m\u001b[43m \u001b[49m\n\u001b[1;32m     45\u001b[0m \u001b[43m                         \u001b[49m\u001b[38;5;28;43mself\u001b[39;49m\u001b[38;5;241;43m.\u001b[39;49m\u001b[43minterpolation_method\u001b[49m\u001b[43m,\u001b[49m\u001b[43m \u001b[49m\n\u001b[1;32m     46\u001b[0m \u001b[43m                         \u001b[49m\u001b[38;5;28;43mself\u001b[39;49m\u001b[38;5;241;43m.\u001b[39;49m\u001b[43mvar_name\u001b[49m\u001b[43m,\u001b[49m\n\u001b[1;32m     47\u001b[0m \u001b[43m                         \u001b[49m\u001b[38;5;28;43mself\u001b[39;49m\u001b[38;5;241;43m.\u001b[39;49m\u001b[43mresolution\u001b[49m\u001b[43m,\u001b[49m\u001b[43m \u001b[49m\n\u001b[1;32m     48\u001b[0m \u001b[43m                         \u001b[49m\u001b[38;5;28;43mself\u001b[39;49m\u001b[38;5;241;43m.\u001b[39;49m\u001b[43mlons\u001b[49m\u001b[43m,\u001b[49m\n\u001b[1;32m     49\u001b[0m \u001b[43m                         \u001b[49m\u001b[38;5;28;43mself\u001b[39;49m\u001b[38;5;241;43m.\u001b[39;49m\u001b[43mlats\u001b[49m\u001b[43m)\u001b[49m\n\u001b[1;32m     50\u001b[0m     \u001b[38;5;28;01mreturn\u001b[39;00m df_inter\n",
      "File \u001b[0;32m/lustre/gmeteo/WORK/quintanay/C3S-CICA-Atlas/lib/interpolater.py:419\u001b[0m, in \u001b[0;36minterpolation\u001b[0;34m(ds, interpolation_method, var_name, resolution, lon_values, lat_values)\u001b[0m\n\u001b[1;32m    417\u001b[0m     ds_dest \u001b[38;5;241m=\u001b[39m generate_destination_grid(res\u001b[38;5;241m=\u001b[39mresolution)\n\u001b[1;32m    418\u001b[0m \u001b[38;5;28;01melse\u001b[39;00m:\n\u001b[0;32m--> 419\u001b[0m     ds_dest \u001b[38;5;241m=\u001b[39m \u001b[43mgenerate_destination_grid\u001b[49m\u001b[43m(\u001b[49m\u001b[43mx\u001b[49m\u001b[38;5;241;43m=\u001b[39;49m\u001b[43mlon_values\u001b[49m\u001b[43m,\u001b[49m\u001b[43m \u001b[49m\u001b[43my\u001b[49m\u001b[38;5;241;43m=\u001b[39;49m\u001b[43mlat_values\u001b[49m\u001b[43m)\u001b[49m\n\u001b[1;32m    421\u001b[0m \u001b[38;5;66;03m# Add mask to the referece and destination datasets\u001b[39;00m\n\u001b[1;32m    422\u001b[0m dims \u001b[38;5;241m=\u001b[39m [dim \u001b[38;5;28;01mfor\u001b[39;00m dim \u001b[38;5;129;01min\u001b[39;00m ds_ref[var_name]\u001b[38;5;241m.\u001b[39mdims \u001b[38;5;28;01mif\u001b[39;00m \u001b[38;5;129;01mnot\u001b[39;00m dim \u001b[38;5;129;01min\u001b[39;00m [\u001b[38;5;124m'\u001b[39m\u001b[38;5;124mx\u001b[39m\u001b[38;5;124m'\u001b[39m, \u001b[38;5;124m'\u001b[39m\u001b[38;5;124my\u001b[39m\u001b[38;5;124m'\u001b[39m]]\n",
      "File \u001b[0;32m/lustre/gmeteo/WORK/quintanay/C3S-CICA-Atlas/lib/interpolater.py:203\u001b[0m, in \u001b[0;36mgenerate_destination_grid\u001b[0;34m(res, x, y)\u001b[0m\n\u001b[1;32m    201\u001b[0m \u001b[38;5;28;01melse\u001b[39;00m:\n\u001b[1;32m    202\u001b[0m     xx, yy \u001b[38;5;241m=\u001b[39m np\u001b[38;5;241m.\u001b[39mmeshgrid(x, y)\n\u001b[0;32m--> 203\u001b[0m     xx_bnds, yy_bnds \u001b[38;5;241m=\u001b[39m \u001b[43mestimate_boundaries\u001b[49m\u001b[43m(\u001b[49m\u001b[43mxx\u001b[49m\u001b[43m,\u001b[49m\u001b[43m \u001b[49m\u001b[43myy\u001b[49m\u001b[43m)\u001b[49m\n\u001b[1;32m    205\u001b[0m     ds_grid \u001b[38;5;241m=\u001b[39m xr\u001b[38;5;241m.\u001b[39mDataset(\n\u001b[1;32m    206\u001b[0m         {\n\u001b[1;32m    207\u001b[0m             \u001b[38;5;124m\"\u001b[39m\u001b[38;5;124mlon\u001b[39m\u001b[38;5;124m\"\u001b[39m: ([\u001b[38;5;124m\"\u001b[39m\u001b[38;5;124my\u001b[39m\u001b[38;5;124m\"\u001b[39m, \u001b[38;5;124m\"\u001b[39m\u001b[38;5;124mx\u001b[39m\u001b[38;5;124m\"\u001b[39m], xx),\n\u001b[0;32m   (...)\u001b[0m\n\u001b[1;32m    211\u001b[0m         }\n\u001b[1;32m    212\u001b[0m     )\n\u001b[1;32m    213\u001b[0m \u001b[38;5;28;01mreturn\u001b[39;00m ds_grid\n",
      "File \u001b[0;32m/lustre/gmeteo/WORK/quintanay/C3S-CICA-Atlas/lib/interpolater.py:109\u001b[0m, in \u001b[0;36mestimate_boundaries\u001b[0;34m(lon_values, lat_values)\u001b[0m\n\u001b[1;32m    104\u001b[0m         lats_crnr[lat, lon] \u001b[38;5;241m=\u001b[39m np\u001b[38;5;241m.\u001b[39mmean(\n\u001b[1;32m    105\u001b[0m             lat_values[(lat \u001b[38;5;241m-\u001b[39m \u001b[38;5;241m1\u001b[39m) : (lat \u001b[38;5;241m+\u001b[39m \u001b[38;5;241m1\u001b[39m), (lon \u001b[38;5;241m-\u001b[39m \u001b[38;5;241m1\u001b[39m) : (lon \u001b[38;5;241m+\u001b[39m \u001b[38;5;241m1\u001b[39m)]\n\u001b[1;32m    106\u001b[0m         )\n\u001b[1;32m    108\u001b[0m \u001b[38;5;66;03m# Grid points at boundaries\u001b[39;00m\n\u001b[0;32m--> 109\u001b[0m lons_crnr[\u001b[38;5;241m0\u001b[39m, :] \u001b[38;5;241m=\u001b[39m \u001b[43mlons_crnr\u001b[49m\u001b[43m[\u001b[49m\u001b[38;5;241;43m1\u001b[39;49m\u001b[43m,\u001b[49m\u001b[43m \u001b[49m\u001b[43m:\u001b[49m\u001b[43m]\u001b[49m \u001b[38;5;241m-\u001b[39m (lons_crnr[\u001b[38;5;241m2\u001b[39m, :] \u001b[38;5;241m-\u001b[39m lons_crnr[\u001b[38;5;241m1\u001b[39m, :])\n\u001b[1;32m    110\u001b[0m lons_crnr[\u001b[38;5;241m-\u001b[39m\u001b[38;5;241m1\u001b[39m, :] \u001b[38;5;241m=\u001b[39m lons_crnr[\u001b[38;5;241m-\u001b[39m\u001b[38;5;241m2\u001b[39m, :] \u001b[38;5;241m+\u001b[39m (lons_crnr[\u001b[38;5;241m-\u001b[39m\u001b[38;5;241m2\u001b[39m, :] \u001b[38;5;241m-\u001b[39m lons_crnr[\u001b[38;5;241m-\u001b[39m\u001b[38;5;241m3\u001b[39m, :])\n\u001b[1;32m    111\u001b[0m lons_crnr[:, \u001b[38;5;241m0\u001b[39m] \u001b[38;5;241m=\u001b[39m lons_crnr[:, \u001b[38;5;241m1\u001b[39m] \u001b[38;5;241m+\u001b[39m (lons_crnr[:, \u001b[38;5;241m1\u001b[39m] \u001b[38;5;241m-\u001b[39m lons_crnr[:, \u001b[38;5;241m2\u001b[39m])\n",
      "\u001b[0;31mIndexError\u001b[0m: index 1 is out of bounds for axis 0 with size 1"
     ]
    }
   ],
   "source": [
    "# Interpolate data\n",
    "int_attr = {'interpolation_method' : 'conservative_normed', \n",
    "            'lats' : ds_RCM.lat.values,\n",
    "            'lons' : ds_RCM.lon.values,\n",
    "            'var_name' : 'sftuf'\n",
    "}\n",
    "\n",
    "INTER = Interpolator(int_attr)\n",
    "ds_sftuf = INTER(ds_sftuf)\n",
    "\n",
    "int_attr = {'interpolation_method' : 'conservative_normed', \n",
    "            'lats' : ds_RCM.lat.values,\n",
    "            'lons' : ds_RCM.lon.values,\n",
    "            'var_name' : 'orog'\n",
    "}\n",
    "INTER = Interpolator(int_attr)\n",
    "ds_orog = INTER(ds_orog)\n",
    "\n",
    "int_attr = {'interpolation_method' : 'conservative_normed', \n",
    "            'lats' : ds_RCM.lat.values,\n",
    "            'lons' : ds_RCM.lon.values,\n",
    "            'var_name' : 'sftlf'\n",
    "}\n",
    "INTER = Interpolator(int_attr)\n",
    "ds_sftlf = INTER(ds_sftlf)"
   ]
  },
  {
   "cell_type": "markdown",
   "id": "a95b3c84-9c50-4cce-8667-e9c247c2b003",
   "metadata": {
    "papermill": {
     "duration": null,
     "end_time": null,
     "exception": null,
     "start_time": null,
     "status": "pending"
    },
    "tags": []
   },
   "source": [
    "### Create urban_mask"
   ]
  },
  {
   "cell_type": "markdown",
   "id": "8d93b3ef-48cf-4436-925d-d65a58f37fa4",
   "metadata": {
    "papermill": {
     "duration": null,
     "end_time": null,
     "exception": null,
     "start_time": null,
     "status": "pending"
    },
    "tags": []
   },
   "source": [
    "Define masks using the parameters above"
   ]
  },
  {
   "cell_type": "code",
   "execution_count": null,
   "id": "44f29621-11fe-44f3-a656-88a6af94576e",
   "metadata": {
    "papermill": {
     "duration": null,
     "end_time": null,
     "exception": null,
     "start_time": null,
     "status": "pending"
    },
    "tags": []
   },
   "outputs": [],
   "source": [
    "sftuf_mask, sftuf_sur_mask, orog_mask, sftlf_mask = URBAN.define_masks(\n",
    "    ds_sftuf, \n",
    "    ds_orog, \n",
    "    ds_sftlf\n",
    ")"
   ]
  },
  {
   "cell_type": "markdown",
   "id": "cc490de0-2c46-4ab1-b94f-18e189b98772",
   "metadata": {
    "papermill": {
     "duration": null,
     "end_time": null,
     "exception": null,
     "start_time": null,
     "status": "pending"
    },
    "tags": []
   },
   "source": [
    "### Define rural vicinity areas\n",
    "\n",
    "We use an iterative algorithm to select the urban vicinity excluding masked areas"
   ]
  },
  {
   "cell_type": "code",
   "execution_count": null,
   "id": "2f4fb483-d557-476e-881d-71d1a95fef16",
   "metadata": {
    "papermill": {
     "duration": null,
     "end_time": null,
     "exception": null,
     "start_time": null,
     "status": "pending"
    },
    "tags": []
   },
   "outputs": [],
   "source": [
    "urmask = URBAN.select_urban_vicinity(\n",
    "    sftuf_mask, \n",
    "    orog_mask,\n",
    "    sftlf_mask,\n",
    "    sftuf_sur_mask\n",
    ")"
   ]
  },
  {
   "cell_type": "markdown",
   "id": "c852c91e-b28d-484e-b545-3ebb842ecd05",
   "metadata": {
    "papermill": {
     "duration": null,
     "end_time": null,
     "exception": null,
     "start_time": null,
     "status": "pending"
    },
    "tags": []
   },
   "source": [
    "We can plot the masks and the urban vs vicinity areas. The latter are are passed via the `urban_areas` parameter. They are hidden if set to `None`."
   ]
  },
  {
   "cell_type": "code",
   "execution_count": null,
   "id": "62fc296b-653f-4f52-b4b2-3da1f6dd7b92",
   "metadata": {
    "papermill": {
     "duration": null,
     "end_time": null,
     "exception": null,
     "start_time": null,
     "status": "pending"
    },
    "tags": []
   },
   "outputs": [],
   "source": [
    "fig = URBAN.plot_static_variables(ds_sftuf, ds_orog, ds_sftlf,\n",
    "                                 sftuf_mask, orog_mask, sftlf_mask,\n",
    "                                 urban_areas = urmask)\n",
    "fig.savefig(f\"{output_dir}/urmask_{base_filename}_fx.pdf\", bbox_inches='tight')"
   ]
  },
  {
   "cell_type": "markdown",
   "id": "b019434f-c936-4d45-b9eb-2e8efd5c9c0d",
   "metadata": {
    "papermill": {
     "duration": null,
     "end_time": null,
     "exception": null,
     "start_time": null,
     "status": "pending"
    },
    "tags": []
   },
   "source": [
    "Save these masks and urban fraction to NetCDF"
   ]
  },
  {
   "cell_type": "code",
   "execution_count": null,
   "id": "2673d4e7-d737-434e-a1eb-8bfc3e976706",
   "metadata": {
    "papermill": {
     "duration": null,
     "end_time": null,
     "exception": null,
     "start_time": null,
     "status": "pending"
    },
    "tags": []
   },
   "outputs": [],
   "source": [
    "urmask.to_netcdf(f\"{output_dir}/urmask_{base_filename}_fx.nc\")\n",
    "ds_sftuf.rename_vars({'sftuf': 'sfturf'}).to_netcdf(f\"{output_dir}/sfturf_{base_filename}_fx.nc\")"
   ]
  }
 ],
 "metadata": {
  "kernelspec": {
   "display_name": "Python 3 (ipykernel)",
   "language": "python",
   "name": "python3"
  },
  "language_info": {
   "codemirror_mode": {
    "name": "ipython",
    "version": 3
   },
   "file_extension": ".py",
   "mimetype": "text/x-python",
   "name": "python",
   "nbconvert_exporter": "python",
   "pygments_lexer": "ipython3",
   "version": "3.12.6"
  },
  "papermill": {
   "default_parameters": {},
   "duration": 15.100052,
   "end_time": "2025-03-18T12:19:57.483784",
   "environment_variables": {},
   "exception": true,
   "input_path": "urban_area_selection.ipynb",
   "output_path": "urban_area_selection_CERRA_papermill.ipynb",
   "parameters": {
    "abbr_city": "Khartoum",
    "lat_city": 15.58,
    "lat_lim": 1.2,
    "lon_city": 32.53,
    "lon_lim": 1.5,
    "min_city_size": 0,
    "name": "Khartoum",
    "orog_diff": 100,
    "sftlf_th": 70,
    "urban_sur_th": 10,
    "urban_th": 60,
    "variable": "tasmin"
   },
   "start_time": "2025-03-18T12:19:42.383732",
   "version": "2.6.0"
  }
 },
 "nbformat": 4,
 "nbformat_minor": 5
}
