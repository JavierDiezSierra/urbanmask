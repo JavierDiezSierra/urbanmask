{
 "cells": [
  {
   "cell_type": "markdown",
   "id": "db11a685-90fc-40f0-8cff-3b2f6de83b79",
   "metadata": {
    "papermill": {
     "duration": 0.015149,
     "end_time": "2024-10-22T12:01:28.034126",
     "exception": false,
     "start_time": "2024-10-22T12:01:28.018977",
     "status": "completed"
    },
    "tags": []
   },
   "source": [
    "# CORDEX-CORE urban vs rural vicinity analysis\n",
    "\n",
    "..."
   ]
  },
  {
   "cell_type": "markdown",
   "id": "f49b54ad-799c-49a3-a822-5bb3a4e35361",
   "metadata": {
    "papermill": {
     "duration": 0.013638,
     "end_time": "2024-10-22T12:01:28.061500",
     "exception": false,
     "start_time": "2024-10-22T12:01:28.047862",
     "status": "completed"
    },
    "tags": []
   },
   "source": [
    "## Load libraries\n",
    "\n",
    "Here we load the required libraries to execute the notebook. Note that specific code from dedicated scripts (`utils.py`, `urban_areas.py`, ...) is also loaded here."
   ]
  },
  {
   "cell_type": "code",
   "execution_count": null,
   "id": "b96a0d2d-2a52-416d-af9b-02cb4604c056",
   "metadata": {
    "papermill": {
     "duration": 3.582485,
     "end_time": "2024-10-22T12:01:31.659033",
     "exception": false,
     "start_time": "2024-10-22T12:01:28.076548",
     "status": "completed"
    },
    "tags": []
   },
   "outputs": [],
   "source": [
    "%load_ext autoreload\n",
    "%autoreload 2\n",
    "    \n",
    "import cartopy.crs as ccrs\n",
    "import cf_xarray as cfxr\n",
    "import dask\n",
    "import geopandas as gpd\n",
    "import matplotlib.pyplot as plt\n",
    "import numpy as np\n",
    "import os\n",
    "import pandas as pd\n",
    "import sys\n",
    "import xarray as xr\n",
    "import glob\n",
    "\n",
    "\n",
    "from icecream import ic\n",
    "from itertools import product\n",
    "from matplotlib.colors import LinearSegmentedColormap\n",
    "from mpl_toolkits.axes_grid1 import make_axes_locatable\n",
    "from shapely.geometry import Point\n",
    "from skimage.morphology import dilation, square\n",
    "from utils import RCM_DICT, MODEL_DICT, YAMLconfig\n",
    "\n",
    "from urban_areas import (\n",
    "    load_fix_variables,\n",
    "    fix_sftuf,\n",
    "    Urban_vicinity,\n",
    "    load_variable,\n",
    "    kelvin2degC,\n",
    "    load_ucdb_city,\n",
    ")\n",
    "\n",
    "from plot_functions import (\n",
    "    plot_climatology,\n",
    "    plot_time_series\n",
    ")"
   ]
  },
  {
   "cell_type": "markdown",
   "id": "32b403a1-a52d-40ab-97ff-23aef5bb1cea",
   "metadata": {
    "papermill": {
     "duration": 0.013339,
     "end_time": "2024-10-22T12:01:31.681461",
     "exception": false,
     "start_time": "2024-10-22T12:01:31.668122",
     "status": "completed"
    },
    "tags": []
   },
   "source": [
    "## Input parameters\n",
    "\n",
    "These parameters define the behaviour of the notebook, by selecting the `city`, `variable`, and some other items which are mostly self-explanatory. _(Explain here those with are not)_\n",
    "\n",
    "This cell is tagged `parameters`, in order to be managed externally by the [`papermill` package](https://papermill.readthedocs.io/en/latest)."
   ]
  },
  {
   "cell_type": "code",
   "execution_count": null,
   "id": "200680c6-63ca-413d-a8ba-51ac71b16c0b",
   "metadata": {
    "papermill": {
     "duration": 0.092046,
     "end_time": "2024-10-22T12:01:31.787856",
     "exception": false,
     "start_time": "2024-10-22T12:01:31.695810",
     "status": "completed"
    },
    "tags": [
     "parameters"
    ]
   },
   "outputs": [],
   "source": [
    "abbr_city = 'London-EUR-22'\n",
    "\n",
    "variable = 'tasmin'\n",
    "urban_var = 'sftimf'\n",
    "observations = True\n",
    "domain = 'EUR-22'\n",
    "model = 'REMO' # REMO/RegCM\n",
    "scenario = 'evaluation'\n",
    "root_esgf = '/lustre/gmeteo/DATA/ESGF/REPLICA/DATA/cordex/output/'\n",
    "root_nextcloud = '/lustre/gmeteo/WORK/DATA/CORDEX-FPS-URB-RCC/nextcloud/CORDEX-CORE-WG/'\n",
    "\n",
    "\n",
    "lon_city = -0.13\n",
    "lat_city = 51.50\n",
    "\n",
    "urban_th = 10\n",
    "urban_sur_th = 10\n",
    "orog_diff = 100\n",
    "sftlf_th = 70\n",
    "scale = 2\n",
    "min_city_size = 5 # remove small urban centers (numbero of cells)\n",
    "lon_lim = 1.5\n",
    "lat_lim = 1.2"
   ]
  },
  {
   "cell_type": "code",
   "execution_count": null,
   "id": "1a120fd4-c47f-4017-9a18-b10e4679f070",
   "metadata": {
    "papermill": {
     "duration": 0.015261,
     "end_time": "2025-03-10T13:28:54.053598",
     "exception": false,
     "start_time": "2025-03-10T13:28:54.038337",
     "status": "completed"
    },
    "tags": [
     "injected-parameters"
    ]
   },
   "outputs": [],
   "source": [
    "# Parameters\n",
    "abbr_city = \"Chicago\"\n",
    "lat_city = 41.8\n",
    "lon_city =  -87.6\n",
    "domain = \"NAM-22\"\n",
    "variable = \"tasmin\"\n",
    "urban_var = \"sftimf\"\n",
    "model = \"REMO\"\n",
    "urban_th = 10\n",
    "urban_sur_th = 10\n",
    "orog_diff = 100\n",
    "sftlf_th = 70\n",
    "lon_lim = 1.5\n",
    "lat_lim = 1.2\n",
    "min_city_size = 3\n"
   ]
  },
  {
   "cell_type": "markdown",
   "id": "d8cf0373-a5fb-4e67-a941-3d7e3e2a0107",
   "metadata": {
    "papermill": {
     "duration": 0.015453,
     "end_time": "2024-10-22T12:01:31.911775",
     "exception": false,
     "start_time": "2024-10-22T12:01:31.896322",
     "status": "completed"
    },
    "tags": []
   },
   "source": [
    "Create a directory to save the results for this particular city and model"
   ]
  },
  {
   "cell_type": "code",
   "execution_count": null,
   "id": "182dcd22-53a8-49a1-ab80-36e8414b2b98",
   "metadata": {
    "papermill": {
     "duration": 0.379447,
     "end_time": "2024-10-22T12:01:32.302782",
     "exception": false,
     "start_time": "2024-10-22T12:01:31.923335",
     "status": "completed"
    },
    "tags": []
   },
   "outputs": [],
   "source": [
    "base_output_dir = f'results'\n",
    "\n",
    "cities = YAMLconfig('selected_cities.yaml')\n",
    "city = cities[f\"{abbr_city}_{model}_{urban_var}\"]['name']\n",
    "model_str = RCM_DICT[domain][model]\n",
    "output_dir = f\"{base_output_dir}/{abbr_city}-{domain}_{model_str}_{urban_var}\"\n",
    "if domain in [\"EUR-11\",\"EUR-22\"]:\n",
    "    output_dir = f\"{base_output_dir}/{abbr_city}_{model_str}_{urban_var}\"\n",
    "os.makedirs(output_dir, exist_ok = True)\n"
   ]
  },
  {
   "cell_type": "code",
   "execution_count": null,
   "id": "c80b0e11-7f44-44a6-b2ce-0583011baaac",
   "metadata": {
    "papermill": {
     "duration": 0.095822,
     "end_time": "2024-10-22T12:01:32.414821",
     "exception": false,
     "start_time": "2024-10-22T12:01:32.318999",
     "status": "completed"
    },
    "tags": []
   },
   "outputs": [],
   "source": [
    "domain_resolution = int(domain.split('-')[1])\n",
    "base_filename = f'{urban_var}_{abbr_city}-{domain}_ECMWF-ERAINT_{scenario}_r1i1p1_{model_str}'\n",
    "if domain in [\"EUR-11\",\"EUR-22\"]:\n",
    "    base_filename = f'{urban_var}_{abbr_city}_ECMWF-ERAINT_{scenario}_r1i1p1_{model_str}'"
   ]
  },
  {
   "cell_type": "markdown",
   "id": "5eaffc01-9f3f-431d-8f7e-36d4fd29ccba",
   "metadata": {
    "papermill": {
     "duration": 0.008573,
     "end_time": "2024-10-22T12:01:32.435744",
     "exception": false,
     "start_time": "2024-10-22T12:01:32.427171",
     "status": "completed"
    },
    "tags": []
   },
   "source": [
    "## Define urban areas and vicinity"
   ]
  },
  {
   "cell_type": "markdown",
   "id": "af23934e-8ef1-4997-9d75-311fddc5f129",
   "metadata": {
    "papermill": {
     "duration": 0.015841,
     "end_time": "2024-10-22T12:01:32.467693",
     "exception": false,
     "start_time": "2024-10-22T12:01:32.451852",
     "status": "completed"
    },
    "tags": []
   },
   "source": [
    "### Load fix variables\n",
    "Load fix (static) variables, such as urban fraction (sfturf), terrain elevation (orog) or land fraction (sftlf). The urban fraction needs some fixes to align the coordinates with the rest of the variables. These are applied in the `fix_sfturf` function."
   ]
  },
  {
   "cell_type": "code",
   "execution_count": null,
   "id": "8d695850-25e5-45f8-8b8b-33b5d905b965",
   "metadata": {},
   "outputs": [],
   "source": [
    "model"
   ]
  },
  {
   "cell_type": "code",
   "execution_count": null,
   "id": "cfe05457-ff64-48aa-b5b7-ae36ff4eab34",
   "metadata": {
    "papermill": {
     "duration": 0.364379,
     "end_time": "2024-10-22T12:01:32.850578",
     "exception": false,
     "start_time": "2024-10-22T12:01:32.486199",
     "status": "completed"
    },
    "tags": []
   },
   "outputs": [],
   "source": [
    "file_pattern = f\"./interpolation_results/sftimf_*{domain}*{model}*.nc\"\n",
    "file_paths = glob.glob(file_pattern)\n",
    "ds_sftuf = xr.open_dataset(file_paths[0])\n",
    "file_pattern = f\"./interpolation_results/orog_*{domain}*{model}*.nc\"\n",
    "file_paths = glob.glob(file_pattern)\n",
    "ds_orog = xr.open_dataset(file_paths[0])\n",
    "file_pattern = f\"./interpolation_results/sftlf_*{domain}*{model}*.nc\"\n",
    "file_paths = glob.glob(file_pattern)\n",
    "ds_sftlf = xr.open_dataset(file_paths[0])"
   ]
  },
  {
   "cell_type": "markdown",
   "id": "fc1c4368-c0c7-48c8-96eb-956ce1ec4b82",
   "metadata": {
    "papermill": {
     "duration": 0.009573,
     "end_time": "2024-10-22T12:01:32.874165",
     "exception": false,
     "start_time": "2024-10-22T12:01:32.864592",
     "status": "completed"
    },
    "tags": []
   },
   "source": [
    "Add parameters to the function"
   ]
  },
  {
   "cell_type": "code",
   "execution_count": null,
   "id": "8675c8e7-914d-4896-aa22-5767e7b1ab9a",
   "metadata": {
    "papermill": {
     "duration": 0.080477,
     "end_time": "2024-10-22T12:01:32.969041",
     "exception": false,
     "start_time": "2024-10-22T12:01:32.888564",
     "status": "completed"
    },
    "tags": []
   },
   "outputs": [],
   "source": [
    "URBAN = Urban_vicinity(\n",
    "    urban_th, \n",
    "    urban_sur_th, \n",
    "    orog_diff, \n",
    "    sftlf_th,\n",
    "    scale,\n",
    "    min_city_size,\n",
    "    urban_var,\n",
    "    lon_city,\n",
    "    lat_city,\n",
    "    lon_lim,\n",
    "    lat_lim,\n",
    "    model_str,\n",
    "    domain)"
   ]
  },
  {
   "cell_type": "markdown",
   "id": "6565e5e0-417c-48e6-8c00-ca20ce0a6742",
   "metadata": {
    "papermill": {
     "duration": 0.012207,
     "end_time": "2024-10-22T12:01:32.993727",
     "exception": false,
     "start_time": "2024-10-22T12:01:32.981520",
     "status": "completed"
    },
    "tags": []
   },
   "source": [
    "Crop area around de city"
   ]
  },
  {
   "cell_type": "code",
   "execution_count": null,
   "id": "2be29cba-208f-4750-81ac-0de8182a6b96",
   "metadata": {
    "papermill": {
     "duration": 0.334588,
     "end_time": "2024-10-22T12:01:33.343173",
     "exception": false,
     "start_time": "2024-10-22T12:01:33.008585",
     "status": "completed"
    },
    "tags": []
   },
   "outputs": [],
   "source": [
    "ds_sftuf = ds_sftuf.sel(lon = slice(lon_city-lon_lim, lon_city+lon_lim ), lat = slice(lat_city-lat_lim, lat_city+lat_lim))\n",
    "ds_orog = ds_orog.sel(lon = slice(lon_city-lon_lim, lon_city+lon_lim), lat = slice(lat_city-lat_lim, lat_city+lat_lim))\n",
    "ds_sftlf = ds_sftlf.sel(lon = slice(lon_city-lon_lim, lon_city+lon_lim ), lat = slice(lat_city-lat_lim, lat_city+lat_lim))"
   ]
  },
  {
   "cell_type": "markdown",
   "id": "8d93b3ef-48cf-4436-925d-d65a58f37fa4",
   "metadata": {
    "papermill": {
     "duration": 0.017377,
     "end_time": "2024-10-22T12:01:33.370447",
     "exception": false,
     "start_time": "2024-10-22T12:01:33.353070",
     "status": "completed"
    },
    "tags": []
   },
   "source": [
    "Define masks using the parameters above"
   ]
  },
  {
   "cell_type": "code",
   "execution_count": null,
   "id": "44f29621-11fe-44f3-a656-88a6af94576e",
   "metadata": {
    "papermill": {
     "duration": 2.679733,
     "end_time": "2024-10-22T12:01:36.061560",
     "exception": true,
     "start_time": "2024-10-22T12:01:33.381827",
     "status": "failed"
    },
    "tags": []
   },
   "outputs": [],
   "source": [
    "sftuf_mask, sftuf_sur_mask, orog_mask, sftlf_mask = URBAN.define_masks(\n",
    "    ds_sftuf, \n",
    "    ds_orog, \n",
    "    ds_sftlf\n",
    ")"
   ]
  },
  {
   "cell_type": "markdown",
   "id": "cc490de0-2c46-4ab1-b94f-18e189b98772",
   "metadata": {
    "papermill": {
     "duration": null,
     "end_time": null,
     "exception": null,
     "start_time": null,
     "status": "pending"
    },
    "tags": []
   },
   "source": [
    "### Define rural vicinity areas\n",
    "\n",
    "We use an iterative algorithm to select the urban vicinity excluding masked areas"
   ]
  },
  {
   "cell_type": "code",
   "execution_count": null,
   "id": "2f4fb483-d557-476e-881d-71d1a95fef16",
   "metadata": {
    "papermill": {
     "duration": null,
     "end_time": null,
     "exception": null,
     "start_time": null,
     "status": "pending"
    },
    "tags": []
   },
   "outputs": [],
   "source": [
    "urmask = URBAN.select_urban_vicinity(\n",
    "    sftuf_mask, \n",
    "    orog_mask,\n",
    "    sftlf_mask,\n",
    "    sftuf_sur_mask\n",
    ")"
   ]
  },
  {
   "cell_type": "markdown",
   "id": "c852c91e-b28d-484e-b545-3ebb842ecd05",
   "metadata": {
    "papermill": {
     "duration": null,
     "end_time": null,
     "exception": null,
     "start_time": null,
     "status": "pending"
    },
    "tags": []
   },
   "source": [
    "We can plot the masks and the urban vs vicinity areas. The latter are are passed via the `urban_areas` parameter. They are hidden if set to `None`."
   ]
  },
  {
   "cell_type": "code",
   "execution_count": null,
   "id": "62fc296b-653f-4f52-b4b2-3da1f6dd7b92",
   "metadata": {
    "papermill": {
     "duration": null,
     "end_time": null,
     "exception": null,
     "start_time": null,
     "status": "pending"
    },
    "tags": []
   },
   "outputs": [],
   "source": [
    "fig = URBAN.plot_fix_variables(ds_sftuf, ds_orog, ds_sftlf,\n",
    "                                 sftuf_mask, orog_mask, sftlf_mask,\n",
    "                                 urban_areas = urmask)\n",
    "fig.savefig(f\"{output_dir}/urmask_{base_filename}_fx.pdf\", bbox_inches='tight')"
   ]
  },
  {
   "cell_type": "markdown",
   "id": "b019434f-c936-4d45-b9eb-2e8efd5c9c0d",
   "metadata": {
    "papermill": {
     "duration": null,
     "end_time": null,
     "exception": null,
     "start_time": null,
     "status": "pending"
    },
    "tags": []
   },
   "source": [
    "Save these masks and urban fraction to NetCDF"
   ]
  },
  {
   "cell_type": "code",
   "execution_count": null,
   "id": "2673d4e7-d737-434e-a1eb-8bfc3e976706",
   "metadata": {
    "papermill": {
     "duration": null,
     "end_time": null,
     "exception": null,
     "start_time": null,
     "status": "pending"
    },
    "tags": []
   },
   "outputs": [],
   "source": [
    "urmask.to_netcdf(f\"{output_dir}/urmask_{base_filename}_fx.nc\")"
   ]
  }
 ],
 "metadata": {
  "kernelspec": {
   "display_name": "Python 3 (ipykernel)",
   "language": "python",
   "name": "python3"
  },
  "language_info": {
   "codemirror_mode": {
    "name": "ipython",
    "version": 3
   },
   "file_extension": ".py",
   "mimetype": "text/x-python",
   "name": "python",
   "nbconvert_exporter": "python",
   "pygments_lexer": "ipython3",
   "version": "3.12.6"
  },
  "papermill": {
   "default_parameters": {},
   "duration": 11.925394,
   "end_time": "2024-10-22T12:01:38.211830",
   "environment_variables": {},
   "exception": true,
   "input_path": "urban_area_selection.ipynb",
   "output_path": "urban_area_selection__papermill.ipynb",
   "parameters": {
    "abbr_city": "London-EUR-11",
    "domain": "EUR-11",
    "lat_city": 51.5,
    "lat_lim": 1,
    "lon_city": -103,
    "lon_lim": 1,
    "min_city_size": 3,
    "model": "RegCM",
    "urban_sur_th": 10,
    "urban_th": 40,
    "urban_var": "sfturf",
    "variable": "tasmax"
   },
   "start_time": "2024-10-22T12:01:26.286436",
   "version": "2.6.0"
  }
 },
 "nbformat": 4,
 "nbformat_minor": 5
}
