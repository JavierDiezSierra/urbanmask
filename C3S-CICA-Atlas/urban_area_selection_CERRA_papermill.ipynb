{
 "cells": [
  {
   "cell_type": "markdown",
   "id": "bbf5988b-679c-4f1c-9776-7e1d32eae7ac",
   "metadata": {
    "papermill": {
     "duration": 0.005476,
     "end_time": "2025-03-18T12:41:58.313609",
     "exception": false,
     "start_time": "2025-03-18T12:41:58.308133",
     "status": "completed"
    },
    "tags": []
   },
   "source": [
    "# Urban and rural surrounding areas selection\n",
    "\n",
    "***\n",
    "> This work is licensed under a [Creative Commons Attribution 4.0 International License](http://creativecommons.org/licenses/by/4.0)\n",
    ">\n",
    "> ![Creative Commons License >](https://i.creativecommons.org/l/by/4.0/88x31.png)"
   ]
  },
  {
   "cell_type": "markdown",
   "id": "f49b54ad-799c-49a3-a822-5bb3a4e35361",
   "metadata": {
    "papermill": {
     "duration": 0.004658,
     "end_time": "2025-03-18T12:41:58.323658",
     "exception": false,
     "start_time": "2025-03-18T12:41:58.319000",
     "status": "completed"
    },
    "tags": []
   },
   "source": [
    "## Load libraries\n",
    "\n",
    "Here we load the required libraries to execute the notebook. Note that specific code from dedicated scripts (`utils.py`, `urban_areas.py`, ...) is also loaded here."
   ]
  },
  {
   "cell_type": "code",
   "execution_count": 1,
   "id": "b96a0d2d-2a52-416d-af9b-02cb4604c056",
   "metadata": {
    "execution": {
     "iopub.execute_input": "2025-03-18T12:41:58.333884Z",
     "iopub.status.busy": "2025-03-18T12:41:58.333598Z",
     "iopub.status.idle": "2025-03-18T12:42:00.029072Z",
     "shell.execute_reply": "2025-03-18T12:42:00.028606Z"
    },
    "papermill": {
     "duration": 1.702411,
     "end_time": "2025-03-18T12:42:00.030568",
     "exception": false,
     "start_time": "2025-03-18T12:41:58.328157",
     "status": "completed"
    },
    "tags": []
   },
   "outputs": [],
   "source": [
    "import geopandas as gpd\n",
    "from shapely.geometry import Point\n",
    "import pandas as pd\n",
    "\n",
    "import os\n",
    "import numpy as np\n",
    "import xarray as xr\n",
    "import cf_xarray as cfxr\n",
    "from pathlib import Path\n",
    "import glob\n",
    "\n",
    "from urbanmask.urban_areas import (\n",
    "    Urban_vicinity,\n",
    ")\n",
    "\n",
    "from urbanmask.UHI_plot_functions import (\n",
    "    compute_climatology,\n",
    "    plot_climatology,\n",
    "    compute_time_series,\n",
    "    plot_time_series\n",
    ")\n",
    "\n",
    "from urbanmask.utils import (\n",
    "    kelvin2degC,\n",
    "    traverseDir,\n",
    "    fix_360_longitudes,\n",
    ")"
   ]
  },
  {
   "cell_type": "code",
   "execution_count": 2,
   "id": "57b7728a-356f-4410-a28b-047f9b620c0f",
   "metadata": {
    "execution": {
     "iopub.execute_input": "2025-03-18T12:42:00.042424Z",
     "iopub.status.busy": "2025-03-18T12:42:00.042029Z",
     "iopub.status.idle": "2025-03-18T12:42:00.045359Z",
     "shell.execute_reply": "2025-03-18T12:42:00.044965Z"
    },
    "papermill": {
     "duration": 0.009939,
     "end_time": "2025-03-18T12:42:00.046340",
     "exception": false,
     "start_time": "2025-03-18T12:42:00.036401",
     "status": "completed"
    },
    "tags": []
   },
   "outputs": [],
   "source": [
    "from lib.utils import latest_version, fix_360_longitudes\n",
    "from lib.interpolater import Interpolator"
   ]
  },
  {
   "cell_type": "markdown",
   "id": "9b22de44-3b22-4a7f-90d0-8887f3a503ee",
   "metadata": {
    "papermill": {
     "duration": 0.004706,
     "end_time": "2025-03-18T12:42:00.055926",
     "exception": false,
     "start_time": "2025-03-18T12:42:00.051220",
     "status": "completed"
    },
    "tags": []
   },
   "source": [
    "## Input parameters\n",
    "\n",
    "These parameters define the behavior of the notebook by selecting the `city`, `variable`, and other items, most of which are self-explanatory. _(Provide additional explanations here for any parameters that are not self-explanatory)._"
   ]
  },
  {
   "cell_type": "code",
   "execution_count": 3,
   "id": "200680c6-63ca-413d-a8ba-51ac71b16c0b",
   "metadata": {
    "execution": {
     "iopub.execute_input": "2025-03-18T12:42:00.066781Z",
     "iopub.status.busy": "2025-03-18T12:42:00.066487Z",
     "iopub.status.idle": "2025-03-18T12:42:00.069542Z",
     "shell.execute_reply": "2025-03-18T12:42:00.069110Z"
    },
    "papermill": {
     "duration": 0.009819,
     "end_time": "2025-03-18T12:42:00.070660",
     "exception": false,
     "start_time": "2025-03-18T12:42:00.060841",
     "status": "completed"
    },
    "tags": [
     "parameters"
    ]
   },
   "outputs": [],
   "source": [
    "# Parameters\n",
    "city = 'Paris'\n",
    "name = 'Paris'\n",
    "lon_city = 2.35\n",
    "lat_city = 48.85\n",
    "\n",
    "model = 'CERRA'\n",
    "variable= 't'\n",
    "\n",
    "urban_th = 60\n",
    "urban_sur_th = 10\n",
    "orog_diff = 100\n",
    "sftlf_th = 70\n",
    "scale = 2\n",
    "min_city_size = 0\n",
    "lon_lim = 1\n",
    "lat_lim = 1"
   ]
  },
  {
   "cell_type": "code",
   "execution_count": 4,
   "id": "5d4bbc33",
   "metadata": {
    "execution": {
     "iopub.execute_input": "2025-03-18T12:42:00.081870Z",
     "iopub.status.busy": "2025-03-18T12:42:00.081397Z",
     "iopub.status.idle": "2025-03-18T12:42:00.084218Z",
     "shell.execute_reply": "2025-03-18T12:42:00.083851Z"
    },
    "papermill": {
     "duration": 0.009707,
     "end_time": "2025-03-18T12:42:00.085139",
     "exception": false,
     "start_time": "2025-03-18T12:42:00.075432",
     "status": "completed"
    },
    "tags": [
     "injected-parameters"
    ]
   },
   "outputs": [],
   "source": [
    "# Parameters\n",
    "name = \"Baghdad\"\n",
    "abbr_city = \"Baghdad\"\n",
    "lon_city = 44.4\n",
    "lat_city = 33.34\n",
    "variable = \"tasmin\"\n",
    "urban_th = 60\n",
    "urban_sur_th = 10\n",
    "orog_diff = 100\n",
    "sftlf_th = 70\n",
    "lon_lim = 1.5\n",
    "lat_lim = 1.2\n",
    "min_city_size = 0\n"
   ]
  },
  {
   "cell_type": "markdown",
   "id": "d8cf0373-a5fb-4e67-a941-3d7e3e2a0107",
   "metadata": {
    "papermill": {
     "duration": 0.004986,
     "end_time": "2025-03-18T12:42:00.094862",
     "exception": false,
     "start_time": "2025-03-18T12:42:00.089876",
     "status": "completed"
    },
    "tags": []
   },
   "source": [
    "Create a directory to save the results for this particular city and model"
   ]
  },
  {
   "cell_type": "code",
   "execution_count": 5,
   "id": "182dcd22-53a8-49a1-ab80-36e8414b2b98",
   "metadata": {
    "execution": {
     "iopub.execute_input": "2025-03-18T12:42:00.106174Z",
     "iopub.status.busy": "2025-03-18T12:42:00.105752Z",
     "iopub.status.idle": "2025-03-18T12:42:00.108509Z",
     "shell.execute_reply": "2025-03-18T12:42:00.108122Z"
    },
    "papermill": {
     "duration": 0.009764,
     "end_time": "2025-03-18T12:42:00.109517",
     "exception": false,
     "start_time": "2025-03-18T12:42:00.099753",
     "status": "completed"
    },
    "tags": []
   },
   "outputs": [],
   "source": [
    "base_output_dir = 'results_CERRA'\n",
    "output_dir = f\"{base_output_dir}/{city}_{model}\"\n",
    "os.makedirs(output_dir, exist_ok = True)"
   ]
  },
  {
   "cell_type": "markdown",
   "id": "3d9810c5-a133-46e1-bd7e-bec1963e864e",
   "metadata": {
    "papermill": {
     "duration": 0.004608,
     "end_time": "2025-03-18T12:42:00.118805",
     "exception": false,
     "start_time": "2025-03-18T12:42:00.114197",
     "status": "completed"
    },
    "tags": []
   },
   "source": [
    "Infer doman resolution in degrees and create filename"
   ]
  },
  {
   "cell_type": "code",
   "execution_count": 6,
   "id": "caae2f5e-3a0d-4e7e-87dd-eb706eb6452c",
   "metadata": {
    "execution": {
     "iopub.execute_input": "2025-03-18T12:42:00.130039Z",
     "iopub.status.busy": "2025-03-18T12:42:00.129592Z",
     "iopub.status.idle": "2025-03-18T12:42:00.132030Z",
     "shell.execute_reply": "2025-03-18T12:42:00.131616Z"
    },
    "papermill": {
     "duration": 0.009417,
     "end_time": "2025-03-18T12:42:00.133008",
     "exception": false,
     "start_time": "2025-03-18T12:42:00.123591",
     "status": "completed"
    },
    "tags": []
   },
   "outputs": [],
   "source": [
    "#domain_resolution = int(domain.split('-')[1])\n",
    "base_filename = f'{city}-ECMWF-ERA5_r1i1p1f1_{model}'"
   ]
  },
  {
   "cell_type": "markdown",
   "id": "5eaffc01-9f3f-431d-8f7e-36d4fd29ccba",
   "metadata": {
    "papermill": {
     "duration": 0.005251,
     "end_time": "2025-03-18T12:42:00.143299",
     "exception": false,
     "start_time": "2025-03-18T12:42:00.138048",
     "status": "completed"
    },
    "tags": []
   },
   "source": [
    "## Define urban areas and vicinity"
   ]
  },
  {
   "cell_type": "markdown",
   "id": "af23934e-8ef1-4997-9d75-311fddc5f129",
   "metadata": {
    "papermill": {
     "duration": 0.00515,
     "end_time": "2025-03-18T12:42:00.153331",
     "exception": false,
     "start_time": "2025-03-18T12:42:00.148181",
     "status": "completed"
    },
    "tags": []
   },
   "source": [
    "### Load static variables\n",
    "Load static variables, such as urban fraction (sfturf), terrain elevation (orography) or land-sea fraction (sftlf)."
   ]
  },
  {
   "cell_type": "raw",
   "id": "919cd456-41aa-43da-a9c8-7e53e5fe71b2",
   "metadata": {
    "papermill": {
     "duration": 0.005003,
     "end_time": "2025-03-18T12:42:00.163207",
     "exception": false,
     "start_time": "2025-03-18T12:42:00.158204",
     "status": "completed"
    },
    "tags": []
   },
   "source": [
    "root = \"/home/yaizaquintana/Desktop/DATA\"\n",
    "\n",
    "# Load high-resolution orography, land-sea mask and urban fraction for ERA5-Land\n",
    "ds_orog = xr.open_dataset(f'{root}/orog_CERRA_fx.nc')\n",
    "ds_sftlf = xr.open_dataset(f'{root}/lsm_CERRA_fx.nc')\n",
    "ds_sftuf = xr.open_dataset(f'{root}/CERRALand_tiles_fraction.nc')"
   ]
  },
  {
   "cell_type": "code",
   "execution_count": 7,
   "id": "5c47e1ba-f989-43a1-8aab-6e99b02f6afc",
   "metadata": {
    "execution": {
     "iopub.execute_input": "2025-03-18T12:42:00.174139Z",
     "iopub.status.busy": "2025-03-18T12:42:00.173731Z",
     "iopub.status.idle": "2025-03-18T12:42:00.305012Z",
     "shell.execute_reply": "2025-03-18T12:42:00.304523Z"
    },
    "papermill": {
     "duration": 0.138522,
     "end_time": "2025-03-18T12:42:00.306613",
     "exception": false,
     "start_time": "2025-03-18T12:42:00.168091",
     "status": "completed"
    },
    "tags": []
   },
   "outputs": [],
   "source": [
    "root = '/lustre/gmeteo/WORK/DATA/C3S-CDS/'\n",
    "\n",
    "ds_orog = xr.open_dataset(f'{root}/CERRA/fx/orog_CERRA_fx.nc')\n",
    "ds_sftlf = xr.open_dataset(f'{root}/CERRA/fx/lsm_CERRA_fx.nc')\n",
    "ds_sftuf = xr.open_dataset(f'{root}/CERRA-Land/fx/CERRALand_tiles_fraction.nc')"
   ]
  },
  {
   "cell_type": "code",
   "execution_count": 8,
   "id": "cfe05457-ff64-48aa-b5b7-ae36ff4eab34",
   "metadata": {
    "execution": {
     "iopub.execute_input": "2025-03-18T12:42:00.318470Z",
     "iopub.status.busy": "2025-03-18T12:42:00.318195Z",
     "iopub.status.idle": "2025-03-18T12:42:00.344040Z",
     "shell.execute_reply": "2025-03-18T12:42:00.343580Z"
    },
    "papermill": {
     "duration": 0.033214,
     "end_time": "2025-03-18T12:42:00.345439",
     "exception": false,
     "start_time": "2025-03-18T12:42:00.312225",
     "status": "completed"
    },
    "tags": []
   },
   "outputs": [],
   "source": [
    "# Process orography\n",
    "ds_orog = ds_orog.isel(valid_time=0)\n",
    "ds_orog = ds_orog.rename({'longitude': 'lon', 'latitude': 'lat'})\n",
    "\n",
    "# Process land-sea mask, converting values for land percentage\n",
    "ds_sftlf = ds_sftlf.isel(valid_time=0)\n",
    "ds_sftlf['sftlf'] = ds_sftlf['lsm'] * 100\n",
    "ds_sftlf = ds_sftlf.drop_vars('lsm').rename({'longitude': 'lon', 'latitude': 'lat'})\n",
    "\n",
    "# Process land-sea mask, converting values for land percentage\n",
    "ds_sftuf = ds_sftuf.isel(oneD=0)\n",
    "ds_sftuf['sftuf'] = ds_sftuf['frac_urban'] * 100\n",
    "#ds_sftuf = ds_sftuf.drop_vars('frac_urban').rename({'x': 'lon', 'y': 'lat'})\n",
    "ds_sftuf = ds_sftuf.assign_coords({'lat': ds_orog['lat'], 'lon': ds_orog['lon']})"
   ]
  },
  {
   "cell_type": "markdown",
   "id": "fc1c4368-c0c7-48c8-96eb-956ce1ec4b82",
   "metadata": {
    "papermill": {
     "duration": 0.005668,
     "end_time": "2025-03-18T12:42:00.356497",
     "exception": false,
     "start_time": "2025-03-18T12:42:00.350829",
     "status": "completed"
    },
    "tags": []
   },
   "source": [
    "Add parameters to the function"
   ]
  },
  {
   "cell_type": "code",
   "execution_count": 9,
   "id": "8675c8e7-914d-4896-aa22-5767e7b1ab9a",
   "metadata": {
    "execution": {
     "iopub.execute_input": "2025-03-18T12:42:00.368339Z",
     "iopub.status.busy": "2025-03-18T12:42:00.368028Z",
     "iopub.status.idle": "2025-03-18T12:42:00.370951Z",
     "shell.execute_reply": "2025-03-18T12:42:00.370512Z"
    },
    "papermill": {
     "duration": 0.010267,
     "end_time": "2025-03-18T12:42:00.372071",
     "exception": false,
     "start_time": "2025-03-18T12:42:00.361804",
     "status": "completed"
    },
    "tags": []
   },
   "outputs": [],
   "source": [
    "URBAN = Urban_vicinity(\n",
    "    urban_th, \n",
    "    urban_sur_th, \n",
    "    orog_diff, \n",
    "    sftlf_th,\n",
    "    scale,\n",
    "    min_city_size,\n",
    "    lon_city,\n",
    "    lat_city,\n",
    "    lon_lim,\n",
    "    lat_lim,\n",
    "    model)"
   ]
  },
  {
   "cell_type": "markdown",
   "id": "7e426840-4dba-4b0c-90be-c4ad40ea6796",
   "metadata": {
    "papermill": {
     "duration": 0.004846,
     "end_time": "2025-03-18T12:42:00.382445",
     "exception": false,
     "start_time": "2025-03-18T12:42:00.377599",
     "status": "completed"
    },
    "tags": []
   },
   "source": [
    "### Load climate variable"
   ]
  },
  {
   "cell_type": "markdown",
   "id": "6565e5e0-417c-48e6-8c00-ca20ce0a6742",
   "metadata": {
    "papermill": {
     "duration": 0.004905,
     "end_time": "2025-03-18T12:42:00.392217",
     "exception": false,
     "start_time": "2025-03-18T12:42:00.387312",
     "status": "completed"
    },
    "tags": []
   },
   "source": [
    "Crop area around de city"
   ]
  },
  {
   "cell_type": "code",
   "execution_count": 10,
   "id": "a074c3d4-f3c1-4d92-b202-038133cb10b7",
   "metadata": {
    "editable": true,
    "execution": {
     "iopub.execute_input": "2025-03-18T12:42:00.403926Z",
     "iopub.status.busy": "2025-03-18T12:42:00.403621Z",
     "iopub.status.idle": "2025-03-18T12:42:00.406119Z",
     "shell.execute_reply": "2025-03-18T12:42:00.405696Z"
    },
    "papermill": {
     "duration": 0.00976,
     "end_time": "2025-03-18T12:42:00.407196",
     "exception": false,
     "start_time": "2025-03-18T12:42:00.397436",
     "status": "completed"
    },
    "slideshow": {
     "slide_type": ""
    },
    "tags": [
     "parameters"
    ]
   },
   "outputs": [],
   "source": [
    "root = \"/lustre/gmeteo/WORK/DATA/C3S-CDS/C3S-CICA-Atlas/v2/\"\n",
    "domain= \"CERRA\"\n",
    "name= \"t_CERRA_mon_198501-202112_v02.nc\""
   ]
  },
  {
   "cell_type": "code",
   "execution_count": 11,
   "id": "658e7f51-9d39-4d48-a8df-0b50314a28af",
   "metadata": {
    "execution": {
     "iopub.execute_input": "2025-03-18T12:42:00.419593Z",
     "iopub.status.busy": "2025-03-18T12:42:00.419293Z",
     "iopub.status.idle": "2025-03-18T12:42:00.457621Z",
     "shell.execute_reply": "2025-03-18T12:42:00.457150Z"
    },
    "papermill": {
     "duration": 0.046218,
     "end_time": "2025-03-18T12:42:00.458900",
     "exception": false,
     "start_time": "2025-03-18T12:42:00.412682",
     "status": "completed"
    },
    "tags": []
   },
   "outputs": [
    {
     "name": "stderr",
     "output_type": "stream",
     "text": [
      "/oceano/gmeteo/users/quintanay/mambaforge/lib/python3.10/site-packages/xarray/conventions.py:287: SerializationWarning: variable 't' has multiple fill values {1.0384594e+34, -1.7014118e+38} defined, decoding all values to NaN.\n",
      "  var = coder.decode(var, name=name)\n",
      "/oceano/gmeteo/users/quintanay/mambaforge/lib/python3.10/site-packages/xarray/backends/api.py:365: UserWarning: The specified chunks separate the stored chunks along dimension \"time\" starting at index 120. This could degrade performance. Instead, consider rechunking after loading.\n",
      "  var_chunks = _get_chunk(var, chunks, chunkmanager)\n"
     ]
    }
   ],
   "source": [
    "root_nc = root + domain + '/' + name\n",
    "var = name.split('_')[0]\n",
    "\n",
    "ds_RCM = xr.open_dataset(root_nc, engine=\"netcdf4\", \n",
    "                    chunks={\"member\": 1, \"time\": 120})\n",
    "\n",
    "\n",
    "# Crop the area for the city using the domain resolution\n",
    "# Define trimming limits\n",
    "lat_min = lat_city - lat_lim\n",
    "lat_max = lat_city + lat_lim\n",
    "lon_min = lon_city - lon_lim\n",
    "lon_max = lon_city + lon_lim\n",
    "\n",
    "# Crop the dataset\n",
    "ds_RCM = ds_RCM.sel(lat=slice(lat_min, lat_max), lon=slice(lon_min, lon_max))"
   ]
  },
  {
   "cell_type": "markdown",
   "id": "e973d5fc-5088-4f95-825f-8bd39843e29e",
   "metadata": {
    "papermill": {
     "duration": 0.005612,
     "end_time": "2025-03-18T12:42:00.470584",
     "exception": false,
     "start_time": "2025-03-18T12:42:00.464972",
     "status": "completed"
    },
    "tags": []
   },
   "source": [
    "### Interpolation of the static variable"
   ]
  },
  {
   "cell_type": "code",
   "execution_count": 12,
   "id": "61016048-7435-4c0a-9ee3-b5b86e1275d1",
   "metadata": {
    "execution": {
     "iopub.execute_input": "2025-03-18T12:42:00.483047Z",
     "iopub.status.busy": "2025-03-18T12:42:00.482634Z",
     "iopub.status.idle": "2025-03-18T12:43:04.655642Z",
     "shell.execute_reply": "2025-03-18T12:43:04.655037Z"
    },
    "papermill": {
     "duration": 64.18043,
     "end_time": "2025-03-18T12:43:04.656780",
     "exception": false,
     "start_time": "2025-03-18T12:42:00.476350",
     "status": "completed"
    },
    "tags": []
   },
   "outputs": [
    {
     "name": "stderr",
     "output_type": "stream",
     "text": [
      "/oceano/gmeteo/users/quintanay/mambaforge/lib/python3.10/site-packages/xesmf/smm.py:197: RuntimeWarning: invalid value encountered in cast\n",
      "  outdata = outdata.astype(indata_dtype)\n"
     ]
    },
    {
     "name": "stderr",
     "output_type": "stream",
     "text": [
      "/oceano/gmeteo/users/quintanay/mambaforge/lib/python3.10/site-packages/xesmf/smm.py:197: RuntimeWarning: invalid value encountered in cast\n",
      "  outdata = outdata.astype(indata_dtype)\n"
     ]
    },
    {
     "name": "stderr",
     "output_type": "stream",
     "text": [
      "/oceano/gmeteo/users/quintanay/mambaforge/lib/python3.10/site-packages/xesmf/smm.py:197: RuntimeWarning: invalid value encountered in cast\n",
      "  outdata = outdata.astype(indata_dtype)\n"
     ]
    }
   ],
   "source": [
    "# Interpolate data\n",
    "int_attr = {'interpolation_method' : 'conservative_normed', \n",
    "            'lats' : ds_RCM.lat.values,\n",
    "            'lons' : ds_RCM.lon.values,\n",
    "            'var_name' : 'sftuf'\n",
    "}\n",
    "\n",
    "INTER = Interpolator(int_attr)\n",
    "ds_sftuf = INTER(ds_sftuf)\n",
    "\n",
    "int_attr = {'interpolation_method' : 'conservative_normed', \n",
    "            'lats' : ds_RCM.lat.values,\n",
    "            'lons' : ds_RCM.lon.values,\n",
    "            'var_name' : 'orog'\n",
    "}\n",
    "INTER = Interpolator(int_attr)\n",
    "ds_orog = INTER(ds_orog)\n",
    "\n",
    "int_attr = {'interpolation_method' : 'conservative_normed', \n",
    "            'lats' : ds_RCM.lat.values,\n",
    "            'lons' : ds_RCM.lon.values,\n",
    "            'var_name' : 'sftlf'\n",
    "}\n",
    "INTER = Interpolator(int_attr)\n",
    "ds_sftlf = INTER(ds_sftlf)"
   ]
  },
  {
   "cell_type": "markdown",
   "id": "a95b3c84-9c50-4cce-8667-e9c247c2b003",
   "metadata": {
    "papermill": {
     "duration": 0.004887,
     "end_time": "2025-03-18T12:43:04.667665",
     "exception": false,
     "start_time": "2025-03-18T12:43:04.662778",
     "status": "completed"
    },
    "tags": []
   },
   "source": [
    "### Create urban_mask"
   ]
  },
  {
   "cell_type": "markdown",
   "id": "8d93b3ef-48cf-4436-925d-d65a58f37fa4",
   "metadata": {
    "papermill": {
     "duration": 0.005202,
     "end_time": "2025-03-18T12:43:04.677714",
     "exception": false,
     "start_time": "2025-03-18T12:43:04.672512",
     "status": "completed"
    },
    "tags": []
   },
   "source": [
    "Define masks using the parameters above"
   ]
  },
  {
   "cell_type": "code",
   "execution_count": 13,
   "id": "44f29621-11fe-44f3-a656-88a6af94576e",
   "metadata": {
    "execution": {
     "iopub.execute_input": "2025-03-18T12:43:04.689408Z",
     "iopub.status.busy": "2025-03-18T12:43:04.689098Z",
     "iopub.status.idle": "2025-03-18T12:43:04.699538Z",
     "shell.execute_reply": "2025-03-18T12:43:04.699089Z"
    },
    "papermill": {
     "duration": 0.017579,
     "end_time": "2025-03-18T12:43:04.700522",
     "exception": false,
     "start_time": "2025-03-18T12:43:04.682943",
     "status": "completed"
    },
    "tags": []
   },
   "outputs": [],
   "source": [
    "sftuf_mask, sftuf_sur_mask, orog_mask, sftlf_mask = URBAN.define_masks(\n",
    "    ds_sftuf, \n",
    "    ds_orog, \n",
    "    ds_sftlf\n",
    ")"
   ]
  },
  {
   "cell_type": "markdown",
   "id": "cc490de0-2c46-4ab1-b94f-18e189b98772",
   "metadata": {
    "papermill": {
     "duration": 0.005388,
     "end_time": "2025-03-18T12:43:04.711080",
     "exception": false,
     "start_time": "2025-03-18T12:43:04.705692",
     "status": "completed"
    },
    "tags": []
   },
   "source": [
    "### Define rural vicinity areas\n",
    "\n",
    "We use an iterative algorithm to select the urban vicinity excluding masked areas"
   ]
  },
  {
   "cell_type": "code",
   "execution_count": 14,
   "id": "2f4fb483-d557-476e-881d-71d1a95fef16",
   "metadata": {
    "execution": {
     "iopub.execute_input": "2025-03-18T12:43:04.722308Z",
     "iopub.status.busy": "2025-03-18T12:43:04.722032Z",
     "iopub.status.idle": "2025-03-18T12:43:04.735663Z",
     "shell.execute_reply": "2025-03-18T12:43:04.735268Z"
    },
    "papermill": {
     "duration": 0.020395,
     "end_time": "2025-03-18T12:43:04.736691",
     "exception": false,
     "start_time": "2025-03-18T12:43:04.716296",
     "status": "completed"
    },
    "tags": []
   },
   "outputs": [
    {
     "name": "stdout",
     "output_type": "stream",
     "text": [
      "Warning: No more non-urban cells can be found in iteration number 0\n"
     ]
    }
   ],
   "source": [
    "urmask = URBAN.select_urban_vicinity(\n",
    "    sftuf_mask, \n",
    "    orog_mask,\n",
    "    sftlf_mask,\n",
    "    sftuf_sur_mask\n",
    ")"
   ]
  },
  {
   "cell_type": "markdown",
   "id": "c852c91e-b28d-484e-b545-3ebb842ecd05",
   "metadata": {
    "papermill": {
     "duration": 0.005018,
     "end_time": "2025-03-18T12:43:04.747345",
     "exception": false,
     "start_time": "2025-03-18T12:43:04.742327",
     "status": "completed"
    },
    "tags": []
   },
   "source": [
    "We can plot the masks and the urban vs vicinity areas. The latter are are passed via the `urban_areas` parameter. They are hidden if set to `None`."
   ]
  },
  {
   "cell_type": "code",
   "execution_count": 15,
   "id": "62fc296b-653f-4f52-b4b2-3da1f6dd7b92",
   "metadata": {
    "execution": {
     "iopub.execute_input": "2025-03-18T12:43:04.759031Z",
     "iopub.status.busy": "2025-03-18T12:43:04.758614Z",
     "iopub.status.idle": "2025-03-18T12:43:11.234148Z",
     "shell.execute_reply": "2025-03-18T12:43:11.233674Z"
    },
    "papermill": {
     "duration": 6.482957,
     "end_time": "2025-03-18T12:43:11.235318",
     "exception": false,
     "start_time": "2025-03-18T12:43:04.752361",
     "status": "completed"
    },
    "tags": []
   },
   "outputs": [
    {
     "name": "stderr",
     "output_type": "stream",
     "text": [
      "/lustre/gmeteo/WORK/quintanay/C3S-CICA-Atlas/urbanmask/urban_areas.py:459: RuntimeWarning: All-NaN axis encountered\n",
      "  vmin = np.nanmin(ds_orog['orog']),\n",
      "/lustre/gmeteo/WORK/quintanay/C3S-CICA-Atlas/urbanmask/urban_areas.py:460: RuntimeWarning: All-NaN axis encountered\n",
      "  vmax = np.nanmax(ds_orog['orog'])\n",
      "/lustre/gmeteo/WORK/quintanay/C3S-CICA-Atlas/urbanmask/urban_areas.py:474: RuntimeWarning: All-NaN slice encountered\n",
      "  vmax = np.nanmax(abs(ds_sftuf[\"sftuf\"].where(sftuf_mask == 1, np.nan).values))\n",
      "/lustre/gmeteo/WORK/quintanay/C3S-CICA-Atlas/urbanmask/urban_areas.py:488: RuntimeWarning: All-NaN axis encountered\n",
      "  vmin = np.nanmin(ds_orog['orog']),\n",
      "/lustre/gmeteo/WORK/quintanay/C3S-CICA-Atlas/urbanmask/urban_areas.py:489: RuntimeWarning: All-NaN axis encountered\n",
      "  vmax = np.nanmax(ds_orog['orog'])\n"
     ]
    },
    {
     "data": {
      "image/png": "[encoded data removed]",
      "text/plain": [
       "<Figure size 2000x1000 with 12 Axes>"
      ]
     },
     "metadata": {},
     "output_type": "display_data"
    }
   ],
   "source": [
    "fig = URBAN.plot_static_variables(ds_sftuf, ds_orog, ds_sftlf,\n",
    "                                 sftuf_mask, orog_mask, sftlf_mask,\n",
    "                                 urban_areas = urmask)\n",
    "fig.savefig(f\"{output_dir}/urmask_{base_filename}_fx.pdf\", bbox_inches='tight')"
   ]
  },
  {
   "cell_type": "markdown",
   "id": "b019434f-c936-4d45-b9eb-2e8efd5c9c0d",
   "metadata": {
    "papermill": {
     "duration": 0.006097,
     "end_time": "2025-03-18T12:43:11.248480",
     "exception": false,
     "start_time": "2025-03-18T12:43:11.242383",
     "status": "completed"
    },
    "tags": []
   },
   "source": [
    "Save these masks and urban fraction to NetCDF"
   ]
  },
  {
   "cell_type": "code",
   "execution_count": 16,
   "id": "2673d4e7-d737-434e-a1eb-8bfc3e976706",
   "metadata": {
    "execution": {
     "iopub.execute_input": "2025-03-18T12:43:11.262022Z",
     "iopub.status.busy": "2025-03-18T12:43:11.261750Z",
     "iopub.status.idle": "2025-03-18T12:43:11.545428Z",
     "shell.execute_reply": "2025-03-18T12:43:11.544948Z"
    },
    "papermill": {
     "duration": 0.292297,
     "end_time": "2025-03-18T12:43:11.546794",
     "exception": false,
     "start_time": "2025-03-18T12:43:11.254497",
     "status": "completed"
    },
    "tags": []
   },
   "outputs": [],
   "source": [
    "urmask.to_netcdf(f\"{output_dir}/urmask_{base_filename}_fx.nc\")\n",
    "ds_sftuf.rename_vars({'sftuf': 'sfturf'}).to_netcdf(f\"{output_dir}/sfturf_{base_filename}_fx.nc\")"
   ]
  }
 ],
 "metadata": {
  "kernelspec": {
   "display_name": "Python 3 (ipykernel)",
   "language": "python",
   "name": "python3"
  },
  "language_info": {
   "codemirror_mode": {
    "name": "ipython",
    "version": 3
   },
   "file_extension": ".py",
   "mimetype": "text/x-python",
   "name": "python",
   "nbconvert_exporter": "python",
   "pygments_lexer": "ipython3",
   "version": "3.12.6"
  },
  "papermill": {
   "default_parameters": {},
   "duration": 74.874123,
   "end_time": "2025-03-18T12:43:12.270386",
   "environment_variables": {},
   "exception": null,
   "input_path": "urban_area_selection.ipynb",
   "output_path": "urban_area_selection_CERRA_papermill.ipynb",
   "parameters": {
    "abbr_city": "Baghdad",
    "lat_city": 33.34,
    "lat_lim": 1.2,
    "lon_city": 44.4,
    "lon_lim": 1.5,
    "min_city_size": 0,
    "name": "Baghdad",
    "orog_diff": 100,
    "sftlf_th": 70,
    "urban_sur_th": 10,
    "urban_th": 60,
    "variable": "tasmin"
   },
   "start_time": "2025-03-18T12:41:57.396263",
   "version": "2.6.0"
  }
 },
 "nbformat": 4,
 "nbformat_minor": 5
}
