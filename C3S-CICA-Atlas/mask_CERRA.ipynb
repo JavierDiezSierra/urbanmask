{
 "cells": [
  {
   "cell_type": "code",
   "execution_count": null,
   "id": "23da0be6-ff97-4462-a8dd-43c3c96ff262",
   "metadata": {},
   "outputs": [],
   "source": [
    "import xarray as xr\n",
    "import numpy as np\n",
    "import os\n",
    "import glob"
   ]
  },
  {
   "cell_type": "markdown",
   "id": "dcb6f92e-649e-4c1b-936c-9799da47b0e8",
   "metadata": {},
   "source": [
    "## Parameters"
   ]
  },
  {
   "cell_type": "code",
   "execution_count": null,
   "id": "7aaed925-91a2-4b03-afac-192e37290449",
   "metadata": {
    "editable": true,
    "papermill": {
     "duration": 0.009976,
     "end_time": "2025-03-18T12:19:45.064735",
     "exception": false,
     "start_time": "2025-03-18T12:19:45.054759",
     "status": "completed"
    },
    "slideshow": {
     "slide_type": ""
    },
    "tags": [
     "parameters"
    ]
   },
   "outputs": [],
   "source": [
    "root = \"/lustre/gmeteo/WORK/DATA/C3S-CDS/C3S-CICA-Atlas/v2/\"\n",
    "domain= \"CERRA\"\n",
    "name= \"sfcwind_CERRA_mon_198501-202112_v02.nc\"\n",
    "#sfcwind_CERRA_mon_198501-202112_v02.nc"
   ]
  },
  {
   "cell_type": "markdown",
   "id": "e6d997b2-46f8-4e75-9230-7623d4c927b4",
   "metadata": {},
   "source": [
    "## Open the dataset"
   ]
  },
  {
   "cell_type": "code",
   "execution_count": null,
   "id": "32712f52-bceb-4ba8-9e67-9363d6b274e7",
   "metadata": {
    "scrolled": true
   },
   "outputs": [],
   "source": [
    "root_nc = root + domain + '/'  + name\n",
    "var = name.split('_')[0]\n",
    "\n",
    "ds = xr.open_dataset(root_nc, engine=\"netcdf4\", \n",
    "                    chunks={\"member\": 1, \"time\": 120})"
   ]
  },
  {
   "cell_type": "code",
   "execution_count": null,
   "id": "c3d9caaf-600e-4d74-ab38-50efadaf2f28",
   "metadata": {
    "papermill": {
     "duration": 0.647871,
     "end_time": "2025-03-18T09:52:57.831035",
     "exception": true,
     "start_time": "2025-03-18T09:52:57.183164",
     "status": "failed"
    },
    "tags": []
   },
   "outputs": [],
   "source": [
    "root_output = \"/lustre/gmeteo/WORK/DATA/C3S-CDS/C3S-CICA-Atlas/v2.urban/\"\n",
    "#create de output folder for urban\n",
    "root_urb = root_output + domain +'URB/'\n",
    "\n",
    "name_urb = \"_\".join(name.split('_')[0:2]) + 'URB_' + \"_\".join(name.split('_')[2:])\n",
    "\n",
    "if not os.path.exists(os.path.dirname( domain +'URB/')):\n",
    "    os.makedirs(os.path.dirname(domain +'URB/'))\n",
    "    \n",
    "if not os.path.exists(os.path.dirname(root_urb)):\n",
    "    os.makedirs(os.path.dirname(root_urb))\n",
    "\n",
    "\n",
    "#create de output folder for rural\n",
    "root_rur = root_output + domain +'RUR/'\n",
    "name_rur = \"_\".join(name.split('_')[0:2]) + 'RUR_' + \"_\".join(name.split('_')[2:])\n",
    "\n",
    "if not os.path.exists(os.path.dirname( domain +'RUR/')):\n",
    "    os.makedirs(os.path.dirname( domain +'RUR/'))\n",
    "    \n",
    "if not os.path.exists(os.path.dirname(root_rur)):\n",
    "    os.makedirs(os.path.dirname(root_rur))"
   ]
  },
  {
   "cell_type": "markdown",
   "id": "2aef5bbb-e500-4e1c-ade4-e530c42b0b22",
   "metadata": {},
   "source": [
    "## Create the mask"
   ]
  },
  {
   "cell_type": "markdown",
   "id": "8d4eb6d9-20b7-4fa0-8c4f-6966743fca17",
   "metadata": {},
   "source": [
    "### Create a NaN dataset for the masks"
   ]
  },
  {
   "cell_type": "code",
   "execution_count": null,
   "id": "e0eefd16-5a93-4365-a970-0a5bd171b215",
   "metadata": {},
   "outputs": [],
   "source": [
    "merged_ds = ds.isel(time = 0)\n",
    "\n",
    "#Create a new variable 'urmask' with NaN values, matching the shape of var\n",
    "urmask_data = np.nan * np.ones_like(merged_ds[var].values)  # Create NaN-filled array with the same shape as var\n",
    "merged_ds['urmask'] = (merged_ds[var].dims, urmask_data)\n",
    "merged_ds = merged_ds.drop_vars(var)"
   ]
  },
  {
   "cell_type": "markdown",
   "id": "5d970932-dbdc-48e6-85ca-7476a66acc8c",
   "metadata": {},
   "source": [
    "### Merging the masks of each city together"
   ]
  },
  {
   "cell_type": "code",
   "execution_count": null,
   "id": "202d0ada-8163-417d-9c90-582fc63e58a3",
   "metadata": {},
   "outputs": [],
   "source": [
    "def merge_nc_files(folder_list, base_dir, merged_ds):\n",
    "    \"\"\"Merges multiple .nc files from different folders into a single dataset while ensuring no overlap.\"\"\"\n",
    "    \n",
    "    for folder in folder_list:\n",
    "        folder_path = os.path.join(base_dir, folder)\n",
    "        nc_files = glob.glob(os.path.join(folder_path, \"urmask*.nc\"))\n",
    "        if nc_files: \n",
    "            ds = xr.open_dataset(nc_files[0])  # Open the first .nc file in the folder\n",
    "            if ds.data_vars:\n",
    "                try:\n",
    "                    \n",
    "                    merged_ds = xr.merge([merged_ds, ds])\n",
    "                except Exception as e:\n",
    "                    continue    \n",
    "    return merged_ds"
   ]
  },
  {
   "cell_type": "code",
   "execution_count": null,
   "id": "acc5c742-f6ed-40ce-aa47-0ac3c4dfecaf",
   "metadata": {},
   "outputs": [],
   "source": [
    "base_dir = \"./results_CERRA\"\n",
    "\n",
    "dirs = [d for d in os.listdir(base_dir)]\n",
    "\n",
    "# Merge masks by model\n",
    "ds_CERRA = merge_nc_files(dirs, base_dir, merged_ds).compute()"
   ]
  },
  {
   "cell_type": "markdown",
   "id": "22eb2b16-4783-4f97-9ac2-ea7d74be59df",
   "metadata": {},
   "source": [
    "## Applying the Urban mask"
   ]
  },
  {
   "cell_type": "markdown",
   "id": "8c16536b-0fbc-4639-a447-dba19d334e80",
   "metadata": {},
   "source": [
    "### Filtering the mask to retain only urban values (where urmask equals 1)"
   ]
  },
  {
   "cell_type": "code",
   "execution_count": null,
   "id": "76ebec2d-f2e9-42af-9c71-d069f6ce969d",
   "metadata": {},
   "outputs": [],
   "source": [
    "#Replace values close to 0 by NaN in the mask\n",
    "mask_CERRA = ds_CERRA['urmask'].where(ds_CERRA['urmask'] > 0)"
   ]
  },
  {
   "cell_type": "markdown",
   "id": "b81d180d-787b-4e7d-9444-d6d919cebfdf",
   "metadata": {},
   "source": [
    "### Apply the mask"
   ]
  },
  {
   "cell_type": "code",
   "execution_count": null,
   "id": "18da1e3e-42cb-4f70-b3e0-1d2f34f4399e",
   "metadata": {
    "scrolled": true
   },
   "outputs": [],
   "source": [
    "root_nc = root + domain + '/'  + name\n",
    "var = name.split('_')[0]\n",
    "\n",
    "ds = xr.open_dataset(root_nc, engine=\"netcdf4\", \n",
    "                    chunks={\"member\": 1, \"time\": 120})"
   ]
  },
  {
   "cell_type": "code",
   "execution_count": null,
   "id": "0a32520b-3a89-4c40-b22f-3076a8463973",
   "metadata": {},
   "outputs": [],
   "source": [
    "ds_merged=ds\n",
    "ds_merged[var] = ds_merged[var] * mask_CERRA"
   ]
  },
  {
   "cell_type": "markdown",
   "id": "4bad4846-6d7f-4f24-abdb-58bfe35d6010",
   "metadata": {},
   "source": [
    "### Merge models and save the dataset"
   ]
  },
  {
   "cell_type": "code",
   "execution_count": null,
   "id": "500c73cc-812b-432c-954a-96fb650fb696",
   "metadata": {
    "scrolled": true
   },
   "outputs": [],
   "source": [
    "ds_merged.to_netcdf(root_urb + name_urb, encoding={var: {\"zlib\": True, \"complevel\": 1}})"
   ]
  },
  {
   "cell_type": "markdown",
   "id": "26f47ce0-a5b2-48cf-8331-518010eb533b",
   "metadata": {},
   "source": [
    "## Applying the Rural mask"
   ]
  },
  {
   "cell_type": "code",
   "execution_count": null,
   "id": "2413ca37-e56d-4a7d-b7b1-aa2a6fb61f2d",
   "metadata": {},
   "outputs": [],
   "source": [
    "import gc\n",
    "del ds_merged  # Eliminar variables\n",
    "gc.collect()  # Liberar memorian"
   ]
  },
  {
   "cell_type": "markdown",
   "id": "8fa3a01f-4e83-427d-8a01-620050a9c5cc",
   "metadata": {},
   "source": [
    "### Filtering the mask to retain only rual values (where urmask equals 0)"
   ]
  },
  {
   "cell_type": "code",
   "execution_count": null,
   "id": "67b4f668-e7ec-4cad-b0d8-3b8d577358d1",
   "metadata": {},
   "outputs": [],
   "source": [
    "#Replacing values of 0 with 1 and all other values with NaN in the mask\n",
    "mask_CERRA = xr.where(ds_CERRA['urmask'] == 0, 1, float(\"nan\"))"
   ]
  },
  {
   "cell_type": "markdown",
   "id": "f5411666-aa14-40ba-8e8a-204db763b2df",
   "metadata": {},
   "source": [
    "### Apply the mask"
   ]
  },
  {
   "cell_type": "code",
   "execution_count": null,
   "id": "baff6747-1d5c-42f9-a5bb-f11c4f268bbb",
   "metadata": {
    "scrolled": true
   },
   "outputs": [],
   "source": [
    "ds = xr.open_dataset(root_nc, engine=\"netcdf4\", \n",
    "                    chunks={\"member\": 1, \"time\": 120})"
   ]
  },
  {
   "cell_type": "code",
   "execution_count": null,
   "id": "62528308-4748-4855-bf5e-3bca83f5c480",
   "metadata": {},
   "outputs": [],
   "source": [
    "ds_merged=ds\n",
    "ds_merged[var] = ds_merged[var] * mask_CERRA"
   ]
  },
  {
   "cell_type": "markdown",
   "id": "2450f63b-758e-4e24-a6d0-d5ec0ff6708f",
   "metadata": {},
   "source": [
    "### Merge models and save the dataset"
   ]
  },
  {
   "cell_type": "code",
   "execution_count": null,
   "id": "9c21bf0e-c2c2-4393-8dc5-2fa1c92e6a9c",
   "metadata": {},
   "outputs": [],
   "source": [
    "ds_merged.to_netcdf(root_rur + name_rur, encoding={var: {\"zlib\": True, \"complevel\": 1}})"
   ]
  }
 ],
 "metadata": {
  "kernelspec": {
   "display_name": "Python 3 (ipykernel)",
   "language": "python",
   "name": "python3"
  },
  "language_info": {
   "codemirror_mode": {
    "name": "ipython",
    "version": 3
   },
   "file_extension": ".py",
   "mimetype": "text/x-python",
   "name": "python",
   "nbconvert_exporter": "python",
   "pygments_lexer": "ipython3",
   "version": "3.12.6"
  }
 },
 "nbformat": 4,
 "nbformat_minor": 5
}
